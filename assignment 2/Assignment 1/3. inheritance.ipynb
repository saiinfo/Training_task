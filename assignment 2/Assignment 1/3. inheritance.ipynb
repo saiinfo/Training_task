{
 "cells": [
  {
   "cell_type": "markdown",
   "metadata": {},
   "source": [
    "Inheritance inherit attributes and methods from one class to\n",
    "another"
   ]
  },
  {
   "cell_type": "code",
   "execution_count": 2,
   "metadata": {},
   "outputs": [
    {
     "name": "stdout",
     "output_type": "stream",
     "text": [
      "The name of Employee: 1 is Riju\n",
      "The name of Employee: 2 is Hrushikesh\n",
      "The default langauge is Python\n"
     ]
    }
   ],
   "source": [
    "class Employee:\n",
    "  def __init__(self, name, id):\n",
    "    self.name = name\n",
    "    self.id = id \n",
    "\n",
    "  def showDetails(self):\n",
    "    print(f\"The name of Employee: {self.id} is {self.name}\")\n",
    "\n",
    "class Programmer(Employee):\n",
    "  def showLanguage(self):\n",
    "    print(\"The default langauge is Python\")\n",
    "\n",
    "\n",
    "e1 = Employee(\"Riju\", 1)\n",
    "e1.showDetails()\n",
    "e2 = Programmer(\"Hrushikesh\", 2)\n",
    "e2.showDetails()\n",
    "e2.showLanguage()"
   ]
  }
 ],
 "metadata": {
  "kernelspec": {
   "display_name": "base",
   "language": "python",
   "name": "python3"
  },
  "language_info": {
   "codemirror_mode": {
    "name": "ipython",
    "version": 3
   },
   "file_extension": ".py",
   "mimetype": "text/x-python",
   "name": "python",
   "nbconvert_exporter": "python",
   "pygments_lexer": "ipython3",
   "version": "3.11.4"
  }
 },
 "nbformat": 4,
 "nbformat_minor": 2
}
