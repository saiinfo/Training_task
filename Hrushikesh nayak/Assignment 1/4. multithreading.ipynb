{
 "cells": [
  {
   "cell_type": "code",
   "execution_count": 7,
   "metadata": {},
   "outputs": [
    {
     "name": "stdout",
     "output_type": "stream",
     "text": [
      "Sleeping for 4 seconds\n",
      "Sleeping for 2 seconds\n",
      "Sleeping for 1 seconds\n",
      "7.01291800000763\n"
     ]
    }
   ],
   "source": [
    "import time\n",
    "\n",
    "\n",
    "def func(seconds):\n",
    "  print(f\"Sleeping for {seconds} seconds\")\n",
    "  time.sleep(seconds)\n",
    "  return seconds\n",
    "\n",
    "time1 = time.perf_counter()\n",
    "func(4) \n",
    "func(2)\n",
    "func(1)\n",
    "\n",
    "\n",
    "# Calculating Time \n",
    "time2 = time.perf_counter()\n",
    "print(time2 - time1)"
   ]
  },
  {
   "cell_type": "code",
   "execution_count": 8,
   "metadata": {},
   "outputs": [
    {
     "name": "stdout",
     "output_type": "stream",
     "text": [
      "Sleeping for 4 seconds\n",
      "Sleeping for 2 seconds\n",
      "Sleeping for 1 seconds\n",
      "4.006385915999999\n"
     ]
    }
   ],
   "source": [
    "import threading\n",
    "import time\n",
    "\n",
    "def func(seconds):\n",
    "  print(f\"Sleeping for {seconds} seconds\")\n",
    "  time.sleep(seconds)\n",
    "  return seconds\n",
    "\n",
    "\n",
    "time1 = time.perf_counter()\n",
    "t1 = threading.Thread(target=func, args=[4])\n",
    "t2 = threading.Thread(target=func, args=[2])\n",
    "t3 = threading.Thread(target=func, args=[1])\n",
    "t1.start()\n",
    "t2.start()\n",
    "t3.start()\n",
    "\n",
    "t1.join()\n",
    "t2.join()\n",
    "t3.join()\n",
    "  \n",
    "\n",
    "# Calculating Time \n",
    "time2 = time.perf_counter()\n",
    "print(time2 - time1)\n"
   ]
  }
 ],
 "metadata": {
  "kernelspec": {
   "display_name": "base",
   "language": "python",
   "name": "python3"
  },
  "language_info": {
   "codemirror_mode": {
    "name": "ipython",
    "version": 3
   },
   "file_extension": ".py",
   "mimetype": "text/x-python",
   "name": "python",
   "nbconvert_exporter": "python",
   "pygments_lexer": "ipython3",
   "version": "3.11.4"
  }
 },
 "nbformat": 4,
 "nbformat_minor": 2
}
