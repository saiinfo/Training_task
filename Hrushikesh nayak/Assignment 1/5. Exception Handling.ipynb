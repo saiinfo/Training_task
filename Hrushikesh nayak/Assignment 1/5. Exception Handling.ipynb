{
 "cells": [
  {
   "cell_type": "code",
   "execution_count": 9,
   "metadata": {},
   "outputs": [
    {
     "name": "stdout",
     "output_type": "stream",
     "text": [
      "Invalid  Input!\n",
      "done\n"
     ]
    }
   ],
   "source": [
    "a = input(\"Enter the number: \")\n",
    "try:\n",
    "  for i in range(1, 11):\n",
    "    print(f\"{int(a)} X {i} = {int(a)*i}\")\n",
    "except:\n",
    "  print(\"Invalid  Input!\")\n",
    "\n",
    "print(\"done\")"
   ]
  }
 ],
 "metadata": {
  "kernelspec": {
   "display_name": "base",
   "language": "python",
   "name": "python3"
  },
  "language_info": {
   "codemirror_mode": {
    "name": "ipython",
    "version": 3
   },
   "file_extension": ".py",
   "mimetype": "text/x-python",
   "name": "python",
   "nbconvert_exporter": "python",
   "pygments_lexer": "ipython3",
   "version": "3.11.4"
  }
 },
 "nbformat": 4,
 "nbformat_minor": 2
}
