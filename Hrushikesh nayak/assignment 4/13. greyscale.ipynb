{
 "cells": [
  {
   "cell_type": "code",
   "execution_count": 1,
   "metadata": {},
   "outputs": [
    {
     "name": "stdout",
     "output_type": "stream",
     "text": [
      "Mean Squared Error (MSE) between the images: 107.78028812717338\n"
     ]
    }
   ],
   "source": [
    "import cv2\n",
    "import numpy as np\n",
    "\n",
    "def capture_grayscale_webcam_image():\n",
    "    cap = cv2.VideoCapture(0)  \n",
    "    \n",
    "    if not cap.isOpened():\n",
    "        print(\"Error: Unable to access the webcam.\")\n",
    "        return None\n",
    "\n",
    "    ret, frame = cap.read()\n",
    "    if not ret:\n",
    "        print(\"Error: Unable to capture an image from the webcam.\")\n",
    "        cap.release()\n",
    "        return None\n",
    "\n",
    "    cap.release()\n",
    "    return cv2.cvtColor(frame, cv2.COLOR_BGR2GRAY)\n",
    "\n",
    "def compare_images(image1, image2):\n",
    "    if image1.shape != image2.shape:\n",
    "        return -1 \n",
    "\n",
    "    mse = np.mean((image1 - image2) ** 2)\n",
    "    return mse\n",
    "\n",
    "webcam_image = capture_grayscale_webcam_image()\n",
    "\n",
    "if webcam_image is not None:\n",
    "    reference_image = cv2.imread(\"/Users/hrushikeshnayak/Desktop/assignment/traning/ML/2Q==.jpeg\", cv2.IMREAD_GRAYSCALE)\n",
    "\n",
    "    if reference_image is not None:\n",
    "        webcam_image = cv2.resize(webcam_image, (reference_image.shape[1], reference_image.shape[0]))\n",
    "\n",
    "        mse = compare_images(webcam_image, reference_image)\n",
    "\n",
    "        if mse != -1:\n",
    "            print(f\"Mean Squared Error (MSE) between the images: {mse}\")\n",
    "        else:\n",
    "            print(\"Error: Images have different sizes.\")\n",
    "    else:\n",
    "        print(\"Error: Unable to load the reference image.\")\n"
   ]
  }
 ],
 "metadata": {
  "kernelspec": {
   "display_name": "base",
   "language": "python",
   "name": "python3"
  },
  "language_info": {
   "codemirror_mode": {
    "name": "ipython",
    "version": 3
   },
   "file_extension": ".py",
   "mimetype": "text/x-python",
   "name": "python",
   "nbconvert_exporter": "python",
   "pygments_lexer": "ipython3",
   "version": "3.11.4"
  }
 },
 "nbformat": 4,
 "nbformat_minor": 2
}
