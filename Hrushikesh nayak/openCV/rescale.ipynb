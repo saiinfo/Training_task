{
 "cells": [
  {
   "cell_type": "markdown",
   "metadata": {},
   "source": [
    "rescale"
   ]
  },
  {
   "cell_type": "code",
   "execution_count": null,
   "metadata": {},
   "outputs": [],
   "source": [
    "import cv2 as cv\n",
    "\n",
    "def rescaleFrame(frame, scale=0.75):\n",
    "\n",
    "    if frame is not None:\n",
    "        width = int(frame.shape[1] * scale)\n",
    "        height = int(frame.shape[0] * scale)\n",
    "        dimensions = (width, height)\n",
    "        return cv.resize(frame, dimensions, interpolation=cv.INTER_AREA)\n",
    "    else:\n",
    "        return None\n",
    "    \n",
    "    def changeRes(width , height):\n",
    "        #live vedio ->\n",
    "        capture.set(3 , width)\n",
    "        capture.set(4 , width)\n",
    "        \n",
    "# Reading Videos\n",
    "capture = cv.VideoCapture('/Users/hrushikeshnayak/Desktop/assignment/OpenCV/Videos/dog.mp4')\n",
    "\n",
    "while True:\n",
    "    isTrue, frame = capture.read()\n",
    "\n",
    "    frame_resized = rescaleFrame(frame, scale=0.2)\n",
    "    \n",
    "    if frame_resized is not None:\n",
    "        cv.imshow('Video', frame)\n",
    "        cv.imshow('Video Resized', frame_resized)\n",
    "\n",
    "    if cv.waitKey(20) & 0xFF == ord('d'):\n",
    "        break\n",
    "\n",
    "capture.release()\n",
    "cv.destroyAllWindows()\n"
   ]
  },
  {
   "cell_type": "markdown",
   "metadata": {},
   "source": [
    "DRAW"
   ]
  },
  {
   "cell_type": "code",
   "execution_count": 1,
   "metadata": {},
   "outputs": [],
   "source": [
    "import cv2 as cv\n",
    "import numpy as np \n",
    "\n",
    "blank = np.zeros((500 , 500 , 3) , dtype = 'uint8')\n",
    "cv.imshow('Blank' , blank)\n",
    "#opening cat image\n",
    "# img = cv.imread('/Users/hrushikeshnayak/Desktop/assignment/OpenCV/Photos/cat.jpg')\n",
    "# cv.imshow('cat' , img)\n",
    "\n",
    "# 1 . paint the image a certain color\n",
    "blank[:] = 0, 255 , 0 #green\n",
    "cv.imshow('green' , blank)\n",
    "\n",
    "# 2 . draw a rectangle\n",
    "cv.rectangle(blank, (0, 0), (blank.shape[1] // 2, blank.shape[0] // 2), (137,0 , 0), thickness=-1)\n",
    "cv.imshow('Rectangle', blank)\n",
    "\n",
    "#3 . draw a circle\n",
    "cv.circle(blank , (blank.shape[1] // 2, blank.shape[0] // 2) , 40 , (0, 0 ,255) , thickness = -3)\n",
    "cv.imshow('Circle' , blank)\n",
    "\n",
    "#4 draw a line\n",
    "cv.line(blank, (0, 0), (blank.shape[1] // 2, blank.shape[0] // 2), (255, 255, 255), thickness=3)\n",
    "cv.imshow('line' , blank)\n",
    "\n",
    "#5. write text on an image \n",
    "cv.putText(blank , 'Hello riju ' , (225,225) , cv.FONT_HERSHEY_TRIPLEX , 1.0 , (45,24,0) , 2)\n",
    "cv.imshow('text' , blank)\n",
    "\n",
    "cv.waitKey(0)"
   ]
  },
  {
   "cell_type": "code",
   "execution_count": null,
   "metadata": {},
   "outputs": [],
   "source": []
  }
 ],
 "metadata": {
  "kernelspec": {
   "display_name": "base",
   "language": "python",
   "name": "python3"
  },
  "language_info": {
   "codemirror_mode": {
    "name": "ipython",
    "version": 3
   },
   "file_extension": ".py",
   "mimetype": "text/x-python",
   "name": "python",
   "nbconvert_exporter": "python",
   "pygments_lexer": "ipython3",
   "version": "3.11.4"
  }
 },
 "nbformat": 4,
 "nbformat_minor": 2
}
