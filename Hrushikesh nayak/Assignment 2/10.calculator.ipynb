{
 "cells": [
  {
   "cell_type": "code",
   "execution_count": 14,
   "metadata": {},
   "outputs": [
    {
     "name": "stdout",
     "output_type": "stream",
     "text": [
      "first number  34.0\n",
      "second number  2.0\n",
      "operation peformed  *\n",
      "68.0\n"
     ]
    }
   ],
   "source": [
    "first_num = float(input(\"type first number: \"))\n",
    "second_num = float(input(\"type second number: \"))\n",
    "operation = str(input(\"choose + , * , / , - : \"))\n",
    "\n",
    "print('first number ', first_num)\n",
    "print('second number ',second_num)\n",
    "print('operation peformed ',operation)\n",
    "\n",
    "if operation == '+':\n",
    "    print(first_num+second_num)\n",
    "elif operation == '*':\n",
    "    print(first_num*second_num)\n",
    "elif operation == '/':\n",
    "    print(first_num/second_num)\n",
    "elif operation == '-':\n",
    "    print(first_num-second_num)\n",
    "else:\n",
    "    print('invalid operation')\n"
   ]
  }
 ],
 "metadata": {
  "kernelspec": {
   "display_name": "base",
   "language": "python",
   "name": "python3"
  },
  "language_info": {
   "codemirror_mode": {
    "name": "ipython",
    "version": 3
   },
   "file_extension": ".py",
   "mimetype": "text/x-python",
   "name": "python",
   "nbconvert_exporter": "python",
   "pygments_lexer": "ipython3",
   "version": "3.11.4"
  }
 },
 "nbformat": 4,
 "nbformat_minor": 2
}
