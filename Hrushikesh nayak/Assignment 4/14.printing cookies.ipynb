{
 "cells": [
  {
   "cell_type": "markdown",
   "metadata": {},
   "source": [
    "in views.py"
   ]
  },
  {
   "cell_type": "code",
   "execution_count": null,
   "metadata": {},
   "outputs": [],
   "source": [
    "from django.http import HttpResponse\n",
    "\n",
    "def print_cookies(request):\n",
    "    cookies = request.COOKIES  \n",
    "\n",
    "    if cookies:\n",
    "        response = \"Cookies:<br>\"\n",
    "        for key, value in cookies.items():\n",
    "            response += f\"{key}: {value}<br>\"\n",
    "    else:\n",
    "        response = \"No cookies found.\"\n",
    "\n",
    "    return HttpResponse(response)\n"
   ]
  },
  {
   "cell_type": "markdown",
   "metadata": {},
   "source": [
    "creating an URL "
   ]
  },
  {
   "cell_type": "code",
   "execution_count": null,
   "metadata": {},
   "outputs": [],
   "source": [
    "from django.urls import path\n",
    "from . import views\n",
    "\n",
    "urlpatterns = [\n",
    "    path('print_cookies/', views.print_cookies, name='print_cookies'),\n",
    "]\n"
   ]
  }
 ],
 "metadata": {
  "language_info": {
   "name": "python"
  }
 },
 "nbformat": 4,
 "nbformat_minor": 2
}
