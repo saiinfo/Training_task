{
 "cells": [
  {
   "cell_type": "code",
   "execution_count": 4,
   "metadata": {},
   "outputs": [
    {
     "ename": "TypeError",
     "evalue": "'<' not supported between instances of 'str' and 'int'",
     "output_type": "error",
     "traceback": [
      "\u001b[0;31m---------------------------------------------------------------------------\u001b[0m",
      "\u001b[0;31mTypeError\u001b[0m                                 Traceback (most recent call last)",
      "\u001b[1;32m/Users/hrushikeshnayak/Desktop/assignment/traning/ML/assignment 4/hi.ipynb Cell 1\u001b[0m line \u001b[0;36m4\n\u001b[1;32m      <a href='vscode-notebook-cell:/Users/hrushikeshnayak/Desktop/assignment/traning/ML/assignment%204/hi.ipynb#W0sZmlsZQ%3D%3D?line=0'>1</a>\u001b[0m \u001b[39mimport\u001b[39;00m \u001b[39mpyautogui\u001b[39;00m\n\u001b[1;32m      <a href='vscode-notebook-cell:/Users/hrushikeshnayak/Desktop/assignment/traning/ML/assignment%204/hi.ipynb#W0sZmlsZQ%3D%3D?line=2'>3</a>\u001b[0m \u001b[39m# Capture a screenshot\u001b[39;00m\n\u001b[0;32m----> <a href='vscode-notebook-cell:/Users/hrushikeshnayak/Desktop/assignment/traning/ML/assignment%204/hi.ipynb#W0sZmlsZQ%3D%3D?line=3'>4</a>\u001b[0m myScreenshot \u001b[39m=\u001b[39m pyautogui\u001b[39m.\u001b[39mscreenshot()\n\u001b[1;32m      <a href='vscode-notebook-cell:/Users/hrushikeshnayak/Desktop/assignment/traning/ML/assignment%204/hi.ipynb#W0sZmlsZQ%3D%3D?line=5'>6</a>\u001b[0m \u001b[39m# Save the screenshot to a specific file path\u001b[39;00m\n\u001b[1;32m      <a href='vscode-notebook-cell:/Users/hrushikeshnayak/Desktop/assignment/traning/ML/assignment%204/hi.ipynb#W0sZmlsZQ%3D%3D?line=6'>7</a>\u001b[0m file_path \u001b[39m=\u001b[39m \u001b[39m\"\u001b[39m\u001b[39m/Users/hrushikeshnayak/Desktop/assignment/training/ML/assignment 4/screen_schot.png\u001b[39m\u001b[39m\"\u001b[39m\n",
      "File \u001b[0;32m~/anaconda3/lib/python3.11/site-packages/pyscreeze/__init__.py:527\u001b[0m, in \u001b[0;36m_screenshot_osx\u001b[0;34m(imageFilename, region)\u001b[0m\n\u001b[1;32m    523\u001b[0m \u001b[39m\u001b[39m\u001b[39m\"\"\"\u001b[39;00m\n\u001b[1;32m    524\u001b[0m \u001b[39mTODO\u001b[39;00m\n\u001b[1;32m    525\u001b[0m \u001b[39m\"\"\"\u001b[39;00m\n\u001b[1;32m    526\u001b[0m \u001b[39m# TODO - use tmp name for this file.\u001b[39;00m\n\u001b[0;32m--> 527\u001b[0m \u001b[39mif\u001b[39;00m \u001b[39mtuple\u001b[39m(PIL__version__) \u001b[39m<\u001b[39m (\u001b[39m6\u001b[39m, \u001b[39m2\u001b[39m, \u001b[39m1\u001b[39m):\n\u001b[1;32m    528\u001b[0m     \u001b[39m# Use the screencapture program if Pillow is older than 6.2.1, which\u001b[39;00m\n\u001b[1;32m    529\u001b[0m     \u001b[39m# is when Pillow supported ImageGrab.grab() on macOS. (It may have\u001b[39;00m\n\u001b[1;32m    530\u001b[0m     \u001b[39m# supported it earlier than 6.2.1, but I haven't tested it.)\u001b[39;00m\n\u001b[1;32m    531\u001b[0m     \u001b[39mif\u001b[39;00m imageFilename \u001b[39mis\u001b[39;00m \u001b[39mNone\u001b[39;00m:\n\u001b[1;32m    532\u001b[0m         tmpFilename \u001b[39m=\u001b[39m \u001b[39m'\u001b[39m\u001b[39mscreenshot\u001b[39m\u001b[39m%s\u001b[39;00m\u001b[39m.png\u001b[39m\u001b[39m'\u001b[39m \u001b[39m%\u001b[39m (datetime\u001b[39m.\u001b[39mdatetime\u001b[39m.\u001b[39mnow()\u001b[39m.\u001b[39mstrftime(\u001b[39m'\u001b[39m\u001b[39m%\u001b[39m\u001b[39mY-\u001b[39m\u001b[39m%\u001b[39m\u001b[39mm\u001b[39m\u001b[39m%d\u001b[39;00m\u001b[39m_\u001b[39m\u001b[39m%\u001b[39m\u001b[39mH-\u001b[39m\u001b[39m%\u001b[39m\u001b[39mM-\u001b[39m\u001b[39m%\u001b[39m\u001b[39mS-\u001b[39m\u001b[39m%f\u001b[39;00m\u001b[39m'\u001b[39m))\n",
      "\u001b[0;31mTypeError\u001b[0m: '<' not supported between instances of 'str' and 'int'"
     ]
    }
   ],
   "source": [
    "import pyautogui\n",
    "\n",
    "# Capture a screenshot\n",
    "myScreenshot = pyautogui.screenshot()\n",
    "\n",
    "# Save the screenshot to a specific file path\n",
    "file_path = \"/Users/hrushikeshnayak/Desktop/assignment/training/ML/assignment 4/screen_schot.png\"\n",
    "myScreenshot.save(file_path)\n"
   ]
  }
 ],
 "metadata": {
  "kernelspec": {
   "display_name": "base",
   "language": "python",
   "name": "python3"
  },
  "language_info": {
   "codemirror_mode": {
    "name": "ipython",
    "version": 3
   },
   "file_extension": ".py",
   "mimetype": "text/x-python",
   "name": "python",
   "nbconvert_exporter": "python",
   "pygments_lexer": "ipython3",
   "version": "3.11.4"
  }
 },
 "nbformat": 4,
 "nbformat_minor": 2
}
