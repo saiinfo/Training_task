{
 "cells": [
  {
   "cell_type": "code",
   "execution_count": null,
   "metadata": {},
   "outputs": [],
   "source": [
    "class Robot:\n",
    "    def __init__(self, name, model):\n",
    "        self.name = name\n",
    "        self.model = model\n",
    "        self.battery = 100  \n",
    "\n",
    "    def move(self, distance):\n",
    "        if self.battery >= distance:\n",
    "            print(f\"{self.name} is moving {distance} meters.\")\n",
    "            self.battery -= distance\n",
    "        else:\n",
    "            print(f\"{self.name} doesn't have enough battery to move {distance} meters.\")\n",
    "\n",
    "    def charge(self):\n",
    "        self.battery = 100\n",
    "        print(f\"{self.name} has been recharged to 100% battery.\")\n",
    "\n",
    "\n",
    "robot1 = Robot(\"Robo1\", \"Model A\")\n",
    "robot2 = Robot(\"Robo2\", \"Model B\")\n",
    "\n",
    "\n",
    "robot1.move(50)\n",
    "robot2.move(80)\n",
    "\n",
    "robot1.charge()\n"
   ]
  }
 ],
 "metadata": {
  "language_info": {
   "name": "python"
  }
 },
 "nbformat": 4,
 "nbformat_minor": 2
}
