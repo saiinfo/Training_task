{
 "cells": [
  {
   "cell_type": "code",
   "execution_count": 1,
   "id": "67827e21-7b6f-4002-91fa-34c294168a95",
   "metadata": {},
   "outputs": [
    {
     "name": "stdout",
     "output_type": "stream",
     "text": [
      "^C\n"
     ]
    }
   ],
   "source": [
    "!conda install -c conda-forge pandoc"
   ]
  },
  {
   "cell_type": "code",
   "execution_count": 83,
   "id": "26a2955c-1730-4e07-8c32-c90eaeb7166b",
   "metadata": {},
   "outputs": [
    {
     "name": "stdout",
     "output_type": "stream",
     "text": [
      "Collecting notebook-as-pdf\n",
      "  Downloading notebook_as_pdf-0.5.0-py3-none-any.whl.metadata (2.4 kB)\n",
      "Requirement already satisfied: nbconvert in c:\\users\\asus\\anaconda3\\lib\\site-packages (from notebook-as-pdf) (7.10.0)\n",
      "Collecting pyppeteer (from notebook-as-pdf)\n",
      "  Downloading pyppeteer-2.0.0-py3-none-any.whl.metadata (7.1 kB)\n",
      "Collecting PyPDF2 (from notebook-as-pdf)\n",
      "  Downloading pypdf2-3.0.1-py3-none-any.whl.metadata (6.8 kB)\n",
      "Requirement already satisfied: beautifulsoup4 in c:\\users\\asus\\anaconda3\\lib\\site-packages (from nbconvert->notebook-as-pdf) (4.12.3)\n",
      "Requirement already satisfied: bleach!=5.0.0 in c:\\users\\asus\\anaconda3\\lib\\site-packages (from nbconvert->notebook-as-pdf) (4.1.0)\n",
      "Requirement already satisfied: defusedxml in c:\\users\\asus\\anaconda3\\lib\\site-packages (from nbconvert->notebook-as-pdf) (0.7.1)\n",
      "Requirement already satisfied: jinja2>=3.0 in c:\\users\\asus\\anaconda3\\lib\\site-packages (from nbconvert->notebook-as-pdf) (3.1.4)\n",
      "Requirement already satisfied: jupyter-core>=4.7 in c:\\users\\asus\\anaconda3\\lib\\site-packages (from nbconvert->notebook-as-pdf) (5.7.2)\n",
      "Requirement already satisfied: jupyterlab-pygments in c:\\users\\asus\\anaconda3\\lib\\site-packages (from nbconvert->notebook-as-pdf) (0.1.2)\n",
      "Requirement already satisfied: markupsafe>=2.0 in c:\\users\\asus\\anaconda3\\lib\\site-packages (from nbconvert->notebook-as-pdf) (2.1.3)\n",
      "Requirement already satisfied: mistune<4,>=2.0.3 in c:\\users\\asus\\anaconda3\\lib\\site-packages (from nbconvert->notebook-as-pdf) (2.0.4)\n",
      "Requirement already satisfied: nbclient>=0.5.0 in c:\\users\\asus\\anaconda3\\lib\\site-packages (from nbconvert->notebook-as-pdf) (0.8.0)\n",
      "Requirement already satisfied: nbformat>=5.7 in c:\\users\\asus\\anaconda3\\lib\\site-packages (from nbconvert->notebook-as-pdf) (5.9.2)\n",
      "Requirement already satisfied: packaging in c:\\users\\asus\\anaconda3\\lib\\site-packages (from nbconvert->notebook-as-pdf) (23.2)\n",
      "Requirement already satisfied: pandocfilters>=1.4.1 in c:\\users\\asus\\anaconda3\\lib\\site-packages (from nbconvert->notebook-as-pdf) (1.5.0)\n",
      "Requirement already satisfied: pygments>=2.4.1 in c:\\users\\asus\\anaconda3\\lib\\site-packages (from nbconvert->notebook-as-pdf) (2.15.1)\n",
      "Requirement already satisfied: tinycss2 in c:\\users\\asus\\anaconda3\\lib\\site-packages (from nbconvert->notebook-as-pdf) (1.2.1)\n",
      "Requirement already satisfied: traitlets>=5.1 in c:\\users\\asus\\anaconda3\\lib\\site-packages (from nbconvert->notebook-as-pdf) (5.14.3)\n",
      "Requirement already satisfied: appdirs<2.0.0,>=1.4.3 in c:\\users\\asus\\anaconda3\\lib\\site-packages (from pyppeteer->notebook-as-pdf) (1.4.4)\n",
      "Requirement already satisfied: certifi>=2023 in c:\\users\\asus\\anaconda3\\lib\\site-packages (from pyppeteer->notebook-as-pdf) (2024.7.4)\n",
      "Requirement already satisfied: importlib-metadata>=1.4 in c:\\users\\asus\\anaconda3\\lib\\site-packages (from pyppeteer->notebook-as-pdf) (7.0.1)\n",
      "Collecting pyee<12.0.0,>=11.0.0 (from pyppeteer->notebook-as-pdf)\n",
      "  Downloading pyee-11.1.1-py3-none-any.whl.metadata (2.8 kB)\n",
      "Requirement already satisfied: tqdm<5.0.0,>=4.42.1 in c:\\users\\asus\\anaconda3\\lib\\site-packages (from pyppeteer->notebook-as-pdf) (4.66.4)\n",
      "Collecting urllib3<2.0.0,>=1.25.8 (from pyppeteer->notebook-as-pdf)\n",
      "  Downloading urllib3-1.26.20-py2.py3-none-any.whl.metadata (50 kB)\n",
      "     ---------------------------------------- 0.0/50.1 kB ? eta -:--:--\n",
      "     ---------------------------------------- 50.1/50.1 kB 2.5 MB/s eta 0:00:00\n",
      "Collecting websockets<11.0,>=10.0 (from pyppeteer->notebook-as-pdf)\n",
      "  Downloading websockets-10.4.tar.gz (84 kB)\n",
      "     ---------------------------------------- 0.0/84.9 kB ? eta -:--:--\n",
      "     ---------------------------------------- 84.9/84.9 kB 4.7 MB/s eta 0:00:00\n",
      "  Preparing metadata (setup.py): started\n",
      "  Preparing metadata (setup.py): finished with status 'done'\n",
      "Requirement already satisfied: six>=1.9.0 in c:\\users\\asus\\anaconda3\\lib\\site-packages (from bleach!=5.0.0->nbconvert->notebook-as-pdf) (1.16.0)\n",
      "Requirement already satisfied: webencodings in c:\\users\\asus\\anaconda3\\lib\\site-packages (from bleach!=5.0.0->nbconvert->notebook-as-pdf) (0.5.1)\n",
      "Requirement already satisfied: zipp>=0.5 in c:\\users\\asus\\anaconda3\\lib\\site-packages (from importlib-metadata>=1.4->pyppeteer->notebook-as-pdf) (3.17.0)\n",
      "Requirement already satisfied: platformdirs>=2.5 in c:\\users\\asus\\anaconda3\\lib\\site-packages (from jupyter-core>=4.7->nbconvert->notebook-as-pdf) (3.10.0)\n",
      "Requirement already satisfied: pywin32>=300 in c:\\users\\asus\\anaconda3\\lib\\site-packages (from jupyter-core>=4.7->nbconvert->notebook-as-pdf) (305.1)\n",
      "Requirement already satisfied: jupyter-client>=6.1.12 in c:\\users\\asus\\anaconda3\\lib\\site-packages (from nbclient>=0.5.0->nbconvert->notebook-as-pdf) (8.6.0)\n",
      "Requirement already satisfied: fastjsonschema in c:\\users\\asus\\anaconda3\\lib\\site-packages (from nbformat>=5.7->nbconvert->notebook-as-pdf) (2.16.2)\n",
      "Requirement already satisfied: jsonschema>=2.6 in c:\\users\\asus\\anaconda3\\lib\\site-packages (from nbformat>=5.7->nbconvert->notebook-as-pdf) (4.19.2)\n",
      "Requirement already satisfied: typing-extensions in c:\\users\\asus\\anaconda3\\lib\\site-packages (from pyee<12.0.0,>=11.0.0->pyppeteer->notebook-as-pdf) (4.11.0)\n",
      "Requirement already satisfied: colorama in c:\\users\\asus\\anaconda3\\lib\\site-packages (from tqdm<5.0.0,>=4.42.1->pyppeteer->notebook-as-pdf) (0.4.6)\n",
      "Requirement already satisfied: soupsieve>1.2 in c:\\users\\asus\\anaconda3\\lib\\site-packages (from beautifulsoup4->nbconvert->notebook-as-pdf) (2.5)\n",
      "Requirement already satisfied: attrs>=22.2.0 in c:\\users\\asus\\anaconda3\\lib\\site-packages (from jsonschema>=2.6->nbformat>=5.7->nbconvert->notebook-as-pdf) (23.1.0)\n",
      "Requirement already satisfied: jsonschema-specifications>=2023.03.6 in c:\\users\\asus\\anaconda3\\lib\\site-packages (from jsonschema>=2.6->nbformat>=5.7->nbconvert->notebook-as-pdf) (2023.7.1)\n",
      "Requirement already satisfied: referencing>=0.28.4 in c:\\users\\asus\\anaconda3\\lib\\site-packages (from jsonschema>=2.6->nbformat>=5.7->nbconvert->notebook-as-pdf) (0.30.2)\n",
      "Requirement already satisfied: rpds-py>=0.7.1 in c:\\users\\asus\\anaconda3\\lib\\site-packages (from jsonschema>=2.6->nbformat>=5.7->nbconvert->notebook-as-pdf) (0.10.6)\n",
      "Requirement already satisfied: python-dateutil>=2.8.2 in c:\\users\\asus\\anaconda3\\lib\\site-packages (from jupyter-client>=6.1.12->nbclient>=0.5.0->nbconvert->notebook-as-pdf) (2.9.0.post0)\n",
      "Requirement already satisfied: pyzmq>=23.0 in c:\\users\\asus\\anaconda3\\lib\\site-packages (from jupyter-client>=6.1.12->nbclient>=0.5.0->nbconvert->notebook-as-pdf) (25.1.2)\n",
      "Requirement already satisfied: tornado>=6.2 in c:\\users\\asus\\anaconda3\\lib\\site-packages (from jupyter-client>=6.1.12->nbclient>=0.5.0->nbconvert->notebook-as-pdf) (6.4.1)\n",
      "Downloading notebook_as_pdf-0.5.0-py3-none-any.whl (6.5 kB)\n",
      "Downloading pypdf2-3.0.1-py3-none-any.whl (232 kB)\n",
      "   ---------------------------------------- 0.0/232.6 kB ? eta -:--:--\n",
      "   --------------------------------------- 232.6/232.6 kB 13.9 MB/s eta 0:00:00\n",
      "Downloading pyppeteer-2.0.0-py3-none-any.whl (82 kB)\n",
      "   ---------------------------------------- 0.0/82.9 kB ? eta -:--:--\n",
      "   ---------------------------------------- 82.9/82.9 kB 4.8 MB/s eta 0:00:00\n",
      "Downloading pyee-11.1.1-py3-none-any.whl (15 kB)\n",
      "Downloading urllib3-1.26.20-py2.py3-none-any.whl (144 kB)\n",
      "   ---------------------------------------- 0.0/144.2 kB ? eta -:--:--\n",
      "   ---------------------------------------- 144.2/144.2 kB 8.9 MB/s eta 0:00:00\n",
      "Building wheels for collected packages: websockets\n",
      "  Building wheel for websockets (setup.py): started\n",
      "  Building wheel for websockets (setup.py): finished with status 'done'\n",
      "  Created wheel for websockets: filename=websockets-10.4-cp312-cp312-win_amd64.whl size=95035 sha256=c01945420cbf39dabeed26ac34383805bea1d6cfd1efd0187093a052f86a6d82\n",
      "  Stored in directory: c:\\users\\asus\\appdata\\local\\pip\\cache\\wheels\\80\\cf\\6d\\5d7e4c920cb41925a178b2d2621889c520d648bab487b1d7fd\n",
      "Successfully built websockets\n",
      "Installing collected packages: websockets, urllib3, PyPDF2, pyee, pyppeteer, notebook-as-pdf\n",
      "  Attempting uninstall: urllib3\n",
      "    Found existing installation: urllib3 2.2.2\n",
      "    Uninstalling urllib3-2.2.2:\n",
      "      Successfully uninstalled urllib3-2.2.2\n",
      "Successfully installed PyPDF2-3.0.1 notebook-as-pdf-0.5.0 pyee-11.1.1 pyppeteer-2.0.0 urllib3-1.26.20 websockets-10.4\n"
     ]
    }
   ],
   "source": [
    "!pip install -U notebook-as-pdf"
   ]
  },
  {
   "cell_type": "code",
   "execution_count": 2,
   "id": "d01ab255-3077-4bfa-89a0-75f700e25026",
   "metadata": {},
   "outputs": [
    {
     "ename": "KeyboardInterrupt",
     "evalue": "Interrupted by user",
     "output_type": "error",
     "traceback": [
      "\u001b[1;31m---------------------------------------------------------------------------\u001b[0m",
      "\u001b[1;31mKeyboardInterrupt\u001b[0m                         Traceback (most recent call last)",
      "Cell \u001b[1;32mIn[2], line 3\u001b[0m\n\u001b[0;32m      1\u001b[0m \u001b[38;5;66;03m#if statment\u001b[39;00m\n\u001b[1;32m----> 3\u001b[0m val\u001b[38;5;241m=\u001b[39m\u001b[38;5;28minput\u001b[39m(\u001b[38;5;124m\"\u001b[39m\u001b[38;5;124mEnter the number\u001b[39m\u001b[38;5;124m\"\u001b[39m)\n\u001b[0;32m      4\u001b[0m val_float\u001b[38;5;241m=\u001b[39m\u001b[38;5;28mfloat\u001b[39m(val)\n\u001b[0;32m      5\u001b[0m \u001b[38;5;28;01mif\u001b[39;00m(val_float\u001b[38;5;241m>\u001b[39m\u001b[38;5;241m100\u001b[39m):\n",
      "File \u001b[1;32m~\\anaconda3\\Lib\\site-packages\\ipykernel\\kernelbase.py:1262\u001b[0m, in \u001b[0;36mKernel.raw_input\u001b[1;34m(self, prompt)\u001b[0m\n\u001b[0;32m   1260\u001b[0m     msg \u001b[38;5;241m=\u001b[39m \u001b[38;5;124m\"\u001b[39m\u001b[38;5;124mraw_input was called, but this frontend does not support input requests.\u001b[39m\u001b[38;5;124m\"\u001b[39m\n\u001b[0;32m   1261\u001b[0m     \u001b[38;5;28;01mraise\u001b[39;00m StdinNotImplementedError(msg)\n\u001b[1;32m-> 1262\u001b[0m \u001b[38;5;28;01mreturn\u001b[39;00m \u001b[38;5;28mself\u001b[39m\u001b[38;5;241m.\u001b[39m_input_request(\n\u001b[0;32m   1263\u001b[0m     \u001b[38;5;28mstr\u001b[39m(prompt),\n\u001b[0;32m   1264\u001b[0m     \u001b[38;5;28mself\u001b[39m\u001b[38;5;241m.\u001b[39m_parent_ident[\u001b[38;5;124m\"\u001b[39m\u001b[38;5;124mshell\u001b[39m\u001b[38;5;124m\"\u001b[39m],\n\u001b[0;32m   1265\u001b[0m     \u001b[38;5;28mself\u001b[39m\u001b[38;5;241m.\u001b[39mget_parent(\u001b[38;5;124m\"\u001b[39m\u001b[38;5;124mshell\u001b[39m\u001b[38;5;124m\"\u001b[39m),\n\u001b[0;32m   1266\u001b[0m     password\u001b[38;5;241m=\u001b[39m\u001b[38;5;28;01mFalse\u001b[39;00m,\n\u001b[0;32m   1267\u001b[0m )\n",
      "File \u001b[1;32m~\\anaconda3\\Lib\\site-packages\\ipykernel\\kernelbase.py:1305\u001b[0m, in \u001b[0;36mKernel._input_request\u001b[1;34m(self, prompt, ident, parent, password)\u001b[0m\n\u001b[0;32m   1302\u001b[0m \u001b[38;5;28;01mexcept\u001b[39;00m \u001b[38;5;167;01mKeyboardInterrupt\u001b[39;00m:\n\u001b[0;32m   1303\u001b[0m     \u001b[38;5;66;03m# re-raise KeyboardInterrupt, to truncate traceback\u001b[39;00m\n\u001b[0;32m   1304\u001b[0m     msg \u001b[38;5;241m=\u001b[39m \u001b[38;5;124m\"\u001b[39m\u001b[38;5;124mInterrupted by user\u001b[39m\u001b[38;5;124m\"\u001b[39m\n\u001b[1;32m-> 1305\u001b[0m     \u001b[38;5;28;01mraise\u001b[39;00m \u001b[38;5;167;01mKeyboardInterrupt\u001b[39;00m(msg) \u001b[38;5;28;01mfrom\u001b[39;00m \u001b[38;5;28;01mNone\u001b[39;00m\n\u001b[0;32m   1306\u001b[0m \u001b[38;5;28;01mexcept\u001b[39;00m \u001b[38;5;167;01mException\u001b[39;00m:\n\u001b[0;32m   1307\u001b[0m     \u001b[38;5;28mself\u001b[39m\u001b[38;5;241m.\u001b[39mlog\u001b[38;5;241m.\u001b[39mwarning(\u001b[38;5;124m\"\u001b[39m\u001b[38;5;124mInvalid Message:\u001b[39m\u001b[38;5;124m\"\u001b[39m, exc_info\u001b[38;5;241m=\u001b[39m\u001b[38;5;28;01mTrue\u001b[39;00m)\n",
      "\u001b[1;31mKeyboardInterrupt\u001b[0m: Interrupted by user"
     ]
    }
   ],
   "source": [
    "#if statment\n",
    "\n",
    "val=input(\"Enter the number\")\n",
    "val_float=float(val)\n",
    "if(val_float>100):\n",
    "    print(\"the number is grater than 100\")\n",
    "    "
   ]
  },
  {
   "cell_type": "code",
   "execution_count": null,
   "id": "6d559409-6b7f-41cb-a178-91aea40e7469",
   "metadata": {},
   "outputs": [],
   "source": [
    "#Even or odd if-Else\n",
    "val=input(\"Enter the number\")\n",
    "val_float=float(val)\n",
    "if(val_float%2==0):\n",
    "    print(\"the number is even\")\n",
    "else:\n",
    "    print(\"the number is odd\")"
   ]
  },
  {
   "cell_type": "code",
   "execution_count": null,
   "id": "b0e07455-3f60-4f12-80e1-56e2e80db85c",
   "metadata": {},
   "outputs": [],
   "source": [
    "age=float(input(\"enter the age\"))\n",
    "if(age<18):\n",
    "    print(\"you are not allow to vote\")\n",
    "else:\n",
    "    print(\"you are allow to vote\")\n",
    "\n"
   ]
  },
  {
   "cell_type": "code",
   "execution_count": null,
   "id": "6e9d21c6-be80-4614-a9ba-2953207425bc",
   "metadata": {},
   "outputs": [],
   "source": [
    "#Nested if-else\n",
    "age=float(input(\"enter the number\"))\n",
    "if(age<18):\n",
    "    Print(\"you are small boy\")\n",
    "elif(age>18 and age<=30):\n",
    "    print(\"you are boy\")\n",
    "elif(age>30 and age<=50):\n",
    "    print(\"you are man\")\n",
    "else:\n",
    "    print(\"senior citizen\")"
   ]
  },
  {
   "cell_type": "code",
   "execution_count": null,
   "id": "8928468e-1688-44ee-9a22-2cd302076d3e",
   "metadata": {},
   "outputs": [],
   "source": [
    "#Loop Statment\n",
    "#For Loop While Loop\n",
    "lst=[1,2,3,4,5,6]\n",
    "for i in lst:\n",
    "  print(i)"
   ]
  },
  {
   "cell_type": "code",
   "execution_count": null,
   "id": "d8170022-b674-4373-a531-75ede023bcf0",
   "metadata": {},
   "outputs": [],
   "source": [
    "lst=[1,2,3,4,5,6]\n",
    "for i in lst:\n",
    "  print(i+2)"
   ]
  },
  {
   "cell_type": "code",
   "execution_count": null,
   "id": "3236ed13-96a7-49eb-ad5d-2ef399df500b",
   "metadata": {},
   "outputs": [],
   "source": [
    "lst=[1,2,3,4,5,6]\n",
    "for i in lst:\n",
    "  print(i*2)"
   ]
  },
  {
   "cell_type": "code",
   "execution_count": null,
   "id": "17af2b27-7286-4096-9c2e-6fab10502068",
   "metadata": {},
   "outputs": [],
   "source": [
    "lst=[1,2,3,4,5,6]\n",
    "sum1=0\n",
    "for i in lst:\n",
    "    sum1=sum1+i\n",
    "\n",
    "    \n",
    "print(sum1)\n"
   ]
  },
  {
   "cell_type": "code",
   "execution_count": null,
   "id": "2f365c83-4eae-476d-91c8-b3e950ecf274",
   "metadata": {},
   "outputs": [],
   "source": [
    "#Find sum of even odd number\n",
    "lst=[1,2,3,4,5,6]\n",
    "esum=0\n",
    "osum=0\n",
    "for i in lst:\n",
    "        if(i%2==0):\n",
    "         esum=esum+i\n",
    "        else:\n",
    "            osum=osum+i\n",
    "            \n",
    "            \n",
    "print(\"sum of even no is{}\".format(esum))\n",
    "print(\"sum of odd no is{}\".format(osum))"
   ]
  },
  {
   "cell_type": "code",
   "execution_count": null,
   "id": "f775758d-5a40-45de-96c1-837572e56212",
   "metadata": {},
   "outputs": [],
   "source": [
    "i=1\n",
    "while(i<=10):\n",
    "    print(i)\n",
    "    i=i+1 "
   ]
  },
  {
   "cell_type": "code",
   "execution_count": null,
   "id": "ddc28eab-5b6b-42ac-acd8-343dc673692b",
   "metadata": {},
   "outputs": [],
   "source": [
    "i=10\n",
    "while(i>=0):\n",
    "    print(i)\n",
    "    i=i-1"
   ]
  },
  {
   "cell_type": "code",
   "execution_count": null,
   "id": "003a89e7-6f4c-400c-afac-c966a08609e6",
   "metadata": {},
   "outputs": [],
   "source": [
    "##break\n",
    "x=1\n",
    "while(x<7):\n",
    "    \n",
    "    if x==4:\n",
    "        break\n",
    "    print(x)\n",
    "    x=x+1"
   ]
  },
  {
   "cell_type": "code",
   "execution_count": null,
   "id": "40b50846-1b74-4a0c-9eb6-7bf86bd169e5",
   "metadata": {},
   "outputs": [],
   "source": [
    "## continue\n",
    "x=0\n",
    "while x<7:\n",
    "    x=x+1\n",
    "    if x==4:\n",
    "        continue\n",
    "    print(x)"
   ]
  },
  {
   "cell_type": "code",
   "execution_count": null,
   "id": "0efef936-3fa9-4c50-8379-a019d51c2535",
   "metadata": {},
   "outputs": [],
   "source": [
    "#Python Operator\n",
    "#Logical Operator\n",
    "True and False\n"
   ]
  },
  {
   "cell_type": "markdown",
   "id": "f1cff0e3-cc1b-407e-b678-2bed6f571c79",
   "metadata": {},
   "source": [
    "Python Operators\n",
    "Logical\n",
    "Equality\n",
    "Comparision\n",
    "Arithmetic\n",
    "4.1.1 Logical Operators\n",
    "In python following keywords are used for boolean operations -\n",
    "\n",
    "Keywords\tMeaning\n",
    "not\tunary negation\n",
    "and\tconditional AND\n",
    "or\tconditional OR"
   ]
  },
  {
   "cell_type": "code",
   "execution_count": null,
   "id": "34f45784-a7bf-4f6f-a6f5-eedcb7878c7d",
   "metadata": {},
   "outputs": [],
   "source": [
    "True or False"
   ]
  },
  {
   "cell_type": "code",
   "execution_count": null,
   "id": "4e146e9d-1d9d-4705-b106-7a885646bc96",
   "metadata": {},
   "outputs": [],
   "source": [
    "not True"
   ]
  },
  {
   "cell_type": "code",
   "execution_count": null,
   "id": "609a5360-c2e5-4a5d-9183-fec1efb32bd8",
   "metadata": {},
   "outputs": [],
   "source": [
    "not False\n"
   ]
  },
  {
   "cell_type": "code",
   "execution_count": null,
   "id": "e5ba4cb3-6035-46a3-aa3d-f55eccbc16b6",
   "metadata": {},
   "outputs": [],
   "source": [
    "#AND MEANS TRUE OR TRUE=TRUE\n",
    "age=int(input(\"enter the age\"))\n",
    "if age>18 and age<=40:\n",
    "        print(\"mid age\")\n",
    "else:\n",
    "    print(\"not in range\")\n",
    "\n",
    "    "
   ]
  },
  {
   "cell_type": "code",
   "execution_count": null,
   "id": "576ad0f2-f52b-45eb-b28d-c7bdd07c02c9",
   "metadata": {},
   "outputs": [],
   "source": [
    "#OR MEANS TRUE OR FALSE=TRUE\n",
    "age=int(input(\"enter the age\"))\n",
    "if age>18 or age<=40:\n",
    "        print(\"mid age\")\n",
    "else:\n",
    "    print(\"not in range\")"
   ]
  },
  {
   "cell_type": "code",
   "execution_count": null,
   "id": "31bd6913-0ff0-4d09-ad33-29964f0096c7",
   "metadata": {},
   "outputs": [],
   "source": [
    "age=int(input(\"Enter the age\"))\n",
    "\n",
    "if age==18:\n",
    "    print(\"You are in the teenager age\")"
   ]
  },
  {
   "cell_type": "markdown",
   "id": "63d6d8f1-2404-464f-9963-3b6b6b20eaa0",
   "metadata": {},
   "source": [
    "Equality Operators\r\n",
    "Following operations are present in python for equlity check operation-\r\n",
    "\r\n",
    "Operators\tMeaning\r\n",
    "is\ta is b returns true if variable/identifiers a and b points to the same object\r\n",
    "is not\ta is not b returns true if variable/identifiers a and b points to the different object\r\n",
    "==\ta == b returns true if variable/identifiers a and b has same value\r\n",
    "!=\ta != b returns true if variable/identifiers a and b has different value"
   ]
  },
  {
   "cell_type": "code",
   "execution_count": null,
   "id": "7ca0c8f4-cfdc-4242-ab72-e18189a385eb",
   "metadata": {},
   "outputs": [],
   "source": [
    "a=\"Krish\"\n",
    "b=\"Krish\"\n",
    "print(id(a))\n",
    "print(id(b))"
   ]
  },
  {
   "cell_type": "code",
   "execution_count": null,
   "id": "1bfa5ad0-7d86-4c2a-bcba-585bf2d17ece",
   "metadata": {},
   "outputs": [],
   "source": [
    "a is b"
   ]
  },
  {
   "cell_type": "code",
   "execution_count": null,
   "id": "62512ea5-eec0-4537-bed8-3df25278b641",
   "metadata": {},
   "outputs": [],
   "source": [
    "lst1=[1,2,3]\n",
    "lst2=[1,2,3]\n",
    "print(id(lst1))\n",
    "print(id(lst2))\n"
   ]
  },
  {
   "cell_type": "code",
   "execution_count": null,
   "id": "276c5dc6-9080-4cda-aa1a-fc0be11fe348",
   "metadata": {},
   "outputs": [],
   "source": [
    "lst1 is lst2\n"
   ]
  },
  {
   "cell_type": "code",
   "execution_count": null,
   "id": "a4e39027-006c-4473-8939-05e4cb77d1c8",
   "metadata": {},
   "outputs": [],
   "source": [
    "a is not b"
   ]
  },
  {
   "cell_type": "code",
   "execution_count": null,
   "id": "f76c8ac5-8df8-40a8-8479-a906497f2964",
   "metadata": {},
   "outputs": [],
   "source": [
    "lst1 is not lst2"
   ]
  },
  {
   "cell_type": "code",
   "execution_count": null,
   "id": "7068f4d6-bc22-45f6-a359-9d9fa1b87206",
   "metadata": {},
   "outputs": [],
   "source": [
    "lst1 != lst2"
   ]
  },
  {
   "cell_type": "code",
   "execution_count": null,
   "id": "a37470ff-23d2-418a-bd54-e3d274f19485",
   "metadata": {},
   "outputs": [],
   "source": [
    "\"Siddhesh\" != \"Siddhesh1\""
   ]
  },
  {
   "cell_type": "markdown",
   "id": "dc1d82b1-d13b-4377-a315-0d489546399c",
   "metadata": {},
   "source": [
    "comparison operators\n",
    "Operation\tMeaning\n",
    "<\tless than\n",
    "<=\tless than or equal to\n",
    ">\tgreater than\n",
    ">=\tgreater than or equal to"
   ]
  },
  {
   "cell_type": "code",
   "execution_count": null,
   "id": "815280ec-3fed-4cf4-94ea-b84b826b8923",
   "metadata": {},
   "outputs": [],
   "source": [
    "marks= float(input(\"Enter the marks\"))\n",
    "\n",
    "if marks>=35:\n",
    "    print(\"Pass\")\n",
    "    if marks>=50 and marks<=70:\n",
    "        print(\"First\")\n",
    "elif marks<35:\n",
    "    print(\"Fail\")"
   ]
  },
  {
   "cell_type": "code",
   "execution_count": null,
   "id": "a5b37665-d9d0-4a39-a959-fd86fe0a2d7a",
   "metadata": {},
   "outputs": [],
   "source": [
    "#Arithmatic opertor\n",
    "10+10\n"
   ]
  },
  {
   "cell_type": "markdown",
   "id": "a214a029-d490-4ac0-89af-f15332becb44",
   "metadata": {},
   "source": [
    "Arithmetic Operators\n",
    "Operation\tMeaning\n",
    "+\taddition\n",
    "-\tsubtraction\n",
    "*\tmultiplication\n",
    "/\ttrue division\n",
    "//\tinteger division\n",
    "%\tthe modulo operator"
   ]
  },
  {
   "cell_type": "code",
   "execution_count": null,
   "id": "8beb668f-af53-488f-a941-b8a4a8cba778",
   "metadata": {},
   "outputs": [],
   "source": [
    "20-10"
   ]
  },
  {
   "cell_type": "code",
   "execution_count": null,
   "id": "2d4a4b02-efcf-4c30-90c0-d832f21b373e",
   "metadata": {},
   "outputs": [],
   "source": [
    "10*20"
   ]
  },
  {
   "cell_type": "code",
   "execution_count": null,
   "id": "31d0e457-4b00-4eb6-b196-23124eeb5710",
   "metadata": {},
   "outputs": [],
   "source": [
    "20%2"
   ]
  },
  {
   "cell_type": "code",
   "execution_count": null,
   "id": "540c4f35-d2c9-4e90-93c8-71d6e269dd30",
   "metadata": {},
   "outputs": [],
   "source": [
    "20/2"
   ]
  },
  {
   "cell_type": "code",
   "execution_count": null,
   "id": "3c9192da-00cb-4842-82fe-2b2a78e2239e",
   "metadata": {},
   "outputs": [],
   "source": [
    "20//2"
   ]
  },
  {
   "cell_type": "code",
   "execution_count": null,
   "id": "deae4f5b-6de7-4113-a8b3-357979ac1530",
   "metadata": {},
   "outputs": [],
   "source": [
    "#Pthon Number Method\n",
    "abs()\n",
    "abs(x) will return the absolute value of a number x which we pass in argument. The number x can be integer, float, complex,.."
   ]
  },
  {
   "cell_type": "code",
   "execution_count": null,
   "id": "12b0502a-097b-4620-aa0d-05e76bef2038",
   "metadata": {},
   "outputs": [],
   "source": [
    "#Absolute Method\n",
    "abs(10)"
   ]
  },
  {
   "cell_type": "code",
   "execution_count": null,
   "id": "2378f912-bb21-4760-bf2a-4bbe987c8f08",
   "metadata": {},
   "outputs": [],
   "source": [
    "abs(-10)"
   ]
  },
  {
   "cell_type": "markdown",
   "id": "0359616a-0a73-4f1c-b2cc-7619d00a297c",
   "metadata": {},
   "source": [
    "ceil()\r\n",
    "ceil(x) will return the ceiling value of a number x which we pass in argument. The ceiling value of a number x will be the smallest integer not less than x\r\n",
    "\r\n",
    "Note :- This function will not be accessible directly using ceil() method. Math module will be required to access this method."
   ]
  },
  {
   "cell_type": "code",
   "execution_count": null,
   "id": "c4154e00-2f19-4230-8e08-c857396476fa",
   "metadata": {},
   "outputs": [],
   "source": [
    "#ceil Method\n",
    "\n",
    "import math\n"
   ]
  },
  {
   "cell_type": "code",
   "execution_count": null,
   "id": "79808faf-4955-4d28-a450-fdbcd8a2dae7",
   "metadata": {},
   "outputs": [],
   "source": [
    "math.ceil(43.67)"
   ]
  },
  {
   "cell_type": "code",
   "execution_count": null,
   "id": "a2a6c6b7-c33d-46ad-b806-b857b4601f93",
   "metadata": {},
   "outputs": [],
   "source": [
    "math.ceil(46.20)"
   ]
  },
  {
   "cell_type": "markdown",
   "id": "e1307e97-b823-4c5c-a6aa-4a6c001af54f",
   "metadata": {},
   "source": [
    "##floor"
   ]
  },
  {
   "cell_type": "code",
   "execution_count": null,
   "id": "d5b327e0-df90-418f-985e-ffeff1df1c44",
   "metadata": {},
   "outputs": [],
   "source": [
    "math.floor(43.1)\n"
   ]
  },
  {
   "cell_type": "code",
   "execution_count": null,
   "id": "92535e48-bff1-4958-824c-fc6b4ae2a48e",
   "metadata": {},
   "outputs": [],
   "source": [
    "math.floor(44.2)"
   ]
  },
  {
   "cell_type": "code",
   "execution_count": null,
   "id": "c8b45c22-0271-46cb-ab3d-579c964ae0a3",
   "metadata": {},
   "outputs": [],
   "source": [
    "math.floor(48.1)"
   ]
  },
  {
   "cell_type": "markdown",
   "id": "44eb7f05-6989-4980-aed4-a04beead2166",
   "metadata": {},
   "source": [
    "exp()\n",
    "exp(x) will return the exponential value of a number x which we pass in argument."
   ]
  },
  {
   "cell_type": "code",
   "execution_count": null,
   "id": "6ce5a2df-1412-4afc-8131-ee4c2bc91132",
   "metadata": {},
   "outputs": [],
   "source": [
    "math.exp(10)"
   ]
  },
  {
   "cell_type": "markdown",
   "id": "4b4ec5ac-eef5-4e4f-a4ad-d21045344969",
   "metadata": {},
   "source": [
    "fabs()"
   ]
  },
  {
   "cell_type": "code",
   "execution_count": null,
   "id": "008dc203-948d-47e7-9723-cd32b0d874e0",
   "metadata": {},
   "outputs": [],
   "source": [
    "math.fabs(10.53)"
   ]
  },
  {
   "cell_type": "code",
   "execution_count": null,
   "id": "b158729a-084e-4c65-bbc4-c6c61506484d",
   "metadata": {},
   "outputs": [],
   "source": [
    "math.fabs(-10)"
   ]
  },
  {
   "cell_type": "markdown",
   "id": "87e9b865-bc98-42dc-aaaf-918ac63a1ac4",
   "metadata": {},
   "source": [
    "log(x)"
   ]
  },
  {
   "cell_type": "code",
   "execution_count": null,
   "id": "4444cc43-14ca-4402-be96-4dc8579a206b",
   "metadata": {},
   "outputs": [],
   "source": [
    "math.log(10)"
   ]
  },
  {
   "cell_type": "code",
   "execution_count": null,
   "id": "83963199-a062-4f00-9d00-e39a38856c53",
   "metadata": {},
   "outputs": [],
   "source": [
    "math.log(15)"
   ]
  },
  {
   "cell_type": "markdown",
   "id": "ecabba81-3983-4024-a73d-d4180c8b8171",
   "metadata": {},
   "source": [
    "Max()"
   ]
  },
  {
   "cell_type": "code",
   "execution_count": null,
   "id": "6f265b4d-676b-4fac-bd19-2f1a9e504122",
   "metadata": {},
   "outputs": [],
   "source": [
    "max(10,12,5,76,100)"
   ]
  },
  {
   "cell_type": "code",
   "execution_count": null,
   "id": "d4d1e427-b529-4f1a-8bc1-9a6121448c2f",
   "metadata": {},
   "outputs": [],
   "source": [
    "max(-55,-44,-33)"
   ]
  },
  {
   "cell_type": "markdown",
   "id": "101a75df-cb03-4364-be40-7e3516b6a438",
   "metadata": {},
   "source": [
    "Min()"
   ]
  },
  {
   "cell_type": "code",
   "execution_count": null,
   "id": "a609d5e5-b8cd-4317-b7f0-f592b141a261",
   "metadata": {},
   "outputs": [],
   "source": [
    "min(0,100,4,5,6,3)"
   ]
  },
  {
   "cell_type": "code",
   "execution_count": null,
   "id": "9a2f81ce-6487-40d1-b12e-a43a53e94ca9",
   "metadata": {},
   "outputs": [],
   "source": [
    "min(-1,0)"
   ]
  },
  {
   "cell_type": "markdown",
   "id": "8a34e4af-e8c5-45b4-bcc9-3bd8cf7967bc",
   "metadata": {},
   "source": [
    "sqrt()"
   ]
  },
  {
   "cell_type": "code",
   "execution_count": null,
   "id": "517d9477-96c1-43b5-9902-57802bfb0083",
   "metadata": {},
   "outputs": [],
   "source": [
    "math.sqrt(16)"
   ]
  },
  {
   "cell_type": "code",
   "execution_count": null,
   "id": "199f12ee-abdf-4e42-a519-dc6c5adf4368",
   "metadata": {},
   "outputs": [],
   "source": [
    "math.sqrt(9)"
   ]
  },
  {
   "cell_type": "code",
   "execution_count": null,
   "id": "82e4dff1-d16c-43ed-b9ff-2e51eda4e680",
   "metadata": {},
   "outputs": [],
   "source": [
    "math.sqrt(25)"
   ]
  },
  {
   "cell_type": "markdown",
   "id": "ea033857-4a7e-4ae5-a230-392debf8762c",
   "metadata": {},
   "source": [
    "pow()"
   ]
  },
  {
   "cell_type": "code",
   "execution_count": null,
   "id": "6ff5aaf3-63ff-4daf-b0b2-084dac07c81e",
   "metadata": {},
   "outputs": [],
   "source": [
    "import math\n",
    "math.pow(20,5)"
   ]
  },
  {
   "cell_type": "markdown",
   "id": "af2b0fa5-1307-409b-9d45-ef133d5955c0",
   "metadata": {},
   "source": [
    "Triggnometric functions"
   ]
  },
  {
   "cell_type": "code",
   "execution_count": null,
   "id": "6e1375c1-54b5-4176-9bc5-9172884323d9",
   "metadata": {},
   "outputs": [],
   "source": [
    "import math\n",
    "math.sin(0)"
   ]
  },
  {
   "cell_type": "code",
   "execution_count": null,
   "id": "5aee0721-e452-4ffe-ab41-77638c85d13b",
   "metadata": {},
   "outputs": [],
   "source": [
    "math.cos(90)"
   ]
  },
  {
   "cell_type": "code",
   "execution_count": null,
   "id": "bc38a8f6-ac5c-4fa6-aa80-2828868dd45f",
   "metadata": {},
   "outputs": [],
   "source": [
    "math.cos(0)"
   ]
  },
  {
   "cell_type": "code",
   "execution_count": null,
   "id": "5a20ecc0-27fa-4080-a9f9-b1fc961ccf7c",
   "metadata": {},
   "outputs": [],
   "source": [
    "math.tan(90)"
   ]
  },
  {
   "cell_type": "markdown",
   "id": "638e8d7a-9aa6-4345-b9e5-1d9ba6c76e35",
   "metadata": {},
   "source": [
    "Lists\n",
    "A list is a data structure in Python that is a mutable, or changeable, ordered sequence of elements. Each element or value that is inside of a list is called an item. Just as strings are defined as characters between quotes, lists are defined by having values between square brackets [ ]"
   ]
  },
  {
   "cell_type": "code",
   "execution_count": null,
   "id": "8ee6d2c5-7f1e-49a9-b189-767e736f614a",
   "metadata": {},
   "outputs": [],
   "source": [
    "str1=\"siddhesh\"\n",
    "print(str1)\n",
    "type(str1)"
   ]
  },
  {
   "cell_type": "code",
   "execution_count": null,
   "id": "7e429c11-faf3-4ce7-9c8b-acddd32f8fa9",
   "metadata": {},
   "outputs": [],
   "source": [
    "str1=\"Siddhesh\"\n",
    "print(str1)"
   ]
  },
  {
   "cell_type": "code",
   "execution_count": null,
   "id": "8939c83a-6797-46e7-9900-3a328a1f5b0c",
   "metadata": {},
   "outputs": [],
   "source": [
    "##Lists\n",
    "##mutable\n",
    "lst=[1,2,3,4,\"Siddhesh\",\"Badakh\"]\n",
    "print(lst)\n",
    "lst[4]=\"badakh\"\n",
    "print(lst[4])"
   ]
  },
  {
   "cell_type": "code",
   "execution_count": null,
   "id": "1d0186e5-6625-4f66-a561-d485da3d398b",
   "metadata": {},
   "outputs": [],
   "source": [
    "lst=list((1,2,3,4,5))\n",
    "type(lst)\n",
    "print(lst)"
   ]
  },
  {
   "cell_type": "code",
   "execution_count": null,
   "id": "6d4add66-917d-4add-97ea-370c6fb66fab",
   "metadata": {},
   "outputs": [],
   "source": [
    "for i in lst:\n",
    "    print(i**2)"
   ]
  },
  {
   "cell_type": "code",
   "execution_count": null,
   "id": "75385290-d6f5-4dce-960c-3e1f8ec509cb",
   "metadata": {},
   "outputs": [],
   "source": [
    "min(lst)"
   ]
  },
  {
   "cell_type": "code",
   "execution_count": null,
   "id": "71c27e4d-f23d-4860-b28f-45fc20f8d27c",
   "metadata": {},
   "outputs": [],
   "source": [
    "type([])"
   ]
  },
  {
   "cell_type": "code",
   "execution_count": null,
   "id": "1d4e4e49-0bb2-4d4e-8714-553cb5883918",
   "metadata": {},
   "outputs": [],
   "source": [
    "lst=['Mathematics', 'chemistry', 100, 200, 300, 204]"
   ]
  },
  {
   "cell_type": "code",
   "execution_count": null,
   "id": "1f02d1e9-66e8-4ca3-9c7c-c39d5cf2b008",
   "metadata": {},
   "outputs": [],
   "source": [
    "len(lst)"
   ]
  },
  {
   "cell_type": "code",
   "execution_count": null,
   "id": "e41510da-4651-4bcc-ba60-008761646126",
   "metadata": {},
   "outputs": [],
   "source": [
    "type(lst)"
   ]
  },
  {
   "cell_type": "markdown",
   "id": "bc98e307-2926-4c6a-9ca5-0450bcc954c2",
   "metadata": {},
   "source": [
    "Append"
   ]
  },
  {
   "cell_type": "code",
   "execution_count": null,
   "id": "8ccd292d-6d2b-4ba3-9d27-1a43a971f817",
   "metadata": {},
   "outputs": [],
   "source": [
    "lst"
   ]
  },
  {
   "cell_type": "code",
   "execution_count": null,
   "id": "bf805427-6b13-44e1-bbde-cdb08968a62e",
   "metadata": {},
   "outputs": [],
   "source": [
    "lst.append(\"siddhesh\")\n",
    "lst"
   ]
  },
  {
   "cell_type": "code",
   "execution_count": null,
   "id": "9328d072-1d34-4fc1-8aca-acc02ec809ca",
   "metadata": {},
   "outputs": [],
   "source": [
    "lst.append([\"sid\",\"Badakh\"])\n",
    "lst"
   ]
  },
  {
   "cell_type": "code",
   "execution_count": null,
   "id": "cb8a531e-a2eb-46a2-a176-d9461d7da272",
   "metadata": {},
   "outputs": [],
   "source": [
    "lst[2:6]"
   ]
  },
  {
   "cell_type": "code",
   "execution_count": null,
   "id": "f8a3c40c-0425-46a4-b296-4e8edf8494b0",
   "metadata": {},
   "outputs": [],
   "source": [
    "lst[6]\n"
   ]
  },
  {
   "cell_type": "code",
   "execution_count": null,
   "id": "097a09a9-2cdf-4d74-989b-5a8a90754a6e",
   "metadata": {},
   "outputs": [],
   "source": [
    "lst[1:6]"
   ]
  },
  {
   "cell_type": "markdown",
   "id": "8cc597b2-5a7f-4b01-82e6-34d84db62faa",
   "metadata": {},
   "source": [
    "Insert"
   ]
  },
  {
   "cell_type": "code",
   "execution_count": null,
   "id": "e7f023d8-6857-4a03-9d96-017ffe553ad9",
   "metadata": {},
   "outputs": [],
   "source": [
    "lst"
   ]
  },
  {
   "cell_type": "code",
   "execution_count": null,
   "id": "f97671da-6868-44e6-906a-7f06d0cf100e",
   "metadata": {},
   "outputs": [],
   "source": [
    "lst.insert(2,\"Siddhesh\")"
   ]
  },
  {
   "cell_type": "code",
   "execution_count": null,
   "id": "4c9d7523-e52e-4ad8-be92-112552339bdf",
   "metadata": {},
   "outputs": [],
   "source": [
    "lst"
   ]
  },
  {
   "cell_type": "code",
   "execution_count": null,
   "id": "c0f8cff8-4b73-4b91-ba91-9adbe22cd409",
   "metadata": {},
   "outputs": [],
   "source": [
    "lst=[1,2,3]"
   ]
  },
  {
   "cell_type": "code",
   "execution_count": null,
   "id": "f0e33fea-141e-4d58-b01c-2463a32c87a0",
   "metadata": {},
   "outputs": [],
   "source": [
    "lst.append([4,5])"
   ]
  },
  {
   "cell_type": "code",
   "execution_count": null,
   "id": "f64ad8dd-7d93-49d5-a8ac-2dd4ff5f00b8",
   "metadata": {},
   "outputs": [],
   "source": [
    "lst"
   ]
  },
  {
   "cell_type": "markdown",
   "id": "41f686ad-706b-495f-908e-b8428f344a33",
   "metadata": {},
   "source": [
    "Extend Method"
   ]
  },
  {
   "cell_type": "code",
   "execution_count": null,
   "id": "8cc40417-240e-4eaa-bf6d-8fbcfc092f32",
   "metadata": {},
   "outputs": [],
   "source": [
    "lst=[1,2,3,4,5,6]"
   ]
  },
  {
   "cell_type": "code",
   "execution_count": null,
   "id": "100c7c93-2002-4654-8f24-eddd1214dfb8",
   "metadata": {},
   "outputs": [],
   "source": [
    "lst.append([8,9])\n",
    "lst"
   ]
  },
  {
   "cell_type": "code",
   "execution_count": null,
   "id": "63cad031-a67c-4037-81d1-f16aa9d61380",
   "metadata": {},
   "outputs": [],
   "source": [
    "lst"
   ]
  },
  {
   "cell_type": "markdown",
   "id": "144a5793-274b-4b5b-a051-09a0e15d35b0",
   "metadata": {},
   "source": [
    "Various Operations that we can perform in List"
   ]
  },
  {
   "cell_type": "code",
   "execution_count": null,
   "id": "2fa0d3ff-f53e-4cfe-8b67-35e79b5eafb2",
   "metadata": {},
   "outputs": [],
   "source": [
    "lst=[1,2,3,4,5]"
   ]
  },
  {
   "cell_type": "code",
   "execution_count": null,
   "id": "7d8f3a8c-cffa-4e51-974d-5705bf5ef75a",
   "metadata": {},
   "outputs": [],
   "source": [
    "sum(lst)"
   ]
  },
  {
   "cell_type": "code",
   "execution_count": null,
   "id": "80df8aec-d122-4b5f-b10c-511afc5f4b77",
   "metadata": {},
   "outputs": [],
   "source": [
    "lst*5"
   ]
  },
  {
   "cell_type": "code",
   "execution_count": null,
   "id": "0c62b8d9-3bc3-4da0-91f2-157c7dc008ef",
   "metadata": {},
   "outputs": [],
   "source": [
    "for i in lst:\n",
    "    print(i/5)"
   ]
  },
  {
   "cell_type": "code",
   "execution_count": null,
   "id": "ed7db317-d885-4660-9e96-f0cfddf0c160",
   "metadata": {},
   "outputs": [],
   "source": [
    "lst"
   ]
  },
  {
   "cell_type": "markdown",
   "id": "333edc3c-a907-4d7d-9445-46c7da718c60",
   "metadata": {},
   "source": [
    "Pop() Method"
   ]
  },
  {
   "cell_type": "code",
   "execution_count": null,
   "id": "f8148b11-9bf8-46ab-aa99-ed0b445eeb8d",
   "metadata": {},
   "outputs": [],
   "source": [
    "lst.pop()"
   ]
  },
  {
   "cell_type": "code",
   "execution_count": null,
   "id": "816d7a68-2e57-4212-b86c-a3b0a9df2c10",
   "metadata": {},
   "outputs": [],
   "source": [
    "lst"
   ]
  },
  {
   "cell_type": "code",
   "execution_count": null,
   "id": "f82acc4f-0f8c-4ffe-bbe3-09622b795e5d",
   "metadata": {},
   "outputs": [],
   "source": [
    "lst.pop(2)"
   ]
  },
  {
   "cell_type": "code",
   "execution_count": null,
   "id": "bdd55949-0bff-4cbb-b805-492f0f036319",
   "metadata": {},
   "outputs": [],
   "source": [
    "lst"
   ]
  },
  {
   "cell_type": "markdown",
   "id": "b8463cb8-9ed4-430c-a3cb-2a92108746d5",
   "metadata": {},
   "source": [
    "count():Calculates total occurrence of given element of List"
   ]
  },
  {
   "cell_type": "code",
   "execution_count": null,
   "id": "24c351ad-5bdf-44ec-8a27-7c9672ab4f3f",
   "metadata": {},
   "outputs": [],
   "source": [
    "lst=[1,1,2,3,4,5]\n",
    "lst.count(1)"
   ]
  },
  {
   "cell_type": "code",
   "execution_count": null,
   "id": "d97d73da-7186-4e4b-b10c-ba488cd76e39",
   "metadata": {},
   "outputs": [],
   "source": [
    "#length:Calculates total length of List\n",
    "len(lst)"
   ]
  },
  {
   "cell_type": "code",
   "execution_count": null,
   "id": "d3d6cb7a-66ce-44fb-b5a8-1af7693446c2",
   "metadata": {},
   "outputs": [],
   "source": [
    "# index(): Returns the index of first occurrence. Start and End index are not necessary parameters\n",
    "lst.index(1,1,4)"
   ]
  },
  {
   "cell_type": "code",
   "execution_count": null,
   "id": "a07974fb-7bc9-4bc4-a005-577aadeb336e",
   "metadata": {},
   "outputs": [],
   "source": [
    "##Min and Max\n",
    "min(lst)"
   ]
  },
  {
   "cell_type": "code",
   "execution_count": null,
   "id": "4f04948a-fd25-43ac-a78f-428a0ec4678d",
   "metadata": {},
   "outputs": [],
   "source": [
    "max(lst)"
   ]
  },
  {
   "cell_type": "markdown",
   "id": "0619f0dc-f551-4101-9c0b-e779d6a34967",
   "metadata": {},
   "source": [
    "SETS\n",
    "A Set is an unordered collection data type that is iterable, mutable, and has no duplicate elements. Python's set class represents the mathematical notion of a set.This is based on a data structure known as a hash table"
   ]
  },
  {
   "cell_type": "code",
   "execution_count": null,
   "id": "594dab2e-38b1-4525-82d9-c9cc1748885d",
   "metadata": {},
   "outputs": [],
   "source": [
    "set_var={1,2,3,4,3}"
   ]
  },
  {
   "cell_type": "code",
   "execution_count": null,
   "id": "f8d4a05d-ec3f-4cba-8ef5-bdbd23df6dc8",
   "metadata": {},
   "outputs": [],
   "source": [
    "set_var"
   ]
  },
  {
   "cell_type": "code",
   "execution_count": null,
   "id": "47068981-99f1-4dfe-8bba-c46ee04e5094",
   "metadata": {},
   "outputs": [],
   "source": [
    "set_var={\"Avengers\",\"IronMan\",'Hitman'}\n",
    "print(set_var)\n",
    "type(set_var)"
   ]
  },
  {
   "cell_type": "code",
   "execution_count": null,
   "id": "904d63be-7189-4743-a0ab-bc0ce7c6d2b8",
   "metadata": {},
   "outputs": [],
   "source": [
    "set_var.add(\"Hulk\")"
   ]
  },
  {
   "cell_type": "code",
   "execution_count": null,
   "id": "fbb003fa-4686-4166-90cc-216b4296aefc",
   "metadata": {},
   "outputs": [],
   "source": [
    "print(set_var)"
   ]
  },
  {
   "cell_type": "code",
   "execution_count": null,
   "id": "c272e84c-fa2e-49ac-be47-3ac14d1a2e64",
   "metadata": {},
   "outputs": [],
   "source": [
    "set1={\"Avengers\",\"IronMan\",'Hitman'}\n",
    "set2={\"Avengers\",\"IronMan\",'Hitman','Hulk2'}"
   ]
  },
  {
   "cell_type": "code",
   "execution_count": null,
   "id": "f30bd562-15d7-4b37-aa82-949b5c8bb9b0",
   "metadata": {},
   "outputs": [],
   "source": [
    "set2.intersection_update(set1)"
   ]
  },
  {
   "cell_type": "code",
   "execution_count": null,
   "id": "9045ca5e-670a-4572-b8f1-c2c382421f3e",
   "metadata": {},
   "outputs": [],
   "source": [
    "set2"
   ]
  },
  {
   "cell_type": "code",
   "execution_count": null,
   "id": "3e1810a7-24d8-430a-99e0-aa43747c4b71",
   "metadata": {},
   "outputs": [],
   "source": [
    "set2.difference_update(set1)"
   ]
  },
  {
   "cell_type": "code",
   "execution_count": null,
   "id": "afe3a1d3-2c8a-4a8a-9805-96ce7318ff6e",
   "metadata": {},
   "outputs": [],
   "source": [
    "print(set2)"
   ]
  },
  {
   "cell_type": "markdown",
   "id": "486732f7-8a86-429b-a5a4-af86638e159c",
   "metadata": {},
   "source": [
    "Dictionaries\n",
    "A dictionary is a collection which is unordered, changeable and indexed. In Python dictionaries are written with curly brackets, and they have keys and values."
   ]
  },
  {
   "cell_type": "code",
   "execution_count": null,
   "id": "7d38e646-fcdd-4d43-b447-ded0f49f538b",
   "metadata": {},
   "outputs": [],
   "source": [
    "dic={}"
   ]
  },
  {
   "cell_type": "code",
   "execution_count": null,
   "id": "e543d430-9bc3-4225-b694-df2f1c524407",
   "metadata": {},
   "outputs": [],
   "source": [
    "type(dic)"
   ]
  },
  {
   "cell_type": "code",
   "execution_count": null,
   "id": "5010397d-3a15-4a36-832a-3dce9615e350",
   "metadata": {},
   "outputs": [],
   "source": [
    "type(dict())"
   ]
  },
  {
   "cell_type": "code",
   "execution_count": null,
   "id": "c4b72944-3dd7-4c0e-a0b6-f42c744dadcf",
   "metadata": {},
   "outputs": [],
   "source": [
    "set_ex={1,2,3,4,5}"
   ]
  },
  {
   "cell_type": "code",
   "execution_count": null,
   "id": "cfaf13a1-874f-4bc1-9ef4-36adb71d7c7b",
   "metadata": {},
   "outputs": [],
   "source": [
    "type(set_ex)"
   ]
  },
  {
   "cell_type": "code",
   "execution_count": null,
   "id": "7854461c-001c-4ebb-bf07-7d4d4e2f6c5f",
   "metadata": {},
   "outputs": [],
   "source": [
    "## Let create a dictionary\n",
    "\n",
    "my_dict={\"Car1\": \"Audi\", \"Car2\":\"BMW\",\"Car3\":\"Mercidies Benz\"}"
   ]
  },
  {
   "cell_type": "code",
   "execution_count": null,
   "id": "295bd2a7-916f-407c-8b8c-908584566560",
   "metadata": {},
   "outputs": [],
   "source": [
    "type(my_dict)"
   ]
  },
  {
   "cell_type": "code",
   "execution_count": null,
   "id": "f06b650f-e6ef-43d8-8b62-780505fccdda",
   "metadata": {},
   "outputs": [],
   "source": [
    "my_dict['Car1']"
   ]
  },
  {
   "cell_type": "code",
   "execution_count": null,
   "id": "a8ebf1e8-5516-454b-a0c7-01548495f056",
   "metadata": {},
   "outputs": [],
   "source": [
    "# We can even loop throught the dictionaries keys\n",
    "\n",
    "for x in my_dict:\n",
    "    print(x)"
   ]
  },
  {
   "cell_type": "code",
   "execution_count": null,
   "id": "2e942f8e-c3c9-4fe5-ae41-bedac0f622cf",
   "metadata": {},
   "outputs": [],
   "source": [
    "# We can even loop throught the dictionaries values\n",
    "\n",
    "for x in my_dict.values():\n",
    "    print(x)"
   ]
  },
  {
   "cell_type": "code",
   "execution_count": null,
   "id": "f636f69c-3376-40c5-960d-37480332f0ff",
   "metadata": {},
   "outputs": [],
   "source": [
    "# We can also check both keys and values\n",
    "for x in my_dict.items():\n",
    "    print(x)"
   ]
  },
  {
   "cell_type": "code",
   "execution_count": null,
   "id": "d425a8fb-838a-4585-972b-fa596598a747",
   "metadata": {},
   "outputs": [],
   "source": [
    "## Adding items in Dictionaries\n",
    "\n",
    "my_dict['car4']='Audi 2.0'"
   ]
  },
  {
   "cell_type": "code",
   "execution_count": null,
   "id": "cf03cf56-fb17-473e-b38c-600ca4e222ff",
   "metadata": {},
   "outputs": [],
   "source": [
    "my_dict"
   ]
  },
  {
   "cell_type": "code",
   "execution_count": null,
   "id": "a31912f0-aa77-4d3f-a09f-8668b62a27e0",
   "metadata": {},
   "outputs": [],
   "source": [
    "my_dict['Car1']='MAruti'"
   ]
  },
  {
   "cell_type": "code",
   "execution_count": null,
   "id": "55e3d2fe-89be-4b5c-b653-222f2ea592d1",
   "metadata": {},
   "outputs": [],
   "source": [
    "my_dict"
   ]
  },
  {
   "cell_type": "markdown",
   "id": "49ce6d25-89cd-4e09-9bcd-1a9ab6dab52d",
   "metadata": {},
   "source": [
    "Nested Dictionary"
   ]
  },
  {
   "cell_type": "code",
   "execution_count": null,
   "id": "dffa4876-9e15-414b-a99a-41b185ee2883",
   "metadata": {},
   "outputs": [],
   "source": [
    "car1_model={'Mercedes':1960}\n",
    "car2_model={'Audi':1970}\n",
    "car3_model={'Ambassador':1980}\n",
    "\n",
    "car_type={'car1':car1_model,'car2':car2_model,'car3':car3_model}"
   ]
  },
  {
   "cell_type": "code",
   "execution_count": null,
   "id": "b6f4188e-8eb9-4a8b-94c2-7bdb0311e8f4",
   "metadata": {},
   "outputs": [],
   "source": [
    "print(car_type)"
   ]
  },
  {
   "cell_type": "code",
   "execution_count": null,
   "id": "e4fa7b96-4637-4895-94aa-97a5b6412f6a",
   "metadata": {},
   "outputs": [],
   "source": [
    "## Accessing the items in the dictionary\n",
    "\n",
    "print(car_type['car1'])"
   ]
  },
  {
   "cell_type": "code",
   "execution_count": null,
   "id": "3d47cda9-ad99-4b04-aeda-35c3631fe489",
   "metadata": {},
   "outputs": [],
   "source": [
    "print(car_type['car1']['Mercedes'])"
   ]
  },
  {
   "cell_type": "markdown",
   "id": "1257499f-12fd-4882-91b4-d3a63c3f5683",
   "metadata": {},
   "source": [
    "Tuples"
   ]
  },
  {
   "cell_type": "code",
   "execution_count": null,
   "id": "567eaa31-6972-48c8-aa40-73bc1e4ee9a5",
   "metadata": {},
   "outputs": [],
   "source": [
    "## create an empty Tuples\n",
    "\n",
    "my_tuple=tuple()"
   ]
  },
  {
   "cell_type": "code",
   "execution_count": null,
   "id": "4c8ef194-5883-40b3-a95f-452d5c752922",
   "metadata": {},
   "outputs": [],
   "source": [
    "type(my_tuple)"
   ]
  },
  {
   "cell_type": "code",
   "execution_count": null,
   "id": "11d8feb5-facc-46a0-9234-944fd24db3e8",
   "metadata": {},
   "outputs": [],
   "source": [
    "my_tuple=(\"Krish\",\"Ankur\",\"John\")"
   ]
  },
  {
   "cell_type": "code",
   "execution_count": null,
   "id": "76610f90-21be-41df-9b20-f424f9ba75e8",
   "metadata": {},
   "outputs": [],
   "source": [
    "my_tuple=('Hello','World')"
   ]
  },
  {
   "cell_type": "code",
   "execution_count": null,
   "id": "023ac900-9c98-4e9c-bc85-c8e82d54809b",
   "metadata": {},
   "outputs": [],
   "source": [
    "print(type(my_tuple))\n",
    "print(my_tuple)"
   ]
  },
  {
   "cell_type": "code",
   "execution_count": null,
   "id": "15cccc50-a173-4474-b3d5-60f7208950e4",
   "metadata": {},
   "outputs": [],
   "source": [
    "type(my_tuple)"
   ]
  }
 ],
 "metadata": {
  "kernelspec": {
   "display_name": "Python 3 (ipykernel)",
   "language": "python",
   "name": "python3"
  },
  "language_info": {
   "codemirror_mode": {
    "name": "ipython",
    "version": 3
   },
   "file_extension": ".py",
   "mimetype": "text/x-python",
   "name": "python",
   "nbconvert_exporter": "python",
   "pygments_lexer": "ipython3",
   "version": "3.12.4"
  }
 },
 "nbformat": 4,
 "nbformat_minor": 5
}
