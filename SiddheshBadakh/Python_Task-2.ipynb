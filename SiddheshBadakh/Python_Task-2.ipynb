{
 "cells": [
  {
   "cell_type": "markdown",
   "id": "2fed7fed-681f-43e8-9980-446b7bccf82c",
   "metadata": {},
   "source": [
    "OOPS in Python"
   ]
  },
  {
   "cell_type": "code",
   "execution_count": 29,
   "id": "0661bd8a-9790-466c-8495-e6f94adc0197",
   "metadata": {},
   "outputs": [
    {
     "name": "stdout",
     "output_type": "stream",
     "text": [
      "siddhesh\n"
     ]
    }
   ],
   "source": [
    "class student:\n",
    "    name=\"siddhesh\"\n",
    "        \n",
    "    \n",
    "s1=student()\n",
    "print(s1.name)"
   ]
  },
  {
   "cell_type": "code",
   "execution_count": 33,
   "id": "2267ffd9-d5c6-4395-bf4d-5458c52cb5c4",
   "metadata": {},
   "outputs": [
    {
     "name": "stdout",
     "output_type": "stream",
     "text": [
      "Badakh\n",
      "Badakh\n"
     ]
    }
   ],
   "source": [
    "class student:\n",
    "    name=\"Badakh\"\n",
    "\n",
    "s1=student()\n",
    "print(s1.name)\n",
    "\n",
    "s2=student()\n",
    "print(s2.name)\n"
   ]
  },
  {
   "cell_type": "markdown",
   "id": "622b57ef-670c-432f-b57f-49a41bd7e369",
   "metadata": {},
   "source": [
    "init"
   ]
  },
  {
   "cell_type": "code",
   "execution_count": 58,
   "id": "1c7200bb-3e13-4121-831a-2cd943056539",
   "metadata": {},
   "outputs": [
    {
     "name": "stdout",
     "output_type": "stream",
     "text": [
      "adding new student in database\n",
      "siddhesh 90\n",
      "adding new student in database\n",
      "rahul 80\n"
     ]
    }
   ],
   "source": [
    "class student:\n",
    "   \n",
    "    def __init__(self,name,marks):\n",
    "      self.name=name\n",
    "      self.marks=marks\n",
    "      print(\"adding new student in database\")\n",
    "\n",
    "s1=student(\"siddhesh\",90)\n",
    "print(s1.name,s1.marks)\n",
    "\n",
    "s2=student(\"rahul\",80)\n",
    "print(s2.name,s2.marks)"
   ]
  },
  {
   "cell_type": "markdown",
   "id": "4b22605c-c29a-4662-a262-7f5e3922ee6d",
   "metadata": {},
   "source": [
    "Attribute"
   ]
  },
  {
   "cell_type": "code",
   "execution_count": 62,
   "id": "12ea4c50-8514-4477-8aba-14534c7825d7",
   "metadata": {},
   "outputs": [
    {
     "name": "stdout",
     "output_type": "stream",
     "text": [
      "adding new student in database\n",
      "Siddhesh 90\n"
     ]
    }
   ],
   "source": [
    "class student:\n",
    "    clg_name=\"Mit college\"\n",
    "    name=\"rahul\"\n",
    "\n",
    "    def __init__(self,name,marks):\n",
    "        self.name=name\n",
    "        self.marks=marks\n",
    "        print(\"adding new student in database\")\n",
    "s1=student(\"Siddhesh\",90)\n",
    "print(s1.name,s1.marks)"
   ]
  },
  {
   "cell_type": "markdown",
   "id": "61ce0d14-0aa5-4d0d-abda-115a5e5df0da",
   "metadata": {},
   "source": [
    "METHODS"
   ]
  },
  {
   "cell_type": "code",
   "execution_count": 74,
   "id": "0e0a193d-6b58-48b6-ba47-c57775242d67",
   "metadata": {},
   "outputs": [
    {
     "name": "stdout",
     "output_type": "stream",
     "text": [
      "siddhesh 99\n",
      "WELCOME STUDENT\n"
     ]
    }
   ],
   "source": [
    "class student:\n",
    "    clg_name=\"MIT college\"\n",
    "\n",
    "    def __init__(self,name,marks):\n",
    "        self.name=name\n",
    "        self.marks=marks\n",
    "        \n",
    "    def Welcome(self):\n",
    "        print(\"WELCOME STUDENT\")\n",
    "        \n",
    "s1=student(\"siddhesh\",99)\n",
    "print(s1.name,s1.marks)\n",
    "s1.Welcome()"
   ]
  },
  {
   "cell_type": "markdown",
   "id": "d49cef8f-db9b-47dd-8685-be9fc0dda7d0",
   "metadata": {},
   "source": [
    "Abstration"
   ]
  },
  {
   "cell_type": "code",
   "execution_count": 80,
   "id": "27fb87d0-27b1-4689-b6dc-7e2cb3c7f8fd",
   "metadata": {},
   "outputs": [
    {
     "name": "stdout",
     "output_type": "stream",
     "text": [
      "car started\n"
     ]
    }
   ],
   "source": [
    "class car:\n",
    "    def __init__(self):\n",
    "        self.acc=False\n",
    "        self.brk=False\n",
    "        self.clutch=False\n",
    "    def start(self):\n",
    "        self.clutch=True\n",
    "        self.acc=True\n",
    "        print(\"car started\")\n",
    "car1=car()\n",
    "car1.start()"
   ]
  },
  {
   "cell_type": "markdown",
   "id": "cfa06f86-11c6-43d7-afe0-8840d88e87be",
   "metadata": {},
   "source": [
    "Encapsulation"
   ]
  },
  {
   "cell_type": "code",
   "execution_count": 97,
   "id": "236d190a-7a67-43fd-a60c-e748708ab7f3",
   "metadata": {},
   "outputs": [
    {
     "name": "stdout",
     "output_type": "stream",
     "text": [
      "10000\n",
      "12345\n",
      "Rs. 10000 was debited\n",
      "Total balance = 0\n",
      "Rs. 10000 was credited\n",
      "Total balance = 10000\n"
     ]
    }
   ],
   "source": [
    "class Account:\n",
    "    def __init__(self, bal, acc):\n",
    "        self.balance = bal\n",
    "        self.account_no = acc\n",
    "        \n",
    "    def debit(self, amount):\n",
    "        self.balance -= amount\n",
    "        print(\"Rs.\", amount, \"was debited\")\n",
    "        print(\"Total balance =\", self.get_balance())\n",
    "    \n",
    "    def credit(self, amount):\n",
    "        self.balance += amount\n",
    "        print(\"Rs.\", amount, \"was credited\")\n",
    "        print(\"Total balance =\", self.get_balance())\n",
    "\n",
    "    def get_balance(self):\n",
    "        return self.balance\n",
    "\n",
    "acc1=Account(10000,12345)\n",
    "print(acc1.balance)\n",
    "print(acc1.account_no)\n",
    "\n",
    "acc1.debit(10000)\n",
    "acc1.credit(10000)\n"
   ]
  },
  {
   "cell_type": "markdown",
   "id": "cf88eb9b-7ede-44e2-a409-54527126523d",
   "metadata": {},
   "source": [
    "Inheritance"
   ]
  },
  {
   "cell_type": "code",
   "execution_count": 1,
   "id": "25c3832a-61ac-4756-98ba-821395414f0d",
   "metadata": {},
   "outputs": [
    {
     "name": "stdout",
     "output_type": "stream",
     "text": [
      "dog barking\n",
      "Animal Speaking\n"
     ]
    }
   ],
   "source": [
    "class Animal:  \n",
    "    def speak(self):  \n",
    "        print(\"Animal Speaking\")  \n",
    "#child class Dog inherits the base class Animal  \n",
    "class Dog(Animal):  \n",
    "    def bark(self):  \n",
    "        print(\"dog barking\")  \n",
    "d = Dog()  \n",
    "d.bark()  \n",
    "d.speak()  "
   ]
  },
  {
   "cell_type": "code",
   "execution_count": 3,
   "id": "7f98cbeb-0e62-464c-a4c6-19edf677e260",
   "metadata": {},
   "outputs": [
    {
     "name": "stdout",
     "output_type": "stream",
     "text": [
      "dog barking\n",
      "Animal Speaking\n",
      "Eating bread...\n"
     ]
    }
   ],
   "source": [
    "class Animal:  \n",
    "    def speak(self):  \n",
    "        print(\"Animal Speaking\")  \n",
    "#The child class Dog inherits the base class Animal  \n",
    "class Dog(Animal):  \n",
    "    def bark(self):  \n",
    "        print(\"dog barking\")  \n",
    "#The child class Dogchild inherits another child class Dog  \n",
    "class DogChild(Dog):  \n",
    "    def eat(self):  \n",
    "        print(\"Eating bread...\")  \n",
    "d = DogChild()  \n",
    "d.bark()  \n",
    "d.speak()  \n",
    "d.eat()  "
   ]
  },
  {
   "cell_type": "code",
   "execution_count": 5,
   "id": "560984b3-81b4-4082-a3ae-430694281a1d",
   "metadata": {},
   "outputs": [
    {
     "name": "stdout",
     "output_type": "stream",
     "text": [
      "30\n",
      "200\n",
      "0.5\n"
     ]
    }
   ],
   "source": [
    "class Calculation1:  \n",
    "    def Summation(self,a,b):  \n",
    "        return a+b;  \n",
    "class Calculation2:  \n",
    "    def Multiplication(self,a,b):  \n",
    "        return a*b;  \n",
    "class Derived(Calculation1,Calculation2):  \n",
    "    def Divide(self,a,b):  \n",
    "        return a/b;  \n",
    "d = Derived()  \n",
    "print(d.Summation(10,20))  \n",
    "print(d.Multiplication(10,20))  \n",
    "print(d.Divide(10,20))  "
   ]
  },
  {
   "cell_type": "markdown",
   "id": "6ac357ff-7efd-4384-bc16-371a535bea3a",
   "metadata": {},
   "source": [
    "Method Overloading"
   ]
  },
  {
   "cell_type": "code",
   "execution_count": 7,
   "id": "943c7a5b-e0dc-44ac-ae54-097c0c0102b7",
   "metadata": {},
   "outputs": [
    {
     "name": "stdout",
     "output_type": "stream",
     "text": [
      "Barking\n"
     ]
    }
   ],
   "source": [
    "class Animal:  \n",
    "    def speak(self):  \n",
    "        print(\"speaking\")  \n",
    "class Dog(Animal):  \n",
    "    def speak(self):  \n",
    "        print(\"Barking\")  \n",
    "d = Dog()  \n",
    "d.speak()  "
   ]
  },
  {
   "cell_type": "markdown",
   "id": "768e5df2-f341-4a30-9c59-73e67bdc4c37",
   "metadata": {},
   "source": [
    "Method Overriding"
   ]
  },
  {
   "cell_type": "code",
   "execution_count": 15,
   "id": "446ca974-726f-4d65-b5bd-70efb940a25c",
   "metadata": {},
   "outputs": [
    {
     "name": "stdout",
     "output_type": "stream",
     "text": [
      "Bank Rate of interest: 10\n",
      "SBI Rate of interest: 7\n",
      "ICICI Rate of interest: 8\n"
     ]
    }
   ],
   "source": [
    "class Bank:  \n",
    "    def getroi(self):  \n",
    "        return 10;  \n",
    "class SBI(Bank):  \n",
    "    def getroi(self):  \n",
    "        return 7;  \n",
    "  \n",
    "class ICICI(Bank):  \n",
    "    def getroi(self):  \n",
    "        return 8;  \n",
    "b1 = Bank()  \n",
    "b2 = SBI()  \n",
    "b3 = ICICI()  \n",
    "print(\"Bank Rate of interest:\",b1.getroi());  \n",
    "print(\"SBI Rate of interest:\",b2.getroi());  \n",
    "print(\"ICICI Rate of interest:\",b3.getroi());  "
   ]
  },
  {
   "cell_type": "code",
   "execution_count": null,
   "id": "f7222e36-b9e8-4c72-87f9-af723eb130df",
   "metadata": {},
   "outputs": [],
   "source": []
  }
 ],
 "metadata": {
  "kernelspec": {
   "display_name": "Python 3 (ipykernel)",
   "language": "python",
   "name": "python3"
  },
  "language_info": {
   "codemirror_mode": {
    "name": "ipython",
    "version": 3
   },
   "file_extension": ".py",
   "mimetype": "text/x-python",
   "name": "python",
   "nbconvert_exporter": "python",
   "pygments_lexer": "ipython3",
   "version": "3.12.4"
  }
 },
 "nbformat": 4,
 "nbformat_minor": 5
}
