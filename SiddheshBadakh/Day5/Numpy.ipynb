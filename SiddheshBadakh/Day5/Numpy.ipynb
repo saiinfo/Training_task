{
 "cells": [
  {
   "cell_type": "markdown",
   "id": "fea48ab7-8ade-4ed6-bf22-a3b90eeeaf63",
   "metadata": {},
   "source": [
    "#Python Numpy Library"
   ]
  },
  {
   "cell_type": "code",
   "execution_count": 2,
   "id": "77498f40-8971-4acf-95de-b0b59ce2dcce",
   "metadata": {},
   "outputs": [],
   "source": [
    "import numpy as np"
   ]
  },
  {
   "cell_type": "code",
   "execution_count": 3,
   "id": "e541de6a-5c1a-4895-9192-6ee51abc9be2",
   "metadata": {},
   "outputs": [],
   "source": [
    "myarr=np.array([3,6,32,8])"
   ]
  },
  {
   "cell_type": "code",
   "execution_count": 4,
   "id": "0ed25357-df0d-4f16-b96f-f5d9b78f9da0",
   "metadata": {},
   "outputs": [
    {
     "data": {
      "text/plain": [
       "array([ 3,  6, 32,  8])"
      ]
     },
     "execution_count": 4,
     "metadata": {},
     "output_type": "execute_result"
    }
   ],
   "source": [
    "myarr"
   ]
  },
  {
   "cell_type": "code",
   "execution_count": 9,
   "id": "f3f62624-c537-4840-9892-4d103193af7c",
   "metadata": {},
   "outputs": [],
   "source": [
    "myarr=np.array([3,6,30,8],np.int32)"
   ]
  },
  {
   "cell_type": "code",
   "execution_count": 17,
   "id": "87ea6484-b04f-4eea-837f-348a13bfd70c",
   "metadata": {},
   "outputs": [
    {
     "data": {
      "text/plain": [
       "30"
      ]
     },
     "execution_count": 17,
     "metadata": {},
     "output_type": "execute_result"
    }
   ],
   "source": [
    "myarr[2]"
   ]
  },
  {
   "cell_type": "code",
   "execution_count": 19,
   "id": "1af68188-c522-4cc6-8a8c-f7609eaf573d",
   "metadata": {},
   "outputs": [],
   "source": [
    "myarr=np.array([[3,6,30,8]],np.int32)"
   ]
  },
  {
   "cell_type": "code",
   "execution_count": 29,
   "id": "ebca67a5-b438-405f-9bf2-3db2e76de173",
   "metadata": {},
   "outputs": [
    {
     "data": {
      "text/plain": [
       "30"
      ]
     },
     "execution_count": 29,
     "metadata": {},
     "output_type": "execute_result"
    }
   ],
   "source": [
    "myarr[0,2]"
   ]
  },
  {
   "cell_type": "code",
   "execution_count": 33,
   "id": "4fdab83d-8976-4397-a607-a3f257412050",
   "metadata": {},
   "outputs": [
    {
     "data": {
      "text/plain": [
       "(1, 4)"
      ]
     },
     "execution_count": 33,
     "metadata": {},
     "output_type": "execute_result"
    }
   ],
   "source": [
    "myarr.shape"
   ]
  },
  {
   "cell_type": "code",
   "execution_count": 35,
   "id": "2162aab2-7fc4-40a8-9a55-f9f4c455b90a",
   "metadata": {},
   "outputs": [
    {
     "data": {
      "text/plain": [
       "dtype('int32')"
      ]
     },
     "execution_count": 35,
     "metadata": {},
     "output_type": "execute_result"
    }
   ],
   "source": [
    "myarr.dtype"
   ]
  },
  {
   "cell_type": "markdown",
   "id": "33d22359-adab-4385-a3d3-2c0a3002684a",
   "metadata": {},
   "source": [
    "Array Creation:Conversion from other python structure"
   ]
  },
  {
   "cell_type": "code",
   "execution_count": 37,
   "id": "7a73f69d-cf90-463f-9534-b398afc9583f",
   "metadata": {},
   "outputs": [],
   "source": [
    "listarray=np.array([[1,2,3],[4,5,6],[6,8,4]])"
   ]
  },
  {
   "cell_type": "code",
   "execution_count": 39,
   "id": "3089b84e-1dc7-4a80-8851-2b7fc6e5bfc7",
   "metadata": {},
   "outputs": [
    {
     "data": {
      "text/plain": [
       "array([[1, 2, 3],\n",
       "       [4, 5, 6],\n",
       "       [6, 8, 4]])"
      ]
     },
     "execution_count": 39,
     "metadata": {},
     "output_type": "execute_result"
    }
   ],
   "source": [
    "listarray"
   ]
  },
  {
   "cell_type": "code",
   "execution_count": 41,
   "id": "f5991a84-7e62-4213-8568-6227611ad074",
   "metadata": {},
   "outputs": [
    {
     "data": {
      "text/plain": [
       "dtype('int32')"
      ]
     },
     "execution_count": 41,
     "metadata": {},
     "output_type": "execute_result"
    }
   ],
   "source": [
    "listarray.dtype"
   ]
  },
  {
   "cell_type": "code",
   "execution_count": 43,
   "id": "0baded05-45be-4849-861c-518463c7b00b",
   "metadata": {},
   "outputs": [
    {
     "data": {
      "text/plain": [
       "9"
      ]
     },
     "execution_count": 43,
     "metadata": {},
     "output_type": "execute_result"
    }
   ],
   "source": [
    "listarray.size"
   ]
  },
  {
   "cell_type": "code",
   "execution_count": 45,
   "id": "6d694a14-6c98-4230-bb90-b64436cd6b74",
   "metadata": {},
   "outputs": [
    {
     "data": {
      "text/plain": [
       "array({40, 50, 60, 30}, dtype=object)"
      ]
     },
     "execution_count": 45,
     "metadata": {},
     "output_type": "execute_result"
    }
   ],
   "source": [
    "np.array({30,40,50,60})"
   ]
  },
  {
   "cell_type": "markdown",
   "id": "f75c9c9c-c3be-4cf6-b0e0-3d657bc317ec",
   "metadata": {},
   "source": [
    "Array Creation : Intrinsic numpy creation objects"
   ]
  },
  {
   "cell_type": "code",
   "execution_count": 47,
   "id": "85e69f46-825c-40ea-95d4-49ab831dde2f",
   "metadata": {},
   "outputs": [],
   "source": [
    "zeros=np.zeros((2,5))"
   ]
  },
  {
   "cell_type": "code",
   "execution_count": 49,
   "id": "6c74a3b3-735c-41e0-8ddc-bc12767d23b7",
   "metadata": {},
   "outputs": [
    {
     "data": {
      "text/plain": [
       "array([[0., 0., 0., 0., 0.],\n",
       "       [0., 0., 0., 0., 0.]])"
      ]
     },
     "execution_count": 49,
     "metadata": {},
     "output_type": "execute_result"
    }
   ],
   "source": [
    "zeros"
   ]
  },
  {
   "cell_type": "code",
   "execution_count": 51,
   "id": "bc069976-3a31-40d8-96ba-fc87544f8cbc",
   "metadata": {},
   "outputs": [
    {
     "data": {
      "text/plain": [
       "dtype('float64')"
      ]
     },
     "execution_count": 51,
     "metadata": {},
     "output_type": "execute_result"
    }
   ],
   "source": [
    "zeros.dtype"
   ]
  },
  {
   "cell_type": "code",
   "execution_count": 55,
   "id": "1235dca0-8973-4a36-9cfd-aada7fd83d71",
   "metadata": {},
   "outputs": [],
   "source": [
    "rng=np.arange(15)"
   ]
  },
  {
   "cell_type": "code",
   "execution_count": 57,
   "id": "f5fea1d7-49be-4559-b572-1a4539750bef",
   "metadata": {},
   "outputs": [
    {
     "data": {
      "text/plain": [
       "array([ 0,  1,  2,  3,  4,  5,  6,  7,  8,  9, 10, 11, 12, 13, 14])"
      ]
     },
     "execution_count": 57,
     "metadata": {},
     "output_type": "execute_result"
    }
   ],
   "source": [
    "rng"
   ]
  },
  {
   "cell_type": "code",
   "execution_count": 59,
   "id": "9b925681-9627-4765-ad7f-5321e9b56285",
   "metadata": {},
   "outputs": [],
   "source": [
    "lspace=np.linspace"
   ]
  },
  {
   "cell_type": "code",
   "execution_count": 71,
   "id": "119b63c6-1450-4c2b-bf87-df394062386a",
   "metadata": {},
   "outputs": [],
   "source": [
    "lspace=np.linspace(1,25,100)"
   ]
  },
  {
   "cell_type": "code",
   "execution_count": 73,
   "id": "a4c357a0-2eba-4569-9356-61e04a6af45f",
   "metadata": {},
   "outputs": [
    {
     "data": {
      "text/plain": [
       "array([ 1.        ,  1.24242424,  1.48484848,  1.72727273,  1.96969697,\n",
       "        2.21212121,  2.45454545,  2.6969697 ,  2.93939394,  3.18181818,\n",
       "        3.42424242,  3.66666667,  3.90909091,  4.15151515,  4.39393939,\n",
       "        4.63636364,  4.87878788,  5.12121212,  5.36363636,  5.60606061,\n",
       "        5.84848485,  6.09090909,  6.33333333,  6.57575758,  6.81818182,\n",
       "        7.06060606,  7.3030303 ,  7.54545455,  7.78787879,  8.03030303,\n",
       "        8.27272727,  8.51515152,  8.75757576,  9.        ,  9.24242424,\n",
       "        9.48484848,  9.72727273,  9.96969697, 10.21212121, 10.45454545,\n",
       "       10.6969697 , 10.93939394, 11.18181818, 11.42424242, 11.66666667,\n",
       "       11.90909091, 12.15151515, 12.39393939, 12.63636364, 12.87878788,\n",
       "       13.12121212, 13.36363636, 13.60606061, 13.84848485, 14.09090909,\n",
       "       14.33333333, 14.57575758, 14.81818182, 15.06060606, 15.3030303 ,\n",
       "       15.54545455, 15.78787879, 16.03030303, 16.27272727, 16.51515152,\n",
       "       16.75757576, 17.        , 17.24242424, 17.48484848, 17.72727273,\n",
       "       17.96969697, 18.21212121, 18.45454545, 18.6969697 , 18.93939394,\n",
       "       19.18181818, 19.42424242, 19.66666667, 19.90909091, 20.15151515,\n",
       "       20.39393939, 20.63636364, 20.87878788, 21.12121212, 21.36363636,\n",
       "       21.60606061, 21.84848485, 22.09090909, 22.33333333, 22.57575758,\n",
       "       22.81818182, 23.06060606, 23.3030303 , 23.54545455, 23.78787879,\n",
       "       24.03030303, 24.27272727, 24.51515152, 24.75757576, 25.        ])"
      ]
     },
     "execution_count": 73,
     "metadata": {},
     "output_type": "execute_result"
    }
   ],
   "source": [
    "lspace"
   ]
  },
  {
   "cell_type": "code",
   "execution_count": 75,
   "id": "3983e3b3-434a-4491-8518-6ce7487a12b6",
   "metadata": {},
   "outputs": [],
   "source": [
    " lspace=np.linspace(1,25,5)"
   ]
  },
  {
   "cell_type": "code",
   "execution_count": 77,
   "id": "b807a647-b6c3-405d-9f0e-41f724a40014",
   "metadata": {},
   "outputs": [
    {
     "data": {
      "text/plain": [
       "array([ 1.,  7., 13., 19., 25.])"
      ]
     },
     "execution_count": 77,
     "metadata": {},
     "output_type": "execute_result"
    }
   ],
   "source": [
    "lspace"
   ]
  },
  {
   "cell_type": "code",
   "execution_count": 83,
   "id": "b462ad38-95c7-4d86-9ca1-a24e00a60733",
   "metadata": {},
   "outputs": [],
   "source": [
    "emp=np.empty((4,6))"
   ]
  },
  {
   "cell_type": "code",
   "execution_count": 85,
   "id": "057df476-8e83-453b-b8b6-ee5e1fb6a13a",
   "metadata": {},
   "outputs": [
    {
     "data": {
      "text/plain": [
       "array([[6.23042070e-307, 4.67296746e-307, 1.69121096e-306,\n",
       "        1.86921822e-306, 1.33511018e-306, 1.33511969e-306],\n",
       "       [6.23037996e-307, 6.23053954e-307, 9.34609790e-307,\n",
       "        8.45593934e-307, 9.34600963e-307, 1.86921143e-306],\n",
       "       [6.23061763e-307, 8.90104239e-307, 8.01089062e-307,\n",
       "        1.02359848e-306, 1.60219035e-306, 1.60220393e-306],\n",
       "       [1.05700515e-307, 2.04712906e-306, 7.56589622e-307,\n",
       "        1.11258277e-307, 8.90111708e-307, 1.69105613e-306]])"
      ]
     },
     "execution_count": 85,
     "metadata": {},
     "output_type": "execute_result"
    }
   ],
   "source": [
    "emp"
   ]
  },
  {
   "cell_type": "code",
   "execution_count": 89,
   "id": "c13de990-0859-40e1-986d-4a75a7540b6d",
   "metadata": {},
   "outputs": [],
   "source": [
    "emp_like = np.empty_like(lspace)"
   ]
  },
  {
   "cell_type": "code",
   "execution_count": 91,
   "id": "0ebdbb33-004a-49bf-9418-e597d969b5da",
   "metadata": {},
   "outputs": [
    {
     "data": {
      "text/plain": [
       "array([ 1.,  7., 13., 19., 25.])"
      ]
     },
     "execution_count": 91,
     "metadata": {},
     "output_type": "execute_result"
    }
   ],
   "source": [
    "emp_like"
   ]
  },
  {
   "cell_type": "code",
   "execution_count": 93,
   "id": "4dd6c0b6-8a8f-4020-a43b-e26c5abf1c98",
   "metadata": {},
   "outputs": [],
   "source": [
    "ide=np.identity(45)"
   ]
  },
  {
   "cell_type": "code",
   "execution_count": 95,
   "id": "861ef2cf-5e96-48be-8ac9-ea54d3a18d1a",
   "metadata": {},
   "outputs": [
    {
     "data": {
      "text/plain": [
       "array([[1., 0., 0., ..., 0., 0., 0.],\n",
       "       [0., 1., 0., ..., 0., 0., 0.],\n",
       "       [0., 0., 1., ..., 0., 0., 0.],\n",
       "       ...,\n",
       "       [0., 0., 0., ..., 1., 0., 0.],\n",
       "       [0., 0., 0., ..., 0., 1., 0.],\n",
       "       [0., 0., 0., ..., 0., 0., 1.]])"
      ]
     },
     "execution_count": 95,
     "metadata": {},
     "output_type": "execute_result"
    }
   ],
   "source": [
    "ide"
   ]
  },
  {
   "cell_type": "code",
   "execution_count": 97,
   "id": "1fb5da29-9abc-47cf-9423-650800d83336",
   "metadata": {},
   "outputs": [
    {
     "data": {
      "text/plain": [
       "(45, 45)"
      ]
     },
     "execution_count": 97,
     "metadata": {},
     "output_type": "execute_result"
    }
   ],
   "source": [
    "ide.shape"
   ]
  },
  {
   "cell_type": "code",
   "execution_count": 99,
   "id": "91d3ef37-9810-4b4b-8063-eafb6fd89770",
   "metadata": {},
   "outputs": [],
   "source": [
    "arr=np.arange(99)"
   ]
  },
  {
   "cell_type": "code",
   "execution_count": 101,
   "id": "5f391ee9-cacd-42b5-9e9d-026c64d0dfe6",
   "metadata": {},
   "outputs": [
    {
     "data": {
      "text/plain": [
       "array([ 0,  1,  2,  3,  4,  5,  6,  7,  8,  9, 10, 11, 12, 13, 14, 15, 16,\n",
       "       17, 18, 19, 20, 21, 22, 23, 24, 25, 26, 27, 28, 29, 30, 31, 32, 33,\n",
       "       34, 35, 36, 37, 38, 39, 40, 41, 42, 43, 44, 45, 46, 47, 48, 49, 50,\n",
       "       51, 52, 53, 54, 55, 56, 57, 58, 59, 60, 61, 62, 63, 64, 65, 66, 67,\n",
       "       68, 69, 70, 71, 72, 73, 74, 75, 76, 77, 78, 79, 80, 81, 82, 83, 84,\n",
       "       85, 86, 87, 88, 89, 90, 91, 92, 93, 94, 95, 96, 97, 98])"
      ]
     },
     "execution_count": 101,
     "metadata": {},
     "output_type": "execute_result"
    }
   ],
   "source": [
    "arr"
   ]
  },
  {
   "cell_type": "code",
   "execution_count": 103,
   "id": "e0c7c94a-817e-4ded-9c41-d155e155d283",
   "metadata": {},
   "outputs": [
    {
     "data": {
      "text/plain": [
       "array([[ 0,  1,  2,  3,  4,  5,  6,  7,  8,  9, 10, 11, 12, 13, 14, 15,\n",
       "        16, 17, 18, 19, 20, 21, 22, 23, 24, 25, 26, 27, 28, 29, 30, 31,\n",
       "        32],\n",
       "       [33, 34, 35, 36, 37, 38, 39, 40, 41, 42, 43, 44, 45, 46, 47, 48,\n",
       "        49, 50, 51, 52, 53, 54, 55, 56, 57, 58, 59, 60, 61, 62, 63, 64,\n",
       "        65],\n",
       "       [66, 67, 68, 69, 70, 71, 72, 73, 74, 75, 76, 77, 78, 79, 80, 81,\n",
       "        82, 83, 84, 85, 86, 87, 88, 89, 90, 91, 92, 93, 94, 95, 96, 97,\n",
       "        98]])"
      ]
     },
     "execution_count": 103,
     "metadata": {},
     "output_type": "execute_result"
    }
   ],
   "source": [
    "arr.reshape(3,33)"
   ]
  },
  {
   "cell_type": "code",
   "execution_count": 109,
   "id": "be0acd64-53c4-4e67-8f44-ab04e4439c64",
   "metadata": {},
   "outputs": [],
   "source": [
    "arr=arr.ravel()"
   ]
  },
  {
   "cell_type": "code",
   "execution_count": 111,
   "id": "a8b52e2a-e5af-4c80-b4d6-d844e7c2b775",
   "metadata": {},
   "outputs": [
    {
     "data": {
      "text/plain": [
       "array([ 0,  1,  2,  3,  4,  5,  6,  7,  8,  9, 10, 11, 12, 13, 14, 15, 16,\n",
       "       17, 18, 19, 20, 21, 22, 23, 24, 25, 26, 27, 28, 29, 30, 31, 32, 33,\n",
       "       34, 35, 36, 37, 38, 39, 40, 41, 42, 43, 44, 45, 46, 47, 48, 49, 50,\n",
       "       51, 52, 53, 54, 55, 56, 57, 58, 59, 60, 61, 62, 63, 64, 65, 66, 67,\n",
       "       68, 69, 70, 71, 72, 73, 74, 75, 76, 77, 78, 79, 80, 81, 82, 83, 84,\n",
       "       85, 86, 87, 88, 89, 90, 91, 92, 93, 94, 95, 96, 97, 98])"
      ]
     },
     "execution_count": 111,
     "metadata": {},
     "output_type": "execute_result"
    }
   ],
   "source": [
    "arr"
   ]
  },
  {
   "cell_type": "code",
   "execution_count": 113,
   "id": "1b52bddb-b9e0-44c6-a309-0aa6647d5587",
   "metadata": {},
   "outputs": [],
   "source": [
    "x=[[1,2,3],[4,5,6],[7,1,0]]"
   ]
  },
  {
   "cell_type": "code",
   "execution_count": 115,
   "id": "1f3988c7-45d2-44e8-9f64-0cbde4c37882",
   "metadata": {},
   "outputs": [],
   "source": [
    "ar=np.array(x)"
   ]
  },
  {
   "cell_type": "code",
   "execution_count": 117,
   "id": "0dad38d0-4ce8-4775-a9ba-af69a455cd82",
   "metadata": {},
   "outputs": [
    {
     "data": {
      "text/plain": [
       "array([[1, 2, 3],\n",
       "       [4, 5, 6],\n",
       "       [7, 1, 0]])"
      ]
     },
     "execution_count": 117,
     "metadata": {},
     "output_type": "execute_result"
    }
   ],
   "source": [
    "ar"
   ]
  },
  {
   "cell_type": "code",
   "execution_count": 119,
   "id": "52e2a586-80d5-49fc-9fd3-accbdd7e9e8c",
   "metadata": {},
   "outputs": [
    {
     "data": {
      "text/plain": [
       "array([12,  8,  9])"
      ]
     },
     "execution_count": 119,
     "metadata": {},
     "output_type": "execute_result"
    }
   ],
   "source": [
    "ar.sum(axis=0)"
   ]
  },
  {
   "cell_type": "code",
   "execution_count": 121,
   "id": "f298a614-756d-408c-8e0e-764cc8b0a648",
   "metadata": {},
   "outputs": [
    {
     "data": {
      "text/plain": [
       "array([ 6, 15,  8])"
      ]
     },
     "execution_count": 121,
     "metadata": {},
     "output_type": "execute_result"
    }
   ],
   "source": [
    "ar.sum(axis=1)"
   ]
  },
  {
   "cell_type": "code",
   "execution_count": 123,
   "id": "3229f8ab-4060-4f28-a751-9abba7abbb53",
   "metadata": {},
   "outputs": [
    {
     "data": {
      "text/plain": [
       "array([[1, 4, 7],\n",
       "       [2, 5, 1],\n",
       "       [3, 6, 0]])"
      ]
     },
     "execution_count": 123,
     "metadata": {},
     "output_type": "execute_result"
    }
   ],
   "source": [
    "ar.T"
   ]
  },
  {
   "cell_type": "code",
   "execution_count": 125,
   "id": "05023aff-68ae-4958-a8ff-69ead19d8a3b",
   "metadata": {},
   "outputs": [
    {
     "data": {
      "text/plain": [
       "<numpy.flatiter at 0x26d01a42350>"
      ]
     },
     "execution_count": 125,
     "metadata": {},
     "output_type": "execute_result"
    }
   ],
   "source": [
    "ar.flat"
   ]
  },
  {
   "cell_type": "code",
   "execution_count": 127,
   "id": "bab99b10-ef59-4f36-b070-f7e2f2bd3e2d",
   "metadata": {},
   "outputs": [
    {
     "name": "stdout",
     "output_type": "stream",
     "text": [
      "1\n",
      "2\n",
      "3\n",
      "4\n",
      "5\n",
      "6\n",
      "7\n",
      "1\n",
      "0\n"
     ]
    }
   ],
   "source": [
    "for item in ar.flat:\n",
    "    print(item)"
   ]
  },
  {
   "cell_type": "code",
   "execution_count": 129,
   "id": "5f359810-3205-4d97-a698-c133a6538227",
   "metadata": {},
   "outputs": [
    {
     "data": {
      "text/plain": [
       "1"
      ]
     },
     "execution_count": 129,
     "metadata": {},
     "output_type": "execute_result"
    }
   ],
   "source": [
    "arr.ndim"
   ]
  },
  {
   "cell_type": "code",
   "execution_count": 131,
   "id": "23887076-9fa5-43b7-87eb-7e760e441ac0",
   "metadata": {},
   "outputs": [
    {
     "data": {
      "text/plain": [
       "99"
      ]
     },
     "execution_count": 131,
     "metadata": {},
     "output_type": "execute_result"
    }
   ],
   "source": [
    "arr.size"
   ]
  },
  {
   "cell_type": "code",
   "execution_count": 133,
   "id": "ea9370c5-cf22-455b-8013-f3f9e873b159",
   "metadata": {},
   "outputs": [
    {
     "data": {
      "text/plain": [
       "396"
      ]
     },
     "execution_count": 133,
     "metadata": {},
     "output_type": "execute_result"
    }
   ],
   "source": [
    "arr.nbytes"
   ]
  },
  {
   "cell_type": "code",
   "execution_count": 137,
   "id": "5336d37f-5cc0-4f8f-a83d-ecc6b883ed87",
   "metadata": {},
   "outputs": [],
   "source": [
    "one=np.array([1,3,4,634,2])"
   ]
  },
  {
   "cell_type": "code",
   "execution_count": 139,
   "id": "28daae22-84ac-47ee-a622-7dbba51a795b",
   "metadata": {},
   "outputs": [
    {
     "data": {
      "text/plain": [
       "3"
      ]
     },
     "execution_count": 139,
     "metadata": {},
     "output_type": "execute_result"
    }
   ],
   "source": [
    "one.argmax()"
   ]
  },
  {
   "cell_type": "code",
   "execution_count": 141,
   "id": "7dd19488-b0c4-4122-8504-c8ae4cd65793",
   "metadata": {},
   "outputs": [
    {
     "data": {
      "text/plain": [
       "0"
      ]
     },
     "execution_count": 141,
     "metadata": {},
     "output_type": "execute_result"
    }
   ],
   "source": [
    "one.argmin()"
   ]
  },
  {
   "cell_type": "code",
   "execution_count": 145,
   "id": "2ca1d48e-1a6a-4485-af01-d86a16f15e94",
   "metadata": {},
   "outputs": [
    {
     "data": {
      "text/plain": [
       "array([0, 4, 1, 2, 3], dtype=int64)"
      ]
     },
     "execution_count": 145,
     "metadata": {},
     "output_type": "execute_result"
    }
   ],
   "source": [
    "one.argsort()"
   ]
  },
  {
   "cell_type": "code",
   "execution_count": 147,
   "id": "367c028a-2a1b-405e-861a-b322734b0b8c",
   "metadata": {},
   "outputs": [
    {
     "data": {
      "text/plain": [
       "3"
      ]
     },
     "execution_count": 147,
     "metadata": {},
     "output_type": "execute_result"
    }
   ],
   "source": [
    "one.argmax(axis=0)"
   ]
  },
  {
   "cell_type": "code",
   "execution_count": 151,
   "id": "664973af-d9e3-4bb9-88ac-0f4be1add82e",
   "metadata": {},
   "outputs": [
    {
     "data": {
      "text/plain": [
       "array([1, 2, 3, 4, 5, 6, 7, 1, 0])"
      ]
     },
     "execution_count": 151,
     "metadata": {},
     "output_type": "execute_result"
    }
   ],
   "source": [
    "ar.ravel()"
   ]
  },
  {
   "cell_type": "code",
   "execution_count": 155,
   "id": "1bcda607-f446-4b7c-bfec-c50c0b2d04a9",
   "metadata": {},
   "outputs": [
    {
     "data": {
      "text/plain": [
       "array([[1],\n",
       "       [2],\n",
       "       [3],\n",
       "       [4],\n",
       "       [5],\n",
       "       [6],\n",
       "       [7],\n",
       "       [1],\n",
       "       [0]])"
      ]
     },
     "execution_count": 155,
     "metadata": {},
     "output_type": "execute_result"
    }
   ],
   "source": [
    "ar.reshape((9,1))"
   ]
  },
  {
   "cell_type": "code",
   "execution_count": 157,
   "id": "11c1ce9e-2f7c-4f86-bf27-d326984075ca",
   "metadata": {},
   "outputs": [
    {
     "data": {
      "text/plain": [
       "array([1, 2, 3, 4, 5, 6, 7, 1, 0])"
      ]
     },
     "execution_count": 157,
     "metadata": {},
     "output_type": "execute_result"
    }
   ],
   "source": [
    "ar.reshape((9))"
   ]
  },
  {
   "cell_type": "code",
   "execution_count": 159,
   "id": "d59e9169-c04e-46b9-af95-352afaed5d57",
   "metadata": {},
   "outputs": [
    {
     "data": {
      "text/plain": [
       "array([[1, 2, 3],\n",
       "       [4, 5, 6],\n",
       "       [7, 1, 0]])"
      ]
     },
     "execution_count": 159,
     "metadata": {},
     "output_type": "execute_result"
    }
   ],
   "source": [
    "ar"
   ]
  },
  {
   "cell_type": "code",
   "execution_count": 161,
   "id": "c4ab0819-ac06-49b1-a08f-483445f3781a",
   "metadata": {},
   "outputs": [],
   "source": [
    "ar2=np.array([[1,4,3],\n",
    "              [4,0,6],\n",
    "              [7,1,0]])"
   ]
  },
  {
   "cell_type": "code",
   "execution_count": 167,
   "id": "ab81518d-8028-419a-b2aa-23b814144059",
   "metadata": {},
   "outputs": [
    {
     "data": {
      "text/plain": [
       "array([[1, 2, 3],\n",
       "       [4, 5, 6],\n",
       "       [7, 1, 0]])"
      ]
     },
     "execution_count": 167,
     "metadata": {},
     "output_type": "execute_result"
    }
   ],
   "source": [
    "ar"
   ]
  },
  {
   "cell_type": "code",
   "execution_count": 163,
   "id": "09f098b5-17c7-4814-834c-5a7c442f7923",
   "metadata": {},
   "outputs": [
    {
     "data": {
      "text/plain": [
       "array([[1, 4, 3],\n",
       "       [4, 0, 6],\n",
       "       [7, 1, 0]])"
      ]
     },
     "execution_count": 163,
     "metadata": {},
     "output_type": "execute_result"
    }
   ],
   "source": [
    "ar2"
   ]
  },
  {
   "cell_type": "code",
   "execution_count": 165,
   "id": "ebf3823d-90e0-4cd0-a472-a061ec7bc649",
   "metadata": {},
   "outputs": [
    {
     "data": {
      "text/plain": [
       "array([[ 2,  6,  6],\n",
       "       [ 8,  5, 12],\n",
       "       [14,  2,  0]])"
      ]
     },
     "execution_count": 165,
     "metadata": {},
     "output_type": "execute_result"
    }
   ],
   "source": [
    "ar+ar2"
   ]
  },
  {
   "cell_type": "code",
   "execution_count": 171,
   "id": "191f02e0-0bcb-4bc3-8a90-c7ab5a614980",
   "metadata": {},
   "outputs": [
    {
     "data": {
      "text/plain": [
       "[80, 60, 30, 60]"
      ]
     },
     "execution_count": 171,
     "metadata": {},
     "output_type": "execute_result"
    }
   ],
   "source": [
    "[80,60]+[30,60]"
   ]
  },
  {
   "cell_type": "code",
   "execution_count": 173,
   "id": "fb2b6322-d30e-4111-a23d-5d6f5e0a98db",
   "metadata": {},
   "outputs": [
    {
     "data": {
      "text/plain": [
       "array([[ 1,  8,  9],\n",
       "       [16,  0, 36],\n",
       "       [49,  1,  0]])"
      ]
     },
     "execution_count": 173,
     "metadata": {},
     "output_type": "execute_result"
    }
   ],
   "source": [
    "ar*ar2"
   ]
  },
  {
   "cell_type": "code",
   "execution_count": 175,
   "id": "e0e7c064-d4c0-4069-97cc-15c39bde0cca",
   "metadata": {},
   "outputs": [
    {
     "data": {
      "text/plain": [
       "array([[1.        , 1.41421356, 1.73205081],\n",
       "       [2.        , 2.23606798, 2.44948974],\n",
       "       [2.64575131, 1.        , 0.        ]])"
      ]
     },
     "execution_count": 175,
     "metadata": {},
     "output_type": "execute_result"
    }
   ],
   "source": [
    "np.sqrt(ar)"
   ]
  },
  {
   "cell_type": "code",
   "execution_count": 177,
   "id": "ec107bf6-8646-45bd-a2d3-e2967a3baa9f",
   "metadata": {},
   "outputs": [
    {
     "data": {
      "text/plain": [
       "29"
      ]
     },
     "execution_count": 177,
     "metadata": {},
     "output_type": "execute_result"
    }
   ],
   "source": [
    "ar.sum()"
   ]
  },
  {
   "cell_type": "code",
   "execution_count": 179,
   "id": "3828a893-b1b7-4711-bc50-cbc630bed140",
   "metadata": {},
   "outputs": [
    {
     "data": {
      "text/plain": [
       "0"
      ]
     },
     "execution_count": 179,
     "metadata": {},
     "output_type": "execute_result"
    }
   ],
   "source": [
    "ar.min()"
   ]
  },
  {
   "cell_type": "code",
   "execution_count": 181,
   "id": "7e651b3e-2b75-4ec7-af89-30ce10ba0087",
   "metadata": {},
   "outputs": [
    {
     "data": {
      "text/plain": [
       "7"
      ]
     },
     "execution_count": 181,
     "metadata": {},
     "output_type": "execute_result"
    }
   ],
   "source": [
    "ar.max()"
   ]
  },
  {
   "cell_type": "code",
   "execution_count": 183,
   "id": "c3ff777e-8e0a-4dd5-96db-6fc95377672a",
   "metadata": {},
   "outputs": [
    {
     "data": {
      "text/plain": [
       "(array([1, 2], dtype=int64), array([2, 0], dtype=int64))"
      ]
     },
     "execution_count": 183,
     "metadata": {},
     "output_type": "execute_result"
    }
   ],
   "source": [
    "np.where(ar>5)"
   ]
  },
  {
   "cell_type": "code",
   "execution_count": 185,
   "id": "d8df17eb-01bf-480a-be53-1ac2d1a2cfc2",
   "metadata": {},
   "outputs": [
    {
     "data": {
      "text/plain": [
       "8"
      ]
     },
     "execution_count": 185,
     "metadata": {},
     "output_type": "execute_result"
    }
   ],
   "source": [
    "np.count_nonzero(ar)"
   ]
  },
  {
   "cell_type": "code",
   "execution_count": 187,
   "id": "ff5e8837-06a6-4d6e-9633-9d0d87a59497",
   "metadata": {},
   "outputs": [],
   "source": [
    "ar[1,2]=0"
   ]
  },
  {
   "cell_type": "code",
   "execution_count": 189,
   "id": "5c9bc9d1-5e53-4741-ae47-a0e80fba1321",
   "metadata": {},
   "outputs": [
    {
     "data": {
      "text/plain": [
       "array([[1, 2, 3],\n",
       "       [4, 5, 0],\n",
       "       [7, 1, 0]])"
      ]
     },
     "execution_count": 189,
     "metadata": {},
     "output_type": "execute_result"
    }
   ],
   "source": [
    "ar"
   ]
  },
  {
   "cell_type": "code",
   "execution_count": 191,
   "id": "510c2ae3-bb68-466e-bf5c-9ed5af9cbc13",
   "metadata": {},
   "outputs": [
    {
     "data": {
      "text/plain": [
       "(array([0, 0, 0, 1, 1, 2, 2], dtype=int64),\n",
       " array([0, 1, 2, 0, 1, 0, 1], dtype=int64))"
      ]
     },
     "execution_count": 191,
     "metadata": {},
     "output_type": "execute_result"
    }
   ],
   "source": [
    "np.nonzero(ar)"
   ]
  },
  {
   "cell_type": "code",
   "execution_count": 193,
   "id": "762f7ff0-1f1a-4900-b9ac-cb031e2cecb0",
   "metadata": {},
   "outputs": [],
   "source": [
    "ch_ar=[0,4,55,2]"
   ]
  },
  {
   "cell_type": "code",
   "execution_count": 201,
   "id": "f85d8ae3-7506-4134-8246-07ad774414e2",
   "metadata": {},
   "outputs": [],
   "source": [
    "import sys"
   ]
  },
  {
   "cell_type": "code",
   "execution_count": 207,
   "id": "2439e87c-1ed3-4857-b8be-2f52a810bec0",
   "metadata": {},
   "outputs": [],
   "source": [
    "py_ar = [1, 2, 3, 4, 5]"
   ]
  },
  {
   "cell_type": "code",
   "execution_count": 209,
   "id": "d61522e7-a1a0-446f-aba3-3313acbb4c65",
   "metadata": {},
   "outputs": [],
   "source": [
    "np_ar = np.array(py_ar)"
   ]
  },
  {
   "cell_type": "code",
   "execution_count": 211,
   "id": "95c7239e-2bf7-4491-9643-b7a1a78ccd31",
   "metadata": {},
   "outputs": [
    {
     "data": {
      "text/plain": [
       "140"
      ]
     },
     "execution_count": 211,
     "metadata": {},
     "output_type": "execute_result"
    }
   ],
   "source": [
    "sys.getsizeof(1)*len(py_ar)"
   ]
  },
  {
   "cell_type": "code",
   "execution_count": null,
   "id": "e9907549-e5d5-4958-962b-c499309d1af7",
   "metadata": {},
   "outputs": [],
   "source": []
  }
 ],
 "metadata": {
  "kernelspec": {
   "display_name": "Python 3 (ipykernel)",
   "language": "python",
   "name": "python3"
  },
  "language_info": {
   "codemirror_mode": {
    "name": "ipython",
    "version": 3
   },
   "file_extension": ".py",
   "mimetype": "text/x-python",
   "name": "python",
   "nbconvert_exporter": "python",
   "pygments_lexer": "ipython3",
   "version": "3.12.4"
  }
 },
 "nbformat": 4,
 "nbformat_minor": 5
}
