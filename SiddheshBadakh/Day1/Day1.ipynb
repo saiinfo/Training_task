{
 "cells": [
  {
   "cell_type": "code",
   "execution_count": 11,
   "id": "f7f4c1da-a60d-490e-95cd-a90cb87488e4",
   "metadata": {},
   "outputs": [
    {
     "name": "stdout",
     "output_type": "stream",
     "text": [
      "Hello GoodMorning\n",
      "Siddhesh Badakh\n"
     ]
    }
   ],
   "source": [
    "print(\"Hello GoodMorning\")\n",
    "print(\"Siddhesh Badakh\")\n"
   ]
  },
  {
   "cell_type": "code",
   "execution_count": 15,
   "id": "2c82ee6a-62d8-47e3-a680-47a675f4a88e",
   "metadata": {},
   "outputs": [],
   "source": [
    "#SingleLineComment\n"
   ]
  },
  {
   "cell_type": "code",
   "execution_count": 17,
   "id": "0d512005-3423-4df8-9417-2168b9f4c70a",
   "metadata": {},
   "outputs": [
    {
     "data": {
      "text/plain": [
       "int"
      ]
     },
     "execution_count": 17,
     "metadata": {},
     "output_type": "execute_result"
    }
   ],
   "source": [
    "#Variable Declaration\n",
    "a=10\n",
    "type(a)"
   ]
  },
  {
   "cell_type": "code",
   "execution_count": 23,
   "id": "39b1e90d-d4eb-49cb-8c7c-127f4b6376b7",
   "metadata": {},
   "outputs": [
    {
     "data": {
      "text/plain": [
       "str"
      ]
     },
     "execution_count": 23,
     "metadata": {},
     "output_type": "execute_result"
    }
   ],
   "source": [
    "a=\"Siddhesh\"\n",
    "type(a)"
   ]
  },
  {
   "cell_type": "code",
   "execution_count": 25,
   "id": "87fe9686-7018-446a-93a1-db0864c8cf0e",
   "metadata": {},
   "outputs": [
    {
     "data": {
      "text/plain": [
       "100"
      ]
     },
     "execution_count": 25,
     "metadata": {},
     "output_type": "execute_result"
    }
   ],
   "source": [
    "a=10\n",
    "a*10"
   ]
  },
  {
   "cell_type": "code",
   "execution_count": 27,
   "id": "02cf2ae1-0fc3-4b87-880c-e47f585d70fd",
   "metadata": {},
   "outputs": [
    {
     "data": {
      "text/plain": [
       "1.0"
      ]
     },
     "execution_count": 27,
     "metadata": {},
     "output_type": "execute_result"
    }
   ],
   "source": [
    "a/10"
   ]
  },
  {
   "cell_type": "code",
   "execution_count": 35,
   "id": "221221a5-1da0-4087-b904-933b281bdc4d",
   "metadata": {},
   "outputs": [
    {
     "data": {
      "text/plain": [
       "float"
      ]
     },
     "execution_count": 35,
     "metadata": {},
     "output_type": "execute_result"
    }
   ],
   "source": [
    "a=195.0\n",
    "a\n",
    "type(a)"
   ]
  },
  {
   "cell_type": "code",
   "execution_count": 39,
   "id": "568df82f-9f3d-4421-a984-5ab8a0cd4a13",
   "metadata": {},
   "outputs": [
    {
     "data": {
      "text/plain": [
       "bool"
      ]
     },
     "execution_count": 39,
     "metadata": {},
     "output_type": "execute_result"
    }
   ],
   "source": [
    "a=True\n",
    "b=False\n",
    "type(a)"
   ]
  },
  {
   "cell_type": "code",
   "execution_count": 47,
   "id": "5f82524c-b921-41b0-a059-fd6557ecbd42",
   "metadata": {},
   "outputs": [
    {
     "data": {
      "text/plain": [
       "False"
      ]
     },
     "execution_count": 47,
     "metadata": {},
     "output_type": "execute_result"
    }
   ],
   "source": [
    "a and b\n",
    "a & b"
   ]
  },
  {
   "cell_type": "code",
   "execution_count": 49,
   "id": "7be9673a-87aa-4e08-85a7-466bb5db3247",
   "metadata": {},
   "outputs": [
    {
     "data": {
      "text/plain": [
       "True"
      ]
     },
     "execution_count": 49,
     "metadata": {},
     "output_type": "execute_result"
    }
   ],
   "source": [
    "a or b\n",
    "a | b"
   ]
  },
  {
   "cell_type": "code",
   "execution_count": 53,
   "id": "4bf6b220-2de5-4122-9c87-1c75c906dc3c",
   "metadata": {},
   "outputs": [
    {
     "data": {
      "text/plain": [
       "'SiddheshBadakh'"
      ]
     },
     "execution_count": 53,
     "metadata": {},
     "output_type": "execute_result"
    }
   ],
   "source": [
    "name=\"Siddhesh\"\n",
    "name+\"Badakh\""
   ]
  },
  {
   "cell_type": "code",
   "execution_count": 55,
   "id": "2693dc6a-c820-49a8-8008-ef11d0e0d595",
   "metadata": {},
   "outputs": [
    {
     "data": {
      "text/plain": [
       "(1.2-2.3j)"
      ]
     },
     "execution_count": 55,
     "metadata": {},
     "output_type": "execute_result"
    }
   ],
   "source": [
    "#ComplexNumber\n",
    "j=1.2-2.3j\n",
    "j"
   ]
  },
  {
   "cell_type": "code",
   "execution_count": 59,
   "id": "c5291783-0620-41b7-b2a9-8fc9bf1425a0",
   "metadata": {},
   "outputs": [
    {
     "data": {
      "text/plain": [
       "'Siddhesh'"
      ]
     },
     "execution_count": 59,
     "metadata": {},
     "output_type": "execute_result"
    }
   ],
   "source": [
    "#Dynamic Typing\n",
    "a=10\n",
    "a=\"Siddhesh\"\n",
    "a"
   ]
  },
  {
   "cell_type": "code",
   "execution_count": 63,
   "id": "1258ebcd-50dc-44cc-86ab-bb442409bbe4",
   "metadata": {},
   "outputs": [
    {
     "data": {
      "text/plain": [
       "'siddhesh1'"
      ]
     },
     "execution_count": 63,
     "metadata": {},
     "output_type": "execute_result"
    }
   ],
   "source": [
    "#Strong Typing\n",
    "a=\"siddhesh\"\n",
    "a+\"1\"\n",
    "a+str(1)"
   ]
  },
  {
   "cell_type": "code",
   "execution_count": 75,
   "id": "63ef73e4-835b-4f30-9a82-e56748002077",
   "metadata": {},
   "outputs": [
    {
     "name": "stdout",
     "output_type": "stream",
     "text": [
      "first name is siddhesh and last name is badakh\n"
     ]
    }
   ],
   "source": [
    "#String Formatting\n",
    "First_name=\"siddhesh\"\n",
    "Last_name=\"badakh\"\n",
    "print(\"first name is {0} and last name is {1}\".format(First_name,Last_name) )"
   ]
  },
  {
   "cell_type": "code",
   "execution_count": 79,
   "id": "b4ef91c3-f7b1-4b59-be60-11b884bf2984",
   "metadata": {},
   "outputs": [
    {
     "name": "stdin",
     "output_type": "stream",
     "text": [
      "Enter the name Siddhesh\n"
     ]
    },
    {
     "data": {
      "text/plain": [
       "'Siddhesh'"
      ]
     },
     "execution_count": 79,
     "metadata": {},
     "output_type": "execute_result"
    }
   ],
   "source": [
    "#Input Formatting\n",
    "input(\"Enter the name\")"
   ]
  },
  {
   "cell_type": "code",
   "execution_count": 91,
   "id": "92ac6ac8-15dc-4973-b90b-7fedfea61bd1",
   "metadata": {},
   "outputs": [
    {
     "name": "stdin",
     "output_type": "stream",
     "text": [
      "Enter the number a 10\n",
      "Enter the number b 20\n"
     ]
    },
    {
     "name": "stdout",
     "output_type": "stream",
     "text": [
      "30\n"
     ]
    }
   ],
   "source": [
    "#input Type\n",
    "a=input(\"Enter the number a\")\n",
    "b=input(\"Enter the number b\")\n",
    "print (int(a)+int(b))"
   ]
  },
  {
   "cell_type": "code",
   "execution_count": null,
   "id": "10108f63-d9ad-4fc8-9f8a-c98f945ae46e",
   "metadata": {},
   "outputs": [],
   "source": []
  }
 ],
 "metadata": {
  "kernelspec": {
   "display_name": "Python 3 (ipykernel)",
   "language": "python",
   "name": "python3"
  },
  "language_info": {
   "codemirror_mode": {
    "name": "ipython",
    "version": 3
   },
   "file_extension": ".py",
   "mimetype": "text/x-python",
   "name": "python",
   "nbconvert_exporter": "python",
   "pygments_lexer": "ipython3",
   "version": "3.12.4"
  }
 },
 "nbformat": 4,
 "nbformat_minor": 5
}
