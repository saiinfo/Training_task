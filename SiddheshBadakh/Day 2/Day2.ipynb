{
 "cells": [
  {
   "cell_type": "code",
   "execution_count": null,
   "id": "d01ab255-3077-4bfa-89a0-75f700e25026",
   "metadata": {},
   "outputs": [],
   "source": [
    "#if statment\n",
    "\n",
    "val=input(\"Enter the number\")\n",
    "val_float=float(val)\n",
    "if(val_float>100):\n",
    "    print(\"the number is grater than 100\")\n",
    "    "
   ]
  },
  {
   "cell_type": "code",
   "execution_count": 39,
   "id": "6d559409-6b7f-41cb-a178-91aea40e7469",
   "metadata": {},
   "outputs": [
    {
     "name": "stdin",
     "output_type": "stream",
     "text": [
      "Enter the number 11\n"
     ]
    },
    {
     "name": "stdout",
     "output_type": "stream",
     "text": [
      "the number is odd\n"
     ]
    }
   ],
   "source": [
    "#Even or odd if-Else\n",
    "val=input(\"Enter the number\")\n",
    "val_float=float(val)\n",
    "if(val_float%2==0):\n",
    "    print(\"the number is even\")\n",
    "else:\n",
    "    print(\"the number is odd\")"
   ]
  },
  {
   "cell_type": "code",
   "execution_count": 43,
   "id": "b0e07455-3f60-4f12-80e1-56e2e80db85c",
   "metadata": {},
   "outputs": [
    {
     "name": "stdin",
     "output_type": "stream",
     "text": [
      "enter the age 20\n"
     ]
    },
    {
     "name": "stdout",
     "output_type": "stream",
     "text": [
      "you are allow to vote\n"
     ]
    }
   ],
   "source": [
    "age=float(input(\"enter the age\"))\n",
    "if(age<18):\n",
    "    print(\"you are not allow to vote\")\n",
    "else:\n",
    "    print(\"you are allow to vote\")\n",
    "\n"
   ]
  },
  {
   "cell_type": "code",
   "execution_count": 50,
   "id": "6e9d21c6-be80-4614-a9ba-2953207425bc",
   "metadata": {},
   "outputs": [
    {
     "name": "stdin",
     "output_type": "stream",
     "text": [
      "enter the number 30\n"
     ]
    },
    {
     "name": "stdout",
     "output_type": "stream",
     "text": [
      "you are boy\n"
     ]
    }
   ],
   "source": [
    "#Nested if-else\n",
    "age=float(input(\"enter the number\"))\n",
    "if(age<18):\n",
    "    Print(\"you are small boy\")\n",
    "elif(age>18 and age<=30):\n",
    "    print(\"you are boy\")\n",
    "elif(age>30 and age<=50):\n",
    "    print(\"you are man\")\n",
    "else:\n",
    "    print(\"senior citizen\")"
   ]
  },
  {
   "cell_type": "code",
   "execution_count": 58,
   "id": "8928468e-1688-44ee-9a22-2cd302076d3e",
   "metadata": {},
   "outputs": [
    {
     "name": "stdout",
     "output_type": "stream",
     "text": [
      "1\n",
      "2\n",
      "3\n",
      "4\n",
      "5\n",
      "6\n"
     ]
    }
   ],
   "source": [
    "#Loop Statment\n",
    "#For Loop While Loop\n",
    "lst=[1,2,3,4,5,6]\n",
    "for i in lst:\n",
    "  print(i)"
   ]
  },
  {
   "cell_type": "code",
   "execution_count": 56,
   "id": "d8170022-b674-4373-a531-75ede023bcf0",
   "metadata": {},
   "outputs": [
    {
     "name": "stdout",
     "output_type": "stream",
     "text": [
      "3\n",
      "4\n",
      "5\n",
      "6\n",
      "7\n",
      "8\n"
     ]
    }
   ],
   "source": [
    "lst=[1,2,3,4,5,6]\n",
    "for i in lst:\n",
    "  print(i+2)"
   ]
  },
  {
   "cell_type": "code",
   "execution_count": 60,
   "id": "3236ed13-96a7-49eb-ad5d-2ef399df500b",
   "metadata": {},
   "outputs": [
    {
     "name": "stdout",
     "output_type": "stream",
     "text": [
      "2\n",
      "4\n",
      "6\n",
      "8\n",
      "10\n",
      "12\n"
     ]
    }
   ],
   "source": [
    "lst=[1,2,3,4,5,6]\n",
    "for i in lst:\n",
    "  print(i*2)"
   ]
  },
  {
   "cell_type": "code",
   "execution_count": 6,
   "id": "17af2b27-7286-4096-9c2e-6fab10502068",
   "metadata": {},
   "outputs": [
    {
     "name": "stdout",
     "output_type": "stream",
     "text": [
      "21\n"
     ]
    }
   ],
   "source": [
    "lst=[1,2,3,4,5,6]\n",
    "sum1=0\n",
    "for i in lst:\n",
    "    sum1=sum1+i\n",
    "\n",
    "    \n",
    "print(sum1)\n"
   ]
  },
  {
   "cell_type": "code",
   "execution_count": 8,
   "id": "2f365c83-4eae-476d-91c8-b3e950ecf274",
   "metadata": {},
   "outputs": [
    {
     "name": "stdout",
     "output_type": "stream",
     "text": [
      "sum of even no is12\n",
      "sum of odd no is9\n"
     ]
    }
   ],
   "source": [
    "#Find sum of even odd number\n",
    "lst=[1,2,3,4,5,6]\n",
    "esum=0\n",
    "osum=0\n",
    "for i in lst:\n",
    "        if(i%2==0):\n",
    "         esum=esum+i\n",
    "        else:\n",
    "            osum=osum+i\n",
    "            \n",
    "            \n",
    "print(\"sum of even no is{}\".format(esum))\n",
    "print(\"sum of odd no is{}\".format(osum))"
   ]
  },
  {
   "cell_type": "code",
   "execution_count": 10,
   "id": "f775758d-5a40-45de-96c1-837572e56212",
   "metadata": {},
   "outputs": [
    {
     "name": "stdout",
     "output_type": "stream",
     "text": [
      "1\n",
      "2\n",
      "3\n",
      "4\n",
      "5\n",
      "6\n",
      "7\n",
      "8\n",
      "9\n",
      "10\n"
     ]
    }
   ],
   "source": [
    "i=1\n",
    "while(i<=10):\n",
    "    print(i)\n",
    "    i=i+1 "
   ]
  },
  {
   "cell_type": "code",
   "execution_count": 12,
   "id": "ddc28eab-5b6b-42ac-acd8-343dc673692b",
   "metadata": {},
   "outputs": [
    {
     "name": "stdout",
     "output_type": "stream",
     "text": [
      "10\n",
      "9\n",
      "8\n",
      "7\n",
      "6\n",
      "5\n",
      "4\n",
      "3\n",
      "2\n",
      "1\n",
      "0\n"
     ]
    }
   ],
   "source": [
    "i=10\n",
    "while(i>=0):\n",
    "    print(i)\n",
    "    i=i-1"
   ]
  },
  {
   "cell_type": "code",
   "execution_count": 18,
   "id": "003a89e7-6f4c-400c-afac-c966a08609e6",
   "metadata": {},
   "outputs": [
    {
     "name": "stdout",
     "output_type": "stream",
     "text": [
      "1\n",
      "2\n",
      "3\n"
     ]
    }
   ],
   "source": [
    "##break\n",
    "x=1\n",
    "while(x<7):\n",
    "    \n",
    "    if x==4:\n",
    "        break\n",
    "    print(x)\n",
    "    x=x+1"
   ]
  },
  {
   "cell_type": "code",
   "execution_count": 20,
   "id": "40b50846-1b74-4a0c-9eb6-7bf86bd169e5",
   "metadata": {},
   "outputs": [
    {
     "name": "stdout",
     "output_type": "stream",
     "text": [
      "1\n",
      "2\n",
      "3\n",
      "5\n",
      "6\n",
      "7\n"
     ]
    }
   ],
   "source": [
    "## continue\n",
    "x=0\n",
    "while x<7:\n",
    "    x=x+1\n",
    "    if x==4:\n",
    "        continue\n",
    "    print(x)"
   ]
  },
  {
   "cell_type": "code",
   "execution_count": 26,
   "id": "0efef936-3fa9-4c50-8379-a019d51c2535",
   "metadata": {},
   "outputs": [
    {
     "data": {
      "text/plain": [
       "False"
      ]
     },
     "execution_count": 26,
     "metadata": {},
     "output_type": "execute_result"
    }
   ],
   "source": [
    "#Python Operator\n",
    "#Logical Operator\n",
    "True and False\n"
   ]
  },
  {
   "cell_type": "markdown",
   "id": "f1cff0e3-cc1b-407e-b678-2bed6f571c79",
   "metadata": {},
   "source": [
    "Python Operators\n",
    "Logical\n",
    "Equality\n",
    "Comparision\n",
    "Arithmetic\n",
    "4.1.1 Logical Operators\n",
    "In python following keywords are used for boolean operations -\n",
    "\n",
    "Keywords\tMeaning\n",
    "not\tunary negation\n",
    "and\tconditional AND\n",
    "or\tconditional OR"
   ]
  },
  {
   "cell_type": "code",
   "execution_count": 28,
   "id": "34f45784-a7bf-4f6f-a6f5-eedcb7878c7d",
   "metadata": {},
   "outputs": [
    {
     "data": {
      "text/plain": [
       "True"
      ]
     },
     "execution_count": 28,
     "metadata": {},
     "output_type": "execute_result"
    }
   ],
   "source": [
    "True or False"
   ]
  },
  {
   "cell_type": "code",
   "execution_count": 30,
   "id": "4e146e9d-1d9d-4705-b106-7a885646bc96",
   "metadata": {},
   "outputs": [
    {
     "data": {
      "text/plain": [
       "False"
      ]
     },
     "execution_count": 30,
     "metadata": {},
     "output_type": "execute_result"
    }
   ],
   "source": [
    "not True"
   ]
  },
  {
   "cell_type": "code",
   "execution_count": 32,
   "id": "609a5360-c2e5-4a5d-9183-fec1efb32bd8",
   "metadata": {},
   "outputs": [
    {
     "data": {
      "text/plain": [
       "True"
      ]
     },
     "execution_count": 32,
     "metadata": {},
     "output_type": "execute_result"
    }
   ],
   "source": [
    "not False\n"
   ]
  },
  {
   "cell_type": "code",
   "execution_count": 47,
   "id": "e5ba4cb3-6035-46a3-aa3d-f55eccbc16b6",
   "metadata": {},
   "outputs": [
    {
     "name": "stdin",
     "output_type": "stream",
     "text": [
      "enter the age 17\n"
     ]
    },
    {
     "name": "stdout",
     "output_type": "stream",
     "text": [
      "not in range\n"
     ]
    }
   ],
   "source": [
    "#AND MEANS TRUE OR TRUE=TRUE\n",
    "age=int(input(\"enter the age\"))\n",
    "if age>18 and age<=40:\n",
    "        print(\"mid age\")\n",
    "else:\n",
    "    print(\"not in range\")\n",
    "\n",
    "    "
   ]
  },
  {
   "cell_type": "code",
   "execution_count": 49,
   "id": "576ad0f2-f52b-45eb-b28d-c7bdd07c02c9",
   "metadata": {},
   "outputs": [
    {
     "name": "stdin",
     "output_type": "stream",
     "text": [
      "enter the age 17\n"
     ]
    },
    {
     "name": "stdout",
     "output_type": "stream",
     "text": [
      "mid age\n"
     ]
    }
   ],
   "source": [
    "#OR MEANS TRUE OR FALSE=TRUE\n",
    "age=int(input(\"enter the age\"))\n",
    "if age>18 or age<=40:\n",
    "        print(\"mid age\")\n",
    "else:\n",
    "    print(\"not in range\")"
   ]
  },
  {
   "cell_type": "code",
   "execution_count": 51,
   "id": "31bd6913-0ff0-4d09-ad33-29964f0096c7",
   "metadata": {},
   "outputs": [
    {
     "name": "stdin",
     "output_type": "stream",
     "text": [
      "Enter the age 18\n"
     ]
    },
    {
     "name": "stdout",
     "output_type": "stream",
     "text": [
      "You are in the teenager age\n"
     ]
    }
   ],
   "source": [
    "age=int(input(\"Enter the age\"))\n",
    "\n",
    "if age==18:\n",
    "    print(\"You are in the teenager age\")"
   ]
  },
  {
   "cell_type": "markdown",
   "id": "63d6d8f1-2404-464f-9963-3b6b6b20eaa0",
   "metadata": {},
   "source": [
    "Equality Operators\r\n",
    "Following operations are present in python for equlity check operation-\r\n",
    "\r\n",
    "Operators\tMeaning\r\n",
    "is\ta is b returns true if variable/identifiers a and b points to the same object\r\n",
    "is not\ta is not b returns true if variable/identifiers a and b points to the different object\r\n",
    "==\ta == b returns true if variable/identifiers a and b has same value\r\n",
    "!=\ta != b returns true if variable/identifiers a and b has different value"
   ]
  },
  {
   "cell_type": "code",
   "execution_count": 53,
   "id": "7ca0c8f4-cfdc-4242-ab72-e18189a385eb",
   "metadata": {},
   "outputs": [
    {
     "name": "stdout",
     "output_type": "stream",
     "text": [
      "2457405743072\n",
      "2457405743072\n"
     ]
    }
   ],
   "source": [
    "a=\"Krish\"\n",
    "b=\"Krish\"\n",
    "print(id(a))\n",
    "print(id(b))"
   ]
  },
  {
   "cell_type": "code",
   "execution_count": 55,
   "id": "1bfa5ad0-7d86-4c2a-bcba-585bf2d17ece",
   "metadata": {},
   "outputs": [
    {
     "data": {
      "text/plain": [
       "True"
      ]
     },
     "execution_count": 55,
     "metadata": {},
     "output_type": "execute_result"
    }
   ],
   "source": [
    "a is b"
   ]
  },
  {
   "cell_type": "code",
   "execution_count": 57,
   "id": "62512ea5-eec0-4537-bed8-3df25278b641",
   "metadata": {},
   "outputs": [
    {
     "name": "stdout",
     "output_type": "stream",
     "text": [
      "2457408267328\n",
      "2457408265280\n"
     ]
    }
   ],
   "source": [
    "lst1=[1,2,3]\n",
    "lst2=[1,2,3]\n",
    "print(id(lst1))\n",
    "print(id(lst2))\n"
   ]
  },
  {
   "cell_type": "code",
   "execution_count": 59,
   "id": "276c5dc6-9080-4cda-aa1a-fc0be11fe348",
   "metadata": {},
   "outputs": [
    {
     "data": {
      "text/plain": [
       "False"
      ]
     },
     "execution_count": 59,
     "metadata": {},
     "output_type": "execute_result"
    }
   ],
   "source": [
    "lst1 is lst2\n"
   ]
  },
  {
   "cell_type": "code",
   "execution_count": 61,
   "id": "a4e39027-006c-4473-8939-05e4cb77d1c8",
   "metadata": {},
   "outputs": [
    {
     "data": {
      "text/plain": [
       "False"
      ]
     },
     "execution_count": 61,
     "metadata": {},
     "output_type": "execute_result"
    }
   ],
   "source": [
    "a is not b"
   ]
  },
  {
   "cell_type": "code",
   "execution_count": 63,
   "id": "f76c8ac5-8df8-40a8-8479-a906497f2964",
   "metadata": {},
   "outputs": [
    {
     "data": {
      "text/plain": [
       "True"
      ]
     },
     "execution_count": 63,
     "metadata": {},
     "output_type": "execute_result"
    }
   ],
   "source": [
    "lst1 is not lst2"
   ]
  },
  {
   "cell_type": "code",
   "execution_count": 65,
   "id": "7068f4d6-bc22-45f6-a359-9d9fa1b87206",
   "metadata": {},
   "outputs": [
    {
     "data": {
      "text/plain": [
       "False"
      ]
     },
     "execution_count": 65,
     "metadata": {},
     "output_type": "execute_result"
    }
   ],
   "source": [
    "lst1 != lst2"
   ]
  },
  {
   "cell_type": "code",
   "execution_count": 67,
   "id": "a37470ff-23d2-418a-bd54-e3d274f19485",
   "metadata": {},
   "outputs": [
    {
     "data": {
      "text/plain": [
       "True"
      ]
     },
     "execution_count": 67,
     "metadata": {},
     "output_type": "execute_result"
    }
   ],
   "source": [
    "\"Siddhesh\" != \"Siddhesh1\""
   ]
  },
  {
   "cell_type": "markdown",
   "id": "dc1d82b1-d13b-4377-a315-0d489546399c",
   "metadata": {},
   "source": [
    "comparison operators\n",
    "Operation\tMeaning\n",
    "<\tless than\n",
    "<=\tless than or equal to\n",
    ">\tgreater than\n",
    ">=\tgreater than or equal to"
   ]
  },
  {
   "cell_type": "code",
   "execution_count": 69,
   "id": "815280ec-3fed-4cf4-94ea-b84b826b8923",
   "metadata": {},
   "outputs": [
    {
     "name": "stdin",
     "output_type": "stream",
     "text": [
      "Enter the marks 60\n"
     ]
    },
    {
     "name": "stdout",
     "output_type": "stream",
     "text": [
      "Pass\n",
      "First\n"
     ]
    }
   ],
   "source": [
    "marks= float(input(\"Enter the marks\"))\n",
    "\n",
    "if marks>=35:\n",
    "    print(\"Pass\")\n",
    "    if marks>=50 and marks<=70:\n",
    "        print(\"First\")\n",
    "elif marks<35:\n",
    "    print(\"Fail\")"
   ]
  },
  {
   "cell_type": "code",
   "execution_count": 73,
   "id": "a5b37665-d9d0-4a39-a959-fd86fe0a2d7a",
   "metadata": {},
   "outputs": [
    {
     "data": {
      "text/plain": [
       "20"
      ]
     },
     "execution_count": 73,
     "metadata": {},
     "output_type": "execute_result"
    }
   ],
   "source": [
    "#Arithmatic opertor\n",
    "10+10\n"
   ]
  },
  {
   "cell_type": "markdown",
   "id": "a214a029-d490-4ac0-89af-f15332becb44",
   "metadata": {},
   "source": [
    "Arithmetic Operators\n",
    "Operation\tMeaning\n",
    "+\taddition\n",
    "-\tsubtraction\n",
    "*\tmultiplication\n",
    "/\ttrue division\n",
    "//\tinteger division\n",
    "%\tthe modulo operator"
   ]
  },
  {
   "cell_type": "code",
   "execution_count": 75,
   "id": "8beb668f-af53-488f-a941-b8a4a8cba778",
   "metadata": {},
   "outputs": [
    {
     "data": {
      "text/plain": [
       "10"
      ]
     },
     "execution_count": 75,
     "metadata": {},
     "output_type": "execute_result"
    }
   ],
   "source": [
    "20-10"
   ]
  },
  {
   "cell_type": "code",
   "execution_count": 77,
   "id": "2d4a4b02-efcf-4c30-90c0-d832f21b373e",
   "metadata": {},
   "outputs": [
    {
     "data": {
      "text/plain": [
       "200"
      ]
     },
     "execution_count": 77,
     "metadata": {},
     "output_type": "execute_result"
    }
   ],
   "source": [
    "10*20"
   ]
  },
  {
   "cell_type": "code",
   "execution_count": 79,
   "id": "31d0e457-4b00-4eb6-b196-23124eeb5710",
   "metadata": {},
   "outputs": [
    {
     "data": {
      "text/plain": [
       "0"
      ]
     },
     "execution_count": 79,
     "metadata": {},
     "output_type": "execute_result"
    }
   ],
   "source": [
    "20%2"
   ]
  },
  {
   "cell_type": "code",
   "execution_count": 81,
   "id": "540c4f35-d2c9-4e90-93c8-71d6e269dd30",
   "metadata": {},
   "outputs": [
    {
     "data": {
      "text/plain": [
       "10.0"
      ]
     },
     "execution_count": 81,
     "metadata": {},
     "output_type": "execute_result"
    }
   ],
   "source": [
    "20/2"
   ]
  },
  {
   "cell_type": "code",
   "execution_count": 83,
   "id": "3c9192da-00cb-4842-82fe-2b2a78e2239e",
   "metadata": {},
   "outputs": [
    {
     "data": {
      "text/plain": [
       "10"
      ]
     },
     "execution_count": 83,
     "metadata": {},
     "output_type": "execute_result"
    }
   ],
   "source": [
    "20//2"
   ]
  },
  {
   "cell_type": "code",
   "execution_count": 85,
   "id": "deae4f5b-6de7-4113-a8b3-357979ac1530",
   "metadata": {},
   "outputs": [],
   "source": [
    "#Pthon Number Method\n",
    "abs()\n",
    "abs(x) will return the absolute value of a number x which we pass in argument. The number x can be integer, float, complex,.."
   ]
  },
  {
   "cell_type": "code",
   "execution_count": 89,
   "id": "12b0502a-097b-4620-aa0d-05e76bef2038",
   "metadata": {},
   "outputs": [
    {
     "data": {
      "text/plain": [
       "10"
      ]
     },
     "execution_count": 89,
     "metadata": {},
     "output_type": "execute_result"
    }
   ],
   "source": [
    "#Absolute Method\n",
    "abs(10)"
   ]
  },
  {
   "cell_type": "code",
   "execution_count": 91,
   "id": "2378f912-bb21-4760-bf2a-4bbe987c8f08",
   "metadata": {},
   "outputs": [
    {
     "data": {
      "text/plain": [
       "10"
      ]
     },
     "execution_count": 91,
     "metadata": {},
     "output_type": "execute_result"
    }
   ],
   "source": [
    "abs(-10)"
   ]
  },
  {
   "cell_type": "markdown",
   "id": "0359616a-0a73-4f1c-b2cc-7619d00a297c",
   "metadata": {},
   "source": [
    "ceil()\r\n",
    "ceil(x) will return the ceiling value of a number x which we pass in argument. The ceiling value of a number x will be the smallest integer not less than x\r\n",
    "\r\n",
    "Note :- This function will not be accessible directly using ceil() method. Math module will be required to access this method."
   ]
  },
  {
   "cell_type": "code",
   "execution_count": 5,
   "id": "c4154e00-2f19-4230-8e08-c857396476fa",
   "metadata": {},
   "outputs": [],
   "source": [
    "#ceil Method\n",
    "\n",
    "import math\n"
   ]
  },
  {
   "cell_type": "code",
   "execution_count": 7,
   "id": "79808faf-4955-4d28-a450-fdbcd8a2dae7",
   "metadata": {},
   "outputs": [
    {
     "data": {
      "text/plain": [
       "44"
      ]
     },
     "execution_count": 7,
     "metadata": {},
     "output_type": "execute_result"
    }
   ],
   "source": [
    "math.ceil(43.67)"
   ]
  },
  {
   "cell_type": "code",
   "execution_count": 9,
   "id": "a2a6c6b7-c33d-46ad-b806-b857b4601f93",
   "metadata": {},
   "outputs": [
    {
     "data": {
      "text/plain": [
       "47"
      ]
     },
     "execution_count": 9,
     "metadata": {},
     "output_type": "execute_result"
    }
   ],
   "source": [
    "math.ceil(46.20)"
   ]
  },
  {
   "cell_type": "markdown",
   "id": "e1307e97-b823-4c5c-a6aa-4a6c001af54f",
   "metadata": {},
   "source": [
    "##floor"
   ]
  },
  {
   "cell_type": "code",
   "execution_count": 11,
   "id": "d5b327e0-df90-418f-985e-ffeff1df1c44",
   "metadata": {},
   "outputs": [
    {
     "data": {
      "text/plain": [
       "43"
      ]
     },
     "execution_count": 11,
     "metadata": {},
     "output_type": "execute_result"
    }
   ],
   "source": [
    "math.floor(43.1)\n"
   ]
  },
  {
   "cell_type": "code",
   "execution_count": 13,
   "id": "92535e48-bff1-4958-824c-fc6b4ae2a48e",
   "metadata": {},
   "outputs": [
    {
     "data": {
      "text/plain": [
       "44"
      ]
     },
     "execution_count": 13,
     "metadata": {},
     "output_type": "execute_result"
    }
   ],
   "source": [
    "math.floor(44.2)"
   ]
  },
  {
   "cell_type": "code",
   "execution_count": 15,
   "id": "c8b45c22-0271-46cb-ab3d-579c964ae0a3",
   "metadata": {},
   "outputs": [
    {
     "data": {
      "text/plain": [
       "48"
      ]
     },
     "execution_count": 15,
     "metadata": {},
     "output_type": "execute_result"
    }
   ],
   "source": [
    "math.floor(48.1)"
   ]
  },
  {
   "cell_type": "markdown",
   "id": "44eb7f05-6989-4980-aed4-a04beead2166",
   "metadata": {},
   "source": [
    "exp()\n",
    "exp(x) will return the exponential value of a number x which we pass in argument."
   ]
  },
  {
   "cell_type": "code",
   "execution_count": 17,
   "id": "6ce5a2df-1412-4afc-8131-ee4c2bc91132",
   "metadata": {},
   "outputs": [
    {
     "data": {
      "text/plain": [
       "22026.465794806718"
      ]
     },
     "execution_count": 17,
     "metadata": {},
     "output_type": "execute_result"
    }
   ],
   "source": [
    "math.exp(10)"
   ]
  },
  {
   "cell_type": "markdown",
   "id": "4b4ec5ac-eef5-4e4f-a4ad-d21045344969",
   "metadata": {},
   "source": [
    "fabs()"
   ]
  },
  {
   "cell_type": "code",
   "execution_count": 19,
   "id": "008dc203-948d-47e7-9723-cd32b0d874e0",
   "metadata": {},
   "outputs": [
    {
     "data": {
      "text/plain": [
       "10.53"
      ]
     },
     "execution_count": 19,
     "metadata": {},
     "output_type": "execute_result"
    }
   ],
   "source": [
    "math.fabs(10.53)"
   ]
  },
  {
   "cell_type": "code",
   "execution_count": 21,
   "id": "b158729a-084e-4c65-bbc4-c6c61506484d",
   "metadata": {},
   "outputs": [
    {
     "data": {
      "text/plain": [
       "10.0"
      ]
     },
     "execution_count": 21,
     "metadata": {},
     "output_type": "execute_result"
    }
   ],
   "source": [
    "math.fabs(-10)"
   ]
  },
  {
   "cell_type": "markdown",
   "id": "87e9b865-bc98-42dc-aaaf-918ac63a1ac4",
   "metadata": {},
   "source": [
    "log(x)"
   ]
  },
  {
   "cell_type": "code",
   "execution_count": 23,
   "id": "4444cc43-14ca-4402-be96-4dc8579a206b",
   "metadata": {},
   "outputs": [
    {
     "data": {
      "text/plain": [
       "2.302585092994046"
      ]
     },
     "execution_count": 23,
     "metadata": {},
     "output_type": "execute_result"
    }
   ],
   "source": [
    "math.log(10)"
   ]
  },
  {
   "cell_type": "code",
   "execution_count": 25,
   "id": "83963199-a062-4f00-9d00-e39a38856c53",
   "metadata": {},
   "outputs": [
    {
     "data": {
      "text/plain": [
       "2.70805020110221"
      ]
     },
     "execution_count": 25,
     "metadata": {},
     "output_type": "execute_result"
    }
   ],
   "source": [
    "math.log(15)"
   ]
  },
  {
   "cell_type": "markdown",
   "id": "ecabba81-3983-4024-a73d-d4180c8b8171",
   "metadata": {},
   "source": [
    "Max()"
   ]
  },
  {
   "cell_type": "code",
   "execution_count": 27,
   "id": "6f265b4d-676b-4fac-bd19-2f1a9e504122",
   "metadata": {},
   "outputs": [
    {
     "data": {
      "text/plain": [
       "100"
      ]
     },
     "execution_count": 27,
     "metadata": {},
     "output_type": "execute_result"
    }
   ],
   "source": [
    "max(10,12,5,76,100)"
   ]
  },
  {
   "cell_type": "code",
   "execution_count": 29,
   "id": "d4d1e427-b529-4f1a-8bc1-9a6121448c2f",
   "metadata": {},
   "outputs": [
    {
     "data": {
      "text/plain": [
       "-33"
      ]
     },
     "execution_count": 29,
     "metadata": {},
     "output_type": "execute_result"
    }
   ],
   "source": [
    "max(-55,-44,-33)"
   ]
  },
  {
   "cell_type": "markdown",
   "id": "101a75df-cb03-4364-be40-7e3516b6a438",
   "metadata": {},
   "source": [
    "Min()"
   ]
  },
  {
   "cell_type": "code",
   "execution_count": 31,
   "id": "a609d5e5-b8cd-4317-b7f0-f592b141a261",
   "metadata": {},
   "outputs": [
    {
     "data": {
      "text/plain": [
       "0"
      ]
     },
     "execution_count": 31,
     "metadata": {},
     "output_type": "execute_result"
    }
   ],
   "source": [
    "min(0,100,4,5,6,3)"
   ]
  },
  {
   "cell_type": "code",
   "execution_count": 33,
   "id": "9a2f81ce-6487-40d1-b12e-a43a53e94ca9",
   "metadata": {},
   "outputs": [
    {
     "data": {
      "text/plain": [
       "-1"
      ]
     },
     "execution_count": 33,
     "metadata": {},
     "output_type": "execute_result"
    }
   ],
   "source": [
    "min(-1,0)"
   ]
  },
  {
   "cell_type": "markdown",
   "id": "8a34e4af-e8c5-45b4-bcc9-3bd8cf7967bc",
   "metadata": {},
   "source": [
    "sqrt()"
   ]
  },
  {
   "cell_type": "code",
   "execution_count": 35,
   "id": "517d9477-96c1-43b5-9902-57802bfb0083",
   "metadata": {},
   "outputs": [
    {
     "data": {
      "text/plain": [
       "4.0"
      ]
     },
     "execution_count": 35,
     "metadata": {},
     "output_type": "execute_result"
    }
   ],
   "source": [
    "math.sqrt(16)"
   ]
  },
  {
   "cell_type": "code",
   "execution_count": 37,
   "id": "199f12ee-abdf-4e42-a519-dc6c5adf4368",
   "metadata": {},
   "outputs": [
    {
     "data": {
      "text/plain": [
       "3.0"
      ]
     },
     "execution_count": 37,
     "metadata": {},
     "output_type": "execute_result"
    }
   ],
   "source": [
    "math.sqrt(9)"
   ]
  },
  {
   "cell_type": "code",
   "execution_count": 41,
   "id": "82e4dff1-d16c-43ed-b9ff-2e51eda4e680",
   "metadata": {},
   "outputs": [
    {
     "data": {
      "text/plain": [
       "5.0"
      ]
     },
     "execution_count": 41,
     "metadata": {},
     "output_type": "execute_result"
    }
   ],
   "source": [
    "math.sqrt(25)"
   ]
  },
  {
   "cell_type": "markdown",
   "id": "ea033857-4a7e-4ae5-a230-392debf8762c",
   "metadata": {},
   "source": [
    "pow()"
   ]
  },
  {
   "cell_type": "code",
   "execution_count": 43,
   "id": "6ff5aaf3-63ff-4daf-b0b2-084dac07c81e",
   "metadata": {},
   "outputs": [
    {
     "data": {
      "text/plain": [
       "3200000.0"
      ]
     },
     "execution_count": 43,
     "metadata": {},
     "output_type": "execute_result"
    }
   ],
   "source": [
    "import math\n",
    "math.pow(20,5)"
   ]
  },
  {
   "cell_type": "markdown",
   "id": "af2b0fa5-1307-409b-9d45-ef133d5955c0",
   "metadata": {},
   "source": [
    "Triggnometric functions"
   ]
  },
  {
   "cell_type": "code",
   "execution_count": 45,
   "id": "6e1375c1-54b5-4176-9bc5-9172884323d9",
   "metadata": {},
   "outputs": [
    {
     "data": {
      "text/plain": [
       "0.0"
      ]
     },
     "execution_count": 45,
     "metadata": {},
     "output_type": "execute_result"
    }
   ],
   "source": [
    "import math\n",
    "math.sin(0)"
   ]
  },
  {
   "cell_type": "code",
   "execution_count": 47,
   "id": "5aee0721-e452-4ffe-ab41-77638c85d13b",
   "metadata": {},
   "outputs": [
    {
     "data": {
      "text/plain": [
       "-0.4480736161291701"
      ]
     },
     "execution_count": 47,
     "metadata": {},
     "output_type": "execute_result"
    }
   ],
   "source": [
    "math.cos(90)"
   ]
  },
  {
   "cell_type": "code",
   "execution_count": 49,
   "id": "bc38a8f6-ac5c-4fa6-aa80-2828868dd45f",
   "metadata": {},
   "outputs": [
    {
     "data": {
      "text/plain": [
       "1.0"
      ]
     },
     "execution_count": 49,
     "metadata": {},
     "output_type": "execute_result"
    }
   ],
   "source": [
    "math.cos(0)"
   ]
  },
  {
   "cell_type": "code",
   "execution_count": 51,
   "id": "5a20ecc0-27fa-4080-a9f9-b1fc961ccf7c",
   "metadata": {},
   "outputs": [
    {
     "data": {
      "text/plain": [
       "-1.995200412208242"
      ]
     },
     "execution_count": 51,
     "metadata": {},
     "output_type": "execute_result"
    }
   ],
   "source": [
    "math.tan(90)"
   ]
  },
  {
   "cell_type": "markdown",
   "id": "638e8d7a-9aa6-4345-b9e5-1d9ba6c76e35",
   "metadata": {},
   "source": [
    "Lists\n",
    "A list is a data structure in Python that is a mutable, or changeable, ordered sequence of elements. Each element or value that is inside of a list is called an item. Just as strings are defined as characters between quotes, lists are defined by having values between square brackets [ ]"
   ]
  },
  {
   "cell_type": "code",
   "execution_count": 55,
   "id": "8ee6d2c5-7f1e-49a9-b189-767e736f614a",
   "metadata": {},
   "outputs": [
    {
     "name": "stdout",
     "output_type": "stream",
     "text": [
      "siddhesh\n"
     ]
    },
    {
     "data": {
      "text/plain": [
       "str"
      ]
     },
     "execution_count": 55,
     "metadata": {},
     "output_type": "execute_result"
    }
   ],
   "source": [
    "str1=\"siddhesh\"\n",
    "print(str1)\n",
    "type(str1)"
   ]
  },
  {
   "cell_type": "code",
   "execution_count": 57,
   "id": "7e429c11-faf3-4ce7-9c8b-acddd32f8fa9",
   "metadata": {},
   "outputs": [
    {
     "name": "stdout",
     "output_type": "stream",
     "text": [
      "Siddhesh\n"
     ]
    }
   ],
   "source": [
    "str1=\"Siddhesh\"\n",
    "print(str1)"
   ]
  },
  {
   "cell_type": "code",
   "execution_count": 59,
   "id": "8939c83a-6797-46e7-9900-3a328a1f5b0c",
   "metadata": {},
   "outputs": [
    {
     "name": "stdout",
     "output_type": "stream",
     "text": [
      "[1, 2, 3, 4, 'Siddhesh', 'Badakh']\n",
      "badakh\n"
     ]
    }
   ],
   "source": [
    "##Lists\n",
    "##mutable\n",
    "lst=[1,2,3,4,\"Siddhesh\",\"Badakh\"]\n",
    "print(lst)\n",
    "lst[4]=\"badakh\"\n",
    "print(lst[4])"
   ]
  },
  {
   "cell_type": "code",
   "execution_count": 61,
   "id": "1d0186e5-6625-4f66-a561-d485da3d398b",
   "metadata": {},
   "outputs": [
    {
     "name": "stdout",
     "output_type": "stream",
     "text": [
      "[1, 2, 3, 4, 5]\n"
     ]
    }
   ],
   "source": [
    "lst=list((1,2,3,4,5))\n",
    "type(lst)\n",
    "print(lst)"
   ]
  },
  {
   "cell_type": "code",
   "execution_count": 63,
   "id": "6d4add66-917d-4add-97ea-370c6fb66fab",
   "metadata": {},
   "outputs": [
    {
     "name": "stdout",
     "output_type": "stream",
     "text": [
      "1\n",
      "4\n",
      "9\n",
      "16\n",
      "25\n"
     ]
    }
   ],
   "source": [
    "for i in lst:\n",
    "    print(i**2)"
   ]
  },
  {
   "cell_type": "code",
   "execution_count": 65,
   "id": "75385290-d6f5-4dce-960c-3e1f8ec509cb",
   "metadata": {},
   "outputs": [
    {
     "data": {
      "text/plain": [
       "1"
      ]
     },
     "execution_count": 65,
     "metadata": {},
     "output_type": "execute_result"
    }
   ],
   "source": [
    "min(lst)"
   ]
  },
  {
   "cell_type": "code",
   "execution_count": 67,
   "id": "71c27e4d-f23d-4860-b28f-45fc20f8d27c",
   "metadata": {},
   "outputs": [
    {
     "data": {
      "text/plain": [
       "list"
      ]
     },
     "execution_count": 67,
     "metadata": {},
     "output_type": "execute_result"
    }
   ],
   "source": [
    "type([])"
   ]
  },
  {
   "cell_type": "code",
   "execution_count": 73,
   "id": "1d4e4e49-0bb2-4d4e-8714-553cb5883918",
   "metadata": {},
   "outputs": [],
   "source": [
    "lst=['Mathematics', 'chemistry', 100, 200, 300, 204]"
   ]
  },
  {
   "cell_type": "code",
   "execution_count": 75,
   "id": "1f02d1e9-66e8-4ca3-9c7c-c39d5cf2b008",
   "metadata": {},
   "outputs": [
    {
     "data": {
      "text/plain": [
       "6"
      ]
     },
     "execution_count": 75,
     "metadata": {},
     "output_type": "execute_result"
    }
   ],
   "source": [
    "len(lst)"
   ]
  },
  {
   "cell_type": "code",
   "execution_count": 77,
   "id": "e41510da-4651-4bcc-ba60-008761646126",
   "metadata": {},
   "outputs": [
    {
     "data": {
      "text/plain": [
       "list"
      ]
     },
     "execution_count": 77,
     "metadata": {},
     "output_type": "execute_result"
    }
   ],
   "source": [
    "type(lst)"
   ]
  },
  {
   "cell_type": "markdown",
   "id": "bc98e307-2926-4c6a-9ca5-0450bcc954c2",
   "metadata": {},
   "source": [
    "Append"
   ]
  },
  {
   "cell_type": "code",
   "execution_count": 79,
   "id": "8ccd292d-6d2b-4ba3-9d27-1a43a971f817",
   "metadata": {},
   "outputs": [
    {
     "data": {
      "text/plain": [
       "['Mathematics', 'chemistry', 100, 200, 300, 204]"
      ]
     },
     "execution_count": 79,
     "metadata": {},
     "output_type": "execute_result"
    }
   ],
   "source": [
    "lst"
   ]
  },
  {
   "cell_type": "code",
   "execution_count": 81,
   "id": "bf805427-6b13-44e1-bbde-cdb08968a62e",
   "metadata": {},
   "outputs": [
    {
     "data": {
      "text/plain": [
       "['Mathematics', 'chemistry', 100, 200, 300, 204, 'siddhesh']"
      ]
     },
     "execution_count": 81,
     "metadata": {},
     "output_type": "execute_result"
    }
   ],
   "source": [
    "lst.append(\"siddhesh\")\n",
    "lst"
   ]
  },
  {
   "cell_type": "code",
   "execution_count": 83,
   "id": "9328d072-1d34-4fc1-8aca-acc02ec809ca",
   "metadata": {},
   "outputs": [
    {
     "data": {
      "text/plain": [
       "['Mathematics', 'chemistry', 100, 200, 300, 204, 'siddhesh', ['sid', 'Badakh']]"
      ]
     },
     "execution_count": 83,
     "metadata": {},
     "output_type": "execute_result"
    }
   ],
   "source": [
    "lst.append([\"sid\",\"Badakh\"])\n",
    "lst"
   ]
  },
  {
   "cell_type": "code",
   "execution_count": 85,
   "id": "cb8a531e-a2eb-46a2-a176-d9461d7da272",
   "metadata": {},
   "outputs": [
    {
     "data": {
      "text/plain": [
       "[100, 200, 300, 204]"
      ]
     },
     "execution_count": 85,
     "metadata": {},
     "output_type": "execute_result"
    }
   ],
   "source": [
    "lst[2:6]"
   ]
  },
  {
   "cell_type": "code",
   "execution_count": 87,
   "id": "f8a3c40c-0425-46a4-b296-4e8edf8494b0",
   "metadata": {},
   "outputs": [
    {
     "data": {
      "text/plain": [
       "'siddhesh'"
      ]
     },
     "execution_count": 87,
     "metadata": {},
     "output_type": "execute_result"
    }
   ],
   "source": [
    "lst[6]\n"
   ]
  },
  {
   "cell_type": "code",
   "execution_count": 89,
   "id": "097a09a9-2cdf-4d74-989b-5a8a90754a6e",
   "metadata": {},
   "outputs": [
    {
     "data": {
      "text/plain": [
       "['chemistry', 100, 200, 300, 204]"
      ]
     },
     "execution_count": 89,
     "metadata": {},
     "output_type": "execute_result"
    }
   ],
   "source": [
    "lst[1:6]"
   ]
  },
  {
   "cell_type": "markdown",
   "id": "8cc597b2-5a7f-4b01-82e6-34d84db62faa",
   "metadata": {},
   "source": [
    "Insert"
   ]
  },
  {
   "cell_type": "code",
   "execution_count": 91,
   "id": "e7f023d8-6857-4a03-9d96-017ffe553ad9",
   "metadata": {},
   "outputs": [
    {
     "data": {
      "text/plain": [
       "['Mathematics', 'chemistry', 100, 200, 300, 204, 'siddhesh', ['sid', 'Badakh']]"
      ]
     },
     "execution_count": 91,
     "metadata": {},
     "output_type": "execute_result"
    }
   ],
   "source": [
    "lst"
   ]
  },
  {
   "cell_type": "code",
   "execution_count": 95,
   "id": "f97671da-6868-44e6-906a-7f06d0cf100e",
   "metadata": {},
   "outputs": [],
   "source": [
    "lst.insert(2,\"Siddhesh\")"
   ]
  },
  {
   "cell_type": "code",
   "execution_count": 97,
   "id": "4c9d7523-e52e-4ad8-be92-112552339bdf",
   "metadata": {},
   "outputs": [
    {
     "data": {
      "text/plain": [
       "['Mathematics',\n",
       " 'chemistry',\n",
       " 'Naik',\n",
       " 'Naik',\n",
       " 100,\n",
       " 200,\n",
       " 300,\n",
       " 204,\n",
       " 'siddhesh',\n",
       " ['sid', 'Badakh']]"
      ]
     },
     "execution_count": 97,
     "metadata": {},
     "output_type": "execute_result"
    }
   ],
   "source": [
    "lst"
   ]
  },
  {
   "cell_type": "code",
   "execution_count": 99,
   "id": "c0f8cff8-4b73-4b91-ba91-9adbe22cd409",
   "metadata": {},
   "outputs": [],
   "source": [
    "lst=[1,2,3]"
   ]
  },
  {
   "cell_type": "code",
   "execution_count": 101,
   "id": "f0e33fea-141e-4d58-b01c-2463a32c87a0",
   "metadata": {},
   "outputs": [],
   "source": [
    "lst.append([4,5])"
   ]
  },
  {
   "cell_type": "code",
   "execution_count": 103,
   "id": "f64ad8dd-7d93-49d5-a8ac-2dd4ff5f00b8",
   "metadata": {},
   "outputs": [
    {
     "data": {
      "text/plain": [
       "[1, 2, 3, [4, 5]]"
      ]
     },
     "execution_count": 103,
     "metadata": {},
     "output_type": "execute_result"
    }
   ],
   "source": [
    "lst"
   ]
  },
  {
   "cell_type": "markdown",
   "id": "41f686ad-706b-495f-908e-b8428f344a33",
   "metadata": {},
   "source": [
    "Extend Method"
   ]
  },
  {
   "cell_type": "code",
   "execution_count": 105,
   "id": "8cc40417-240e-4eaa-bf6d-8fbcfc092f32",
   "metadata": {},
   "outputs": [],
   "source": [
    "lst=[1,2,3,4,5,6]"
   ]
  },
  {
   "cell_type": "code",
   "execution_count": 107,
   "id": "100c7c93-2002-4654-8f24-eddd1214dfb8",
   "metadata": {},
   "outputs": [
    {
     "data": {
      "text/plain": [
       "[1, 2, 3, 4, 5, 6, [8, 9]]"
      ]
     },
     "execution_count": 107,
     "metadata": {},
     "output_type": "execute_result"
    }
   ],
   "source": [
    "lst.append([8,9])\n",
    "lst"
   ]
  },
  {
   "cell_type": "code",
   "execution_count": 109,
   "id": "63cad031-a67c-4037-81d1-f16aa9d61380",
   "metadata": {},
   "outputs": [
    {
     "data": {
      "text/plain": [
       "[1, 2, 3, 4, 5, 6, [8, 9]]"
      ]
     },
     "execution_count": 109,
     "metadata": {},
     "output_type": "execute_result"
    }
   ],
   "source": [
    "lst"
   ]
  },
  {
   "cell_type": "markdown",
   "id": "144a5793-274b-4b5b-a051-09a0e15d35b0",
   "metadata": {},
   "source": [
    "Various Operations that we can perform in List"
   ]
  },
  {
   "cell_type": "code",
   "execution_count": 111,
   "id": "2fa0d3ff-f53e-4cfe-8b67-35e79b5eafb2",
   "metadata": {},
   "outputs": [],
   "source": [
    "lst=[1,2,3,4,5]"
   ]
  },
  {
   "cell_type": "code",
   "execution_count": 113,
   "id": "7d8f3a8c-cffa-4e51-974d-5705bf5ef75a",
   "metadata": {},
   "outputs": [
    {
     "data": {
      "text/plain": [
       "15"
      ]
     },
     "execution_count": 113,
     "metadata": {},
     "output_type": "execute_result"
    }
   ],
   "source": [
    "sum(lst)"
   ]
  },
  {
   "cell_type": "code",
   "execution_count": 115,
   "id": "80df8aec-d122-4b5f-b10c-511afc5f4b77",
   "metadata": {},
   "outputs": [
    {
     "data": {
      "text/plain": [
       "[1, 2, 3, 4, 5, 1, 2, 3, 4, 5, 1, 2, 3, 4, 5, 1, 2, 3, 4, 5, 1, 2, 3, 4, 5]"
      ]
     },
     "execution_count": 115,
     "metadata": {},
     "output_type": "execute_result"
    }
   ],
   "source": [
    "lst*5"
   ]
  },
  {
   "cell_type": "code",
   "execution_count": 117,
   "id": "0c62b8d9-3bc3-4da0-91f2-157c7dc008ef",
   "metadata": {},
   "outputs": [
    {
     "name": "stdout",
     "output_type": "stream",
     "text": [
      "0.2\n",
      "0.4\n",
      "0.6\n",
      "0.8\n",
      "1.0\n"
     ]
    }
   ],
   "source": [
    "for i in lst:\n",
    "    print(i/5)"
   ]
  },
  {
   "cell_type": "code",
   "execution_count": 119,
   "id": "ed7db317-d885-4660-9e96-f0cfddf0c160",
   "metadata": {},
   "outputs": [
    {
     "data": {
      "text/plain": [
       "[1, 2, 3, 4, 5]"
      ]
     },
     "execution_count": 119,
     "metadata": {},
     "output_type": "execute_result"
    }
   ],
   "source": [
    "lst"
   ]
  },
  {
   "cell_type": "markdown",
   "id": "333edc3c-a907-4d7d-9445-46c7da718c60",
   "metadata": {},
   "source": [
    "Pop() Method"
   ]
  },
  {
   "cell_type": "code",
   "execution_count": 121,
   "id": "f8148b11-9bf8-46ab-aa99-ed0b445eeb8d",
   "metadata": {},
   "outputs": [
    {
     "data": {
      "text/plain": [
       "5"
      ]
     },
     "execution_count": 121,
     "metadata": {},
     "output_type": "execute_result"
    }
   ],
   "source": [
    "lst.pop()"
   ]
  },
  {
   "cell_type": "code",
   "execution_count": 123,
   "id": "816d7a68-2e57-4212-b86c-a3b0a9df2c10",
   "metadata": {},
   "outputs": [
    {
     "data": {
      "text/plain": [
       "[1, 2, 3, 4]"
      ]
     },
     "execution_count": 123,
     "metadata": {},
     "output_type": "execute_result"
    }
   ],
   "source": [
    "lst"
   ]
  },
  {
   "cell_type": "code",
   "execution_count": 125,
   "id": "f82acc4f-0f8c-4ffe-bbe3-09622b795e5d",
   "metadata": {},
   "outputs": [
    {
     "data": {
      "text/plain": [
       "3"
      ]
     },
     "execution_count": 125,
     "metadata": {},
     "output_type": "execute_result"
    }
   ],
   "source": [
    "lst.pop(2)"
   ]
  },
  {
   "cell_type": "code",
   "execution_count": 127,
   "id": "bdd55949-0bff-4cbb-b805-492f0f036319",
   "metadata": {},
   "outputs": [
    {
     "data": {
      "text/plain": [
       "[1, 2, 4]"
      ]
     },
     "execution_count": 127,
     "metadata": {},
     "output_type": "execute_result"
    }
   ],
   "source": [
    "lst"
   ]
  },
  {
   "cell_type": "markdown",
   "id": "b8463cb8-9ed4-430c-a3cb-2a92108746d5",
   "metadata": {},
   "source": [
    "count():Calculates total occurrence of given element of List"
   ]
  },
  {
   "cell_type": "code",
   "execution_count": 129,
   "id": "24c351ad-5bdf-44ec-8a27-7c9672ab4f3f",
   "metadata": {},
   "outputs": [
    {
     "data": {
      "text/plain": [
       "2"
      ]
     },
     "execution_count": 129,
     "metadata": {},
     "output_type": "execute_result"
    }
   ],
   "source": [
    "lst=[1,1,2,3,4,5]\n",
    "lst.count(1)"
   ]
  },
  {
   "cell_type": "code",
   "execution_count": 131,
   "id": "d97d73da-7186-4e4b-b10c-ba488cd76e39",
   "metadata": {},
   "outputs": [
    {
     "data": {
      "text/plain": [
       "6"
      ]
     },
     "execution_count": 131,
     "metadata": {},
     "output_type": "execute_result"
    }
   ],
   "source": [
    "#length:Calculates total length of List\n",
    "len(lst)"
   ]
  },
  {
   "cell_type": "code",
   "execution_count": 133,
   "id": "d3d6cb7a-66ce-44fb-b5a8-1af7693446c2",
   "metadata": {},
   "outputs": [
    {
     "data": {
      "text/plain": [
       "1"
      ]
     },
     "execution_count": 133,
     "metadata": {},
     "output_type": "execute_result"
    }
   ],
   "source": [
    "# index(): Returns the index of first occurrence. Start and End index are not necessary parameters\n",
    "lst.index(1,1,4)"
   ]
  },
  {
   "cell_type": "code",
   "execution_count": 135,
   "id": "a07974fb-7bc9-4bc4-a005-577aadeb336e",
   "metadata": {},
   "outputs": [
    {
     "data": {
      "text/plain": [
       "1"
      ]
     },
     "execution_count": 135,
     "metadata": {},
     "output_type": "execute_result"
    }
   ],
   "source": [
    "##Min and Max\n",
    "min(lst)"
   ]
  },
  {
   "cell_type": "code",
   "execution_count": 137,
   "id": "4f04948a-fd25-43ac-a78f-428a0ec4678d",
   "metadata": {},
   "outputs": [
    {
     "data": {
      "text/plain": [
       "5"
      ]
     },
     "execution_count": 137,
     "metadata": {},
     "output_type": "execute_result"
    }
   ],
   "source": [
    "max(lst)"
   ]
  },
  {
   "cell_type": "markdown",
   "id": "0619f0dc-f551-4101-9c0b-e779d6a34967",
   "metadata": {},
   "source": [
    "SETS\n",
    "A Set is an unordered collection data type that is iterable, mutable, and has no duplicate elements. Python's set class represents the mathematical notion of a set.This is based on a data structure known as a hash table"
   ]
  },
  {
   "cell_type": "code",
   "execution_count": 139,
   "id": "594dab2e-38b1-4525-82d9-c9cc1748885d",
   "metadata": {},
   "outputs": [],
   "source": [
    "set_var={1,2,3,4,3}"
   ]
  },
  {
   "cell_type": "code",
   "execution_count": 141,
   "id": "f8d4a05d-ec3f-4cba-8ef5-bdbd23df6dc8",
   "metadata": {},
   "outputs": [
    {
     "data": {
      "text/plain": [
       "{1, 2, 3, 4}"
      ]
     },
     "execution_count": 141,
     "metadata": {},
     "output_type": "execute_result"
    }
   ],
   "source": [
    "set_var"
   ]
  },
  {
   "cell_type": "code",
   "execution_count": 143,
   "id": "47068981-99f1-4dfe-8bba-c46ee04e5094",
   "metadata": {},
   "outputs": [
    {
     "name": "stdout",
     "output_type": "stream",
     "text": [
      "{'Hitman', 'Avengers', 'IronMan'}\n"
     ]
    },
    {
     "data": {
      "text/plain": [
       "set"
      ]
     },
     "execution_count": 143,
     "metadata": {},
     "output_type": "execute_result"
    }
   ],
   "source": [
    "set_var={\"Avengers\",\"IronMan\",'Hitman'}\n",
    "print(set_var)\n",
    "type(set_var)"
   ]
  },
  {
   "cell_type": "code",
   "execution_count": 145,
   "id": "904d63be-7189-4743-a0ab-bc0ce7c6d2b8",
   "metadata": {},
   "outputs": [],
   "source": [
    "set_var.add(\"Hulk\")"
   ]
  },
  {
   "cell_type": "code",
   "execution_count": 147,
   "id": "fbb003fa-4686-4166-90cc-216b4296aefc",
   "metadata": {},
   "outputs": [
    {
     "name": "stdout",
     "output_type": "stream",
     "text": [
      "{'Hulk', 'Hitman', 'Avengers', 'IronMan'}\n"
     ]
    }
   ],
   "source": [
    "print(set_var)"
   ]
  },
  {
   "cell_type": "code",
   "execution_count": 149,
   "id": "c272e84c-fa2e-49ac-be47-3ac14d1a2e64",
   "metadata": {},
   "outputs": [],
   "source": [
    "set1={\"Avengers\",\"IronMan\",'Hitman'}\n",
    "set2={\"Avengers\",\"IronMan\",'Hitman','Hulk2'}"
   ]
  },
  {
   "cell_type": "code",
   "execution_count": 151,
   "id": "f30bd562-15d7-4b37-aa82-949b5c8bb9b0",
   "metadata": {},
   "outputs": [],
   "source": [
    "set2.intersection_update(set1)"
   ]
  },
  {
   "cell_type": "code",
   "execution_count": 153,
   "id": "9045ca5e-670a-4572-b8f1-c2c382421f3e",
   "metadata": {},
   "outputs": [
    {
     "data": {
      "text/plain": [
       "{'Avengers', 'Hitman', 'IronMan'}"
      ]
     },
     "execution_count": 153,
     "metadata": {},
     "output_type": "execute_result"
    }
   ],
   "source": [
    "set2"
   ]
  },
  {
   "cell_type": "code",
   "execution_count": 155,
   "id": "3e1810a7-24d8-430a-99e0-aa43747c4b71",
   "metadata": {},
   "outputs": [],
   "source": [
    "set2.difference_update(set1)"
   ]
  },
  {
   "cell_type": "code",
   "execution_count": 157,
   "id": "afe3a1d3-2c8a-4a8a-9805-96ce7318ff6e",
   "metadata": {},
   "outputs": [
    {
     "name": "stdout",
     "output_type": "stream",
     "text": [
      "set()\n"
     ]
    }
   ],
   "source": [
    "print(set2)"
   ]
  },
  {
   "cell_type": "markdown",
   "id": "486732f7-8a86-429b-a5a4-af86638e159c",
   "metadata": {},
   "source": [
    "Dictionaries\n",
    "A dictionary is a collection which is unordered, changeable and indexed. In Python dictionaries are written with curly brackets, and they have keys and values."
   ]
  },
  {
   "cell_type": "code",
   "execution_count": 159,
   "id": "7d38e646-fcdd-4d43-b447-ded0f49f538b",
   "metadata": {},
   "outputs": [],
   "source": [
    "dic={}"
   ]
  },
  {
   "cell_type": "code",
   "execution_count": 161,
   "id": "e543d430-9bc3-4225-b694-df2f1c524407",
   "metadata": {},
   "outputs": [
    {
     "data": {
      "text/plain": [
       "dict"
      ]
     },
     "execution_count": 161,
     "metadata": {},
     "output_type": "execute_result"
    }
   ],
   "source": [
    "type(dic)"
   ]
  },
  {
   "cell_type": "code",
   "execution_count": 163,
   "id": "5010397d-3a15-4a36-832a-3dce9615e350",
   "metadata": {},
   "outputs": [
    {
     "data": {
      "text/plain": [
       "dict"
      ]
     },
     "execution_count": 163,
     "metadata": {},
     "output_type": "execute_result"
    }
   ],
   "source": [
    "type(dict())"
   ]
  },
  {
   "cell_type": "code",
   "execution_count": 165,
   "id": "c4b72944-3dd7-4c0e-a0b6-f42c744dadcf",
   "metadata": {},
   "outputs": [],
   "source": [
    "set_ex={1,2,3,4,5}"
   ]
  },
  {
   "cell_type": "code",
   "execution_count": 167,
   "id": "cfaf13a1-874f-4bc1-9ef4-36adb71d7c7b",
   "metadata": {},
   "outputs": [
    {
     "data": {
      "text/plain": [
       "set"
      ]
     },
     "execution_count": 167,
     "metadata": {},
     "output_type": "execute_result"
    }
   ],
   "source": [
    "type(set_ex)"
   ]
  },
  {
   "cell_type": "code",
   "execution_count": 169,
   "id": "7854461c-001c-4ebb-bf07-7d4d4e2f6c5f",
   "metadata": {},
   "outputs": [],
   "source": [
    "## Let create a dictionary\n",
    "\n",
    "my_dict={\"Car1\": \"Audi\", \"Car2\":\"BMW\",\"Car3\":\"Mercidies Benz\"}"
   ]
  },
  {
   "cell_type": "code",
   "execution_count": 171,
   "id": "295bd2a7-916f-407c-8b8c-908584566560",
   "metadata": {},
   "outputs": [
    {
     "data": {
      "text/plain": [
       "dict"
      ]
     },
     "execution_count": 171,
     "metadata": {},
     "output_type": "execute_result"
    }
   ],
   "source": [
    "type(my_dict)"
   ]
  },
  {
   "cell_type": "code",
   "execution_count": 173,
   "id": "f06b650f-e6ef-43d8-8b62-780505fccdda",
   "metadata": {},
   "outputs": [
    {
     "data": {
      "text/plain": [
       "'Audi'"
      ]
     },
     "execution_count": 173,
     "metadata": {},
     "output_type": "execute_result"
    }
   ],
   "source": [
    "my_dict['Car1']"
   ]
  },
  {
   "cell_type": "code",
   "execution_count": 175,
   "id": "a8ebf1e8-5516-454b-a0c7-01548495f056",
   "metadata": {},
   "outputs": [
    {
     "name": "stdout",
     "output_type": "stream",
     "text": [
      "Car1\n",
      "Car2\n",
      "Car3\n"
     ]
    }
   ],
   "source": [
    "# We can even loop throught the dictionaries keys\n",
    "\n",
    "for x in my_dict:\n",
    "    print(x)"
   ]
  },
  {
   "cell_type": "code",
   "execution_count": 177,
   "id": "2e942f8e-c3c9-4fe5-ae41-bedac0f622cf",
   "metadata": {},
   "outputs": [
    {
     "name": "stdout",
     "output_type": "stream",
     "text": [
      "Audi\n",
      "BMW\n",
      "Mercidies Benz\n"
     ]
    }
   ],
   "source": [
    "# We can even loop throught the dictionaries values\n",
    "\n",
    "for x in my_dict.values():\n",
    "    print(x)"
   ]
  },
  {
   "cell_type": "code",
   "execution_count": 179,
   "id": "f636f69c-3376-40c5-960d-37480332f0ff",
   "metadata": {},
   "outputs": [
    {
     "name": "stdout",
     "output_type": "stream",
     "text": [
      "('Car1', 'Audi')\n",
      "('Car2', 'BMW')\n",
      "('Car3', 'Mercidies Benz')\n"
     ]
    }
   ],
   "source": [
    "# We can also check both keys and values\n",
    "for x in my_dict.items():\n",
    "    print(x)"
   ]
  },
  {
   "cell_type": "code",
   "execution_count": 181,
   "id": "d425a8fb-838a-4585-972b-fa596598a747",
   "metadata": {},
   "outputs": [],
   "source": [
    "## Adding items in Dictionaries\n",
    "\n",
    "my_dict['car4']='Audi 2.0'"
   ]
  },
  {
   "cell_type": "code",
   "execution_count": 183,
   "id": "cf03cf56-fb17-473e-b38c-600ca4e222ff",
   "metadata": {},
   "outputs": [
    {
     "data": {
      "text/plain": [
       "{'Car1': 'Audi', 'Car2': 'BMW', 'Car3': 'Mercidies Benz', 'car4': 'Audi 2.0'}"
      ]
     },
     "execution_count": 183,
     "metadata": {},
     "output_type": "execute_result"
    }
   ],
   "source": [
    "my_dict"
   ]
  },
  {
   "cell_type": "code",
   "execution_count": 185,
   "id": "a31912f0-aa77-4d3f-a09f-8668b62a27e0",
   "metadata": {},
   "outputs": [],
   "source": [
    "my_dict['Car1']='MAruti'"
   ]
  },
  {
   "cell_type": "code",
   "execution_count": 187,
   "id": "55e3d2fe-89be-4b5c-b653-222f2ea592d1",
   "metadata": {},
   "outputs": [
    {
     "data": {
      "text/plain": [
       "{'Car1': 'MAruti', 'Car2': 'BMW', 'Car3': 'Mercidies Benz', 'car4': 'Audi 2.0'}"
      ]
     },
     "execution_count": 187,
     "metadata": {},
     "output_type": "execute_result"
    }
   ],
   "source": [
    "my_dict"
   ]
  },
  {
   "cell_type": "markdown",
   "id": "49ce6d25-89cd-4e09-9bcd-1a9ab6dab52d",
   "metadata": {},
   "source": [
    "Nested Dictionary"
   ]
  },
  {
   "cell_type": "code",
   "execution_count": 189,
   "id": "dffa4876-9e15-414b-a99a-41b185ee2883",
   "metadata": {},
   "outputs": [],
   "source": [
    "car1_model={'Mercedes':1960}\n",
    "car2_model={'Audi':1970}\n",
    "car3_model={'Ambassador':1980}\n",
    "\n",
    "car_type={'car1':car1_model,'car2':car2_model,'car3':car3_model}"
   ]
  },
  {
   "cell_type": "code",
   "execution_count": 191,
   "id": "b6f4188e-8eb9-4a8b-94c2-7bdb0311e8f4",
   "metadata": {},
   "outputs": [
    {
     "name": "stdout",
     "output_type": "stream",
     "text": [
      "{'car1': {'Mercedes': 1960}, 'car2': {'Audi': 1970}, 'car3': {'Ambassador': 1980}}\n"
     ]
    }
   ],
   "source": [
    "print(car_type)"
   ]
  },
  {
   "cell_type": "code",
   "execution_count": 193,
   "id": "e4fa7b96-4637-4895-94aa-97a5b6412f6a",
   "metadata": {},
   "outputs": [
    {
     "name": "stdout",
     "output_type": "stream",
     "text": [
      "{'Mercedes': 1960}\n"
     ]
    }
   ],
   "source": [
    "## Accessing the items in the dictionary\n",
    "\n",
    "print(car_type['car1'])"
   ]
  },
  {
   "cell_type": "code",
   "execution_count": 195,
   "id": "3d47cda9-ad99-4b04-aeda-35c3631fe489",
   "metadata": {},
   "outputs": [
    {
     "name": "stdout",
     "output_type": "stream",
     "text": [
      "1960\n"
     ]
    }
   ],
   "source": [
    "print(car_type['car1']['Mercedes'])"
   ]
  },
  {
   "cell_type": "markdown",
   "id": "1257499f-12fd-4882-91b4-d3a63c3f5683",
   "metadata": {},
   "source": [
    "Tuples"
   ]
  },
  {
   "cell_type": "code",
   "execution_count": 197,
   "id": "567eaa31-6972-48c8-aa40-73bc1e4ee9a5",
   "metadata": {},
   "outputs": [],
   "source": [
    "## create an empty Tuples\n",
    "\n",
    "my_tuple=tuple()"
   ]
  },
  {
   "cell_type": "code",
   "execution_count": 199,
   "id": "4c8ef194-5883-40b3-a95f-452d5c752922",
   "metadata": {},
   "outputs": [
    {
     "data": {
      "text/plain": [
       "tuple"
      ]
     },
     "execution_count": 199,
     "metadata": {},
     "output_type": "execute_result"
    }
   ],
   "source": [
    "type(my_tuple)"
   ]
  },
  {
   "cell_type": "code",
   "execution_count": 201,
   "id": "11d8feb5-facc-46a0-9234-944fd24db3e8",
   "metadata": {},
   "outputs": [],
   "source": [
    "my_tuple=(\"Krish\",\"Ankur\",\"John\")"
   ]
  },
  {
   "cell_type": "code",
   "execution_count": 203,
   "id": "76610f90-21be-41df-9b20-f424f9ba75e8",
   "metadata": {},
   "outputs": [],
   "source": [
    "my_tuple=('Hello','World')"
   ]
  },
  {
   "cell_type": "code",
   "execution_count": 205,
   "id": "023ac900-9c98-4e9c-bc85-c8e82d54809b",
   "metadata": {},
   "outputs": [
    {
     "name": "stdout",
     "output_type": "stream",
     "text": [
      "<class 'tuple'>\n",
      "('Hello', 'World')\n"
     ]
    }
   ],
   "source": [
    "print(type(my_tuple))\n",
    "print(my_tuple)"
   ]
  },
  {
   "cell_type": "code",
   "execution_count": 207,
   "id": "15cccc50-a173-4474-b3d5-60f7208950e4",
   "metadata": {},
   "outputs": [
    {
     "data": {
      "text/plain": [
       "tuple"
      ]
     },
     "execution_count": 207,
     "metadata": {},
     "output_type": "execute_result"
    }
   ],
   "source": [
    "type(my_tuple)"
   ]
  },
  {
   "cell_type": "code",
   "execution_count": null,
   "id": "6f760a43-4de1-44a9-affb-5b99e5b1d905",
   "metadata": {},
   "outputs": [],
   "source": []
  }
 ],
 "metadata": {
  "kernelspec": {
   "display_name": "Python 3 (ipykernel)",
   "language": "python",
   "name": "python3"
  },
  "language_info": {
   "codemirror_mode": {
    "name": "ipython",
    "version": 3
   },
   "file_extension": ".py",
   "mimetype": "text/x-python",
   "name": "python",
   "nbconvert_exporter": "python",
   "pygments_lexer": "ipython3",
   "version": "3.12.4"
  }
 },
 "nbformat": 4,
 "nbformat_minor": 5
}
