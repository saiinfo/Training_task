{
 "cells": [
  {
   "cell_type": "markdown",
   "id": "eb13ead3-6b15-477a-88d9-d89d2dda902a",
   "metadata": {},
   "source": [
    "BASIC PYTHON PROGRAM"
   ]
  },
  {
   "cell_type": "code",
   "execution_count": 1,
   "id": "db222f6b-2594-40d7-a22c-1f0a4c5353ac",
   "metadata": {},
   "outputs": [
    {
     "name": "stdout",
     "output_type": "stream",
     "text": [
      "the sum of two number is: 70\n"
     ]
    }
   ],
   "source": [
    "#Addition of two number\n",
    "\n",
    "num1=30\n",
    "num2=40\n",
    "\n",
    "print(\"the sum of two number is:\",num1+num2)"
   ]
  },
  {
   "cell_type": "code",
   "execution_count": 3,
   "id": "564532a6-4d17-4b09-a70b-ecdb3ac611e4",
   "metadata": {},
   "outputs": [
    {
     "name": "stdout",
     "output_type": "stream",
     "text": [
      "the sum of 2 number is: 70\n"
     ]
    }
   ],
   "source": [
    "#Another method\n",
    "\n",
    "number1=30\n",
    "number2=40\n",
    "\n",
    "sum=number1+number2\n",
    "\n",
    "print(\"the sum of 2 number is:\",sum)"
   ]
  },
  {
   "cell_type": "code",
   "execution_count": 5,
   "id": "e2e1a725-3705-40f3-8e9c-907df31728b0",
   "metadata": {},
   "outputs": [
    {
     "name": "stdin",
     "output_type": "stream",
     "text": [
      "Enter the num1: 20\n",
      "Enter the num2: 30\n"
     ]
    },
    {
     "name": "stdout",
     "output_type": "stream",
     "text": [
      "the sum of 2 number is: 50\n"
     ]
    }
   ],
   "source": [
    "num1=int(input(\"Enter the num1:\"))\n",
    "num2=int(input(\"Enter the num2:\"))\n",
    "\n",
    "sum=num1+num2\n",
    "\n",
    "print(\"the sum of 2 number is:\",sum)"
   ]
  },
  {
   "cell_type": "code",
   "execution_count": 11,
   "id": "117038b9-20f3-4c31-81d7-5d226b1bd475",
   "metadata": {},
   "outputs": [
    {
     "name": "stdout",
     "output_type": "stream",
     "text": [
      "the squarerrot of given no is: 8.0\n"
     ]
    }
   ],
   "source": [
    "# Find Square Root\n",
    "\n",
    "num1=64\n",
    "\n",
    "sq=num1**(1/2)\n",
    "\n",
    "print(\"the squarerrot of given no is:\",+sq)"
   ]
  },
  {
   "cell_type": "code",
   "execution_count": 17,
   "id": "f2cfba52-ca29-4a92-b8e1-e2b2c9d849c3",
   "metadata": {},
   "outputs": [
    {
     "name": "stdin",
     "output_type": "stream",
     "text": [
      "enter the num1: 81\n"
     ]
    },
    {
     "name": "stdout",
     "output_type": "stream",
     "text": [
      "the square root of given no is: 9.0\n"
     ]
    }
   ],
   "source": [
    "num1=int(input(\"enter the num1:\"))\n",
    "sq=num1**(1/2)\n",
    "print(\"the square root of given no is:\",sq)"
   ]
  },
  {
   "cell_type": "markdown",
   "id": "5938b8e3-5aab-40fa-bbc4-96eefd8d0539",
   "metadata": {},
   "source": [
    "#Swapping two no"
   ]
  },
  {
   "cell_type": "code",
   "execution_count": 19,
   "id": "d3205dad-3592-4f5b-be93-972c9e78d62b",
   "metadata": {},
   "outputs": [
    {
     "name": "stdin",
     "output_type": "stream",
     "text": [
      "Please enter value for P:  10\n",
      "Please enter value for Q:  20\n"
     ]
    },
    {
     "name": "stdout",
     "output_type": "stream",
     "text": [
      "The Value of P after swapping:  20\n",
      "The Value of Q after swapping:  10\n"
     ]
    }
   ],
   "source": [
    "P = int( input(\"Please enter value for P: \"))  \n",
    "Q = int( input(\"Please enter value for Q: \"))  \n",
    "   \n",
    "\n",
    "temp = P  \n",
    "P = Q  \n",
    "Q = temp  \n",
    "   \n",
    "print (\"The Value of P after swapping: \", P)  \n",
    "print (\"The Value of Q after swapping: \", Q)  "
   ]
  },
  {
   "cell_type": "markdown",
   "id": "0c22e1e9-b4da-4e28-8be9-cfdc2336c713",
   "metadata": {},
   "source": [
    "check no Postive,Negative or zero"
   ]
  },
  {
   "cell_type": "code",
   "execution_count": 23,
   "id": "4e79b11c-de4f-4c71-8714-4195d7c36138",
   "metadata": {},
   "outputs": [
    {
     "name": "stdin",
     "output_type": "stream",
     "text": [
      "Enter a number as input value:  1\n"
     ]
    },
    {
     "name": "stdout",
     "output_type": "stream",
     "text": [
      "Number given by you is Positive\n"
     ]
    }
   ],
   "source": [
    "def NumberCheck(a):   \n",
    "   \n",
    "    if a > 0:   \n",
    "        print(\"Number given by you is Positive\")   \n",
    "  \n",
    "    elif a < 0:   \n",
    "        print(\"Number given by you is Negative\")   \n",
    "     \n",
    "    else:   \n",
    "        print(\"Number given by you is zero\")  \n",
    "  \n",
    "a = float(input(\"Enter a number as input value: \"))  \n",
    " \n",
    "NumberCheck(a)  "
   ]
  },
  {
   "cell_type": "markdown",
   "id": "bbef1725-92cb-4739-ae87-7befe55d79f8",
   "metadata": {},
   "source": [
    "Even Or odd no"
   ]
  },
  {
   "cell_type": "code",
   "execution_count": 27,
   "id": "48947f3b-5379-4235-b6c3-43e20a862549",
   "metadata": {},
   "outputs": [
    {
     "name": "stdin",
     "output_type": "stream",
     "text": [
      "Enter a number:  1\n"
     ]
    },
    {
     "name": "stdout",
     "output_type": "stream",
     "text": [
      "Odd number\n"
     ]
    }
   ],
   "source": [
    "num = int(input(\"Enter a number: \"))  \n",
    "if (num % 2) == 0:  \n",
    "   print(\"Even number\")  \n",
    "else:  \n",
    "   print(\"Odd number\")  "
   ]
  },
  {
   "cell_type": "markdown",
   "id": "230d9ab0-9bf7-40fc-96d6-6ff3ae315f47",
   "metadata": {},
   "source": [
    "Leap year"
   ]
  },
  {
   "cell_type": "code",
   "execution_count": 31,
   "id": "782d8786-3a4c-4284-8a70-59d49424bad5",
   "metadata": {},
   "outputs": [
    {
     "name": "stdin",
     "output_type": "stream",
     "text": [
      "Enter the year:  2004\n"
     ]
    },
    {
     "name": "stdout",
     "output_type": "stream",
     "text": [
      "Given Year is a leap Year\n"
     ]
    }
   ],
   "source": [
    "def CheckLeap(Year):  \n",
    "  \n",
    "  if((Year % 400 == 0) or  \n",
    "     (Year % 100 != 0) and  \n",
    "     (Year % 4 == 0)):   \n",
    "    print(\"Given Year is a leap Year\");  \n",
    " \n",
    "  else:  \n",
    "    print (\"Given Year is not a leap Year\")  \n",
    "\n",
    "Year = int(input(\"Enter the year: \"))  \n",
    " \n",
    "CheckLeap(Year)  "
   ]
  },
  {
   "cell_type": "markdown",
   "id": "a074b1e5-0545-4025-a290-595cad3b1593",
   "metadata": {},
   "source": [
    "Prime number or not"
   ]
  },
  {
   "cell_type": "code",
   "execution_count": 35,
   "id": "206996d3-42fe-45dc-8ad2-cb2addc64260",
   "metadata": {},
   "outputs": [
    {
     "name": "stdin",
     "output_type": "stream",
     "text": [
      "Enter an input number: 3\n"
     ]
    },
    {
     "name": "stdout",
     "output_type": "stream",
     "text": [
      "3 is a prime number\n"
     ]
    }
   ],
   "source": [
    "def PrimeChecker(a):  \n",
    "   \n",
    "    if a > 1:  \n",
    "      \n",
    "        for j in range(2, int(a/2) + 1):  \n",
    "          \n",
    "            if (a % j) == 0:  \n",
    "                print(a, \"is not a prime number\")  \n",
    "                break  \n",
    "       \n",
    "        else:  \n",
    "            print(a, \"is a prime number\")  \n",
    "    \n",
    "    else:  \n",
    "        print(a, \"is not a prime number\")  \n",
    "  \n",
    "a = int(input(\"Enter an input number:\"))  \n",
    " \n",
    "PrimeChecker(a)  "
   ]
  },
  {
   "cell_type": "markdown",
   "id": "3a6b1406-ac72-4ed1-b128-472981d17438",
   "metadata": {},
   "source": [
    "Factorial no"
   ]
  },
  {
   "cell_type": "code",
   "execution_count": 46,
   "id": "411c980d-6e96-436c-a518-81754dac941a",
   "metadata": {},
   "outputs": [
    {
     "name": "stdin",
     "output_type": "stream",
     "text": [
      "Enter a number:  5\n"
     ]
    },
    {
     "name": "stdout",
     "output_type": "stream",
     "text": [
      "The factorial of 5 is 120\n"
     ]
    }
   ],
   "source": [
    "num = int(input(\"Enter a number: \"))    \n",
    "factorial = 1    \n",
    "if num < 0:    \n",
    "   print(\" Factorial does not exist for negative numbers\")    \n",
    "elif num == 0:    \n",
    "   print(\"The factorial of 0 is 1\")    \n",
    "else:    \n",
    "   for i in range(1,num + 1):    \n",
    "       factorial = factorial*i    \n",
    "   print(\"The factorial of\",num,\"is\",factorial)    "
   ]
  },
  {
   "cell_type": "code",
   "execution_count": 3,
   "id": "6bf789da-1047-464e-9cb3-23a9cabf16e7",
   "metadata": {},
   "outputs": [
    {
     "name": "stdout",
     "output_type": "stream",
     "text": [
      "*\n",
      "**\n",
      "***\n",
      "****\n",
      "*****\n"
     ]
    }
   ],
   "source": [
    "i = 1\n",
    "while i <= 5:\n",
    "    j = 1\n",
    "    while j <= i:\n",
    "        print(\"*\", end=\"\")\n",
    "        j = j + 1\n",
    "    print() \n",
    "    i = i + 1\n"
   ]
  },
  {
   "cell_type": "code",
   "execution_count": 5,
   "id": "0cd8f371-3d47-453f-811a-7b1be2a571f5",
   "metadata": {},
   "outputs": [
    {
     "name": "stdout",
     "output_type": "stream",
     "text": [
      "1\n",
      "22\n",
      "333\n",
      "4444\n",
      "55555\n"
     ]
    }
   ],
   "source": [
    "i = 1\n",
    "while i <= 5:\n",
    "    j = 1\n",
    "    while j <= i:\n",
    "        print(i, end=\"\")\n",
    "        j = j + 1\n",
    "    print() \n",
    "    i = i + 1\n"
   ]
  },
  {
   "cell_type": "code",
   "execution_count": 7,
   "id": "734ee814-3074-4ec3-a02d-3a40a27a6c5d",
   "metadata": {},
   "outputs": [
    {
     "name": "stdout",
     "output_type": "stream",
     "text": [
      "1\n",
      "12\n",
      "123\n",
      "1234\n",
      "12345\n"
     ]
    }
   ],
   "source": [
    "i = 1\n",
    "while i <= 5:\n",
    "    j = 1\n",
    "    while j <= i:\n",
    "        print(j, end=\"\")\n",
    "        j = j + 1\n",
    "    print() \n",
    "    i = i + 1\n"
   ]
  },
  {
   "cell_type": "markdown",
   "id": "895a5724-0ff0-4907-8c33-3c24b7764d53",
   "metadata": {},
   "source": [
    "DATE AND TIME"
   ]
  },
  {
   "cell_type": "code",
   "execution_count": 9,
   "id": "f783c0a2-ae90-4639-8057-12888c18cdad",
   "metadata": {},
   "outputs": [
    {
     "name": "stdout",
     "output_type": "stream",
     "text": [
      "Time now at greenwich meridian is: 2024-09-05 16:50:40.628333\n"
     ]
    }
   ],
   "source": [
    "\n",
    "import datetime\n",
    "\n",
    "\n",
    "current_time = datetime.datetime.now()\n",
    "\n",
    "print(\"Time now at greenwich meridian is:\", current_time)"
   ]
  },
  {
   "cell_type": "markdown",
   "id": "f089c453-dc94-4beb-bcfc-c79d5c85f511",
   "metadata": {},
   "source": [
    "Largest number in array"
   ]
  },
  {
   "cell_type": "code",
   "execution_count": 11,
   "id": "3d441857-4add-439a-b964-9bd4cc88e2b8",
   "metadata": {},
   "outputs": [
    {
     "name": "stdout",
     "output_type": "stream",
     "text": [
      "Largest in given array  900\n"
     ]
    }
   ],
   "source": [
    "def largest(arr, n):\n",
    "\n",
    "\t\n",
    "\tmax = arr[0]\n",
    "\n",
    "\n",
    "\tfor i in range(1, n):\n",
    "\t\tif arr[i] > max:\n",
    "\t\t\tmax = arr[i]\n",
    "\treturn max\n",
    "\n",
    "\n",
    "\n",
    "arr = [100, 300, 400, 900, 98]\n",
    "n = len(arr)\n",
    "Ans = largest(arr, n)\n",
    "print(\"Largest in given array \", Ans)\n"
   ]
  },
  {
   "cell_type": "code",
   "execution_count": null,
   "id": "72123f9f-ede0-4e41-bb7c-b472681040d2",
   "metadata": {},
   "outputs": [],
   "source": []
  }
 ],
 "metadata": {
  "kernelspec": {
   "display_name": "Python 3 (ipykernel)",
   "language": "python",
   "name": "python3"
  },
  "language_info": {
   "codemirror_mode": {
    "name": "ipython",
    "version": 3
   },
   "file_extension": ".py",
   "mimetype": "text/x-python",
   "name": "python",
   "nbconvert_exporter": "python",
   "pygments_lexer": "ipython3",
   "version": "3.12.4"
  }
 },
 "nbformat": 4,
 "nbformat_minor": 5
}
