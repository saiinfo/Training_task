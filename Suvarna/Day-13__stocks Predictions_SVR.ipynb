{
 "cells": [
  {
   "cell_type": "code",
   "execution_count": 1,
   "id": "1e3f2ea4",
   "metadata": {},
   "outputs": [],
   "source": [
    "import pandas as pd\n",
    "import numpy as np\n",
    "import matplotlib.pyplot as plt"
   ]
  },
  {
   "cell_type": "code",
   "execution_count": 3,
   "id": "bf396c7f",
   "metadata": {},
   "outputs": [],
   "source": [
    "dataset=pd.read_csv('stonks/ADANIPORTS.csv')"
   ]
  },
  {
   "cell_type": "code",
   "execution_count": 4,
   "id": "d99d6f3b",
   "metadata": {},
   "outputs": [
    {
     "name": "stdout",
     "output_type": "stream",
     "text": [
      "<class 'pandas.core.frame.DataFrame'>\n",
      "RangeIndex: 2585 entries, 0 to 2584\n",
      "Data columns (total 13 columns):\n",
      " #   Column                     Non-Null Count  Dtype  \n",
      "---  ------                     --------------  -----  \n",
      " 0   Date                       2585 non-null   object \n",
      " 1   Open Price                 2585 non-null   float64\n",
      " 2   High Price                 2585 non-null   float64\n",
      " 3   Low Price                  2585 non-null   float64\n",
      " 4   Close Price                2585 non-null   float64\n",
      " 5   WAP                        2585 non-null   float64\n",
      " 6   No.of Shares               2585 non-null   int64  \n",
      " 7   No. of Trades              2585 non-null   int64  \n",
      " 8   Total Turnover (Rs.)       2585 non-null   float64\n",
      " 9   Deliverable Quantity       2584 non-null   float64\n",
      " 10  % Deli. Qty to Traded Qty  2584 non-null   float64\n",
      " 11  Spread High-Low            2585 non-null   float64\n",
      " 12  Spread Close-Open          2585 non-null   float64\n",
      "dtypes: float64(10), int64(2), object(1)\n",
      "memory usage: 262.7+ KB\n"
     ]
    },
    {
     "data": {
      "text/html": [
       "<div>\n",
       "<style scoped>\n",
       "    .dataframe tbody tr th:only-of-type {\n",
       "        vertical-align: middle;\n",
       "    }\n",
       "\n",
       "    .dataframe tbody tr th {\n",
       "        vertical-align: top;\n",
       "    }\n",
       "\n",
       "    .dataframe thead th {\n",
       "        text-align: right;\n",
       "    }\n",
       "</style>\n",
       "<table border=\"1\" class=\"dataframe\">\n",
       "  <thead>\n",
       "    <tr style=\"text-align: right;\">\n",
       "      <th></th>\n",
       "      <th>Date</th>\n",
       "      <th>Open Price</th>\n",
       "      <th>High Price</th>\n",
       "      <th>Low Price</th>\n",
       "      <th>Close Price</th>\n",
       "      <th>WAP</th>\n",
       "      <th>No.of Shares</th>\n",
       "      <th>No. of Trades</th>\n",
       "      <th>Total Turnover (Rs.)</th>\n",
       "      <th>Deliverable Quantity</th>\n",
       "      <th>% Deli. Qty to Traded Qty</th>\n",
       "      <th>Spread High-Low</th>\n",
       "      <th>Spread Close-Open</th>\n",
       "    </tr>\n",
       "  </thead>\n",
       "  <tbody>\n",
       "    <tr>\n",
       "      <th>0</th>\n",
       "      <td>9-June-2021</td>\n",
       "      <td>881.40</td>\n",
       "      <td>901.0</td>\n",
       "      <td>831.30</td>\n",
       "      <td>852.55</td>\n",
       "      <td>868.068924</td>\n",
       "      <td>1417148</td>\n",
       "      <td>31843</td>\n",
       "      <td>1.230182e+09</td>\n",
       "      <td>191869.0</td>\n",
       "      <td>13.54</td>\n",
       "      <td>69.70</td>\n",
       "      <td>-28.85</td>\n",
       "    </tr>\n",
       "    <tr>\n",
       "      <th>1</th>\n",
       "      <td>8-June-2021</td>\n",
       "      <td>887.65</td>\n",
       "      <td>887.7</td>\n",
       "      <td>859.25</td>\n",
       "      <td>874.05</td>\n",
       "      <td>875.465358</td>\n",
       "      <td>793172</td>\n",
       "      <td>16275</td>\n",
       "      <td>6.943946e+08</td>\n",
       "      <td>99676.0</td>\n",
       "      <td>12.57</td>\n",
       "      <td>28.45</td>\n",
       "      <td>-13.60</td>\n",
       "    </tr>\n",
       "    <tr>\n",
       "      <th>2</th>\n",
       "      <td>7-June-2021</td>\n",
       "      <td>838.00</td>\n",
       "      <td>898.8</td>\n",
       "      <td>836.00</td>\n",
       "      <td>878.50</td>\n",
       "      <td>877.215693</td>\n",
       "      <td>2122651</td>\n",
       "      <td>53035</td>\n",
       "      <td>1.862023e+09</td>\n",
       "      <td>467381.0</td>\n",
       "      <td>22.02</td>\n",
       "      <td>62.80</td>\n",
       "      <td>40.50</td>\n",
       "    </tr>\n",
       "    <tr>\n",
       "      <th>3</th>\n",
       "      <td>4-June-2021</td>\n",
       "      <td>831.90</td>\n",
       "      <td>842.0</td>\n",
       "      <td>823.00</td>\n",
       "      <td>834.05</td>\n",
       "      <td>832.978840</td>\n",
       "      <td>847609</td>\n",
       "      <td>20716</td>\n",
       "      <td>7.060404e+08</td>\n",
       "      <td>198139.0</td>\n",
       "      <td>23.38</td>\n",
       "      <td>19.00</td>\n",
       "      <td>2.15</td>\n",
       "    </tr>\n",
       "    <tr>\n",
       "      <th>4</th>\n",
       "      <td>3-June-2021</td>\n",
       "      <td>819.50</td>\n",
       "      <td>849.2</td>\n",
       "      <td>810.60</td>\n",
       "      <td>825.40</td>\n",
       "      <td>829.395433</td>\n",
       "      <td>1490283</td>\n",
       "      <td>35855</td>\n",
       "      <td>1.236034e+09</td>\n",
       "      <td>319627.0</td>\n",
       "      <td>21.45</td>\n",
       "      <td>38.60</td>\n",
       "      <td>5.90</td>\n",
       "    </tr>\n",
       "  </tbody>\n",
       "</table>\n",
       "</div>"
      ],
      "text/plain": [
       "          Date  Open Price  High Price  Low Price  Close Price         WAP  \\\n",
       "0  9-June-2021      881.40       901.0     831.30       852.55  868.068924   \n",
       "1  8-June-2021      887.65       887.7     859.25       874.05  875.465358   \n",
       "2  7-June-2021      838.00       898.8     836.00       878.50  877.215693   \n",
       "3  4-June-2021      831.90       842.0     823.00       834.05  832.978840   \n",
       "4  3-June-2021      819.50       849.2     810.60       825.40  829.395433   \n",
       "\n",
       "   No.of Shares  No. of Trades  Total Turnover (Rs.)  Deliverable Quantity  \\\n",
       "0       1417148          31843          1.230182e+09              191869.0   \n",
       "1        793172          16275          6.943946e+08               99676.0   \n",
       "2       2122651          53035          1.862023e+09              467381.0   \n",
       "3        847609          20716          7.060404e+08              198139.0   \n",
       "4       1490283          35855          1.236034e+09              319627.0   \n",
       "\n",
       "   % Deli. Qty to Traded Qty  Spread High-Low  Spread Close-Open  \n",
       "0                      13.54            69.70             -28.85  \n",
       "1                      12.57            28.45             -13.60  \n",
       "2                      22.02            62.80              40.50  \n",
       "3                      23.38            19.00               2.15  \n",
       "4                      21.45            38.60               5.90  "
      ]
     },
     "execution_count": 4,
     "metadata": {},
     "output_type": "execute_result"
    }
   ],
   "source": [
    "dataset.describe()\n",
    "\n",
    "dataset.info()\n",
    "\n",
    "dataset.isnull().count()\n",
    "\n",
    "dataset.head()"
   ]
  },
  {
   "cell_type": "code",
   "execution_count": 5,
   "id": "7ed753a8",
   "metadata": {},
   "outputs": [
    {
     "name": "stdout",
     "output_type": "stream",
     "text": [
      "                Date  Open Price  High Price  Low Price  Close Price  \\\n",
      "2580  7-January-2011      155.00      155.25     146.65       147.60   \n",
      "2581  6-January-2011      159.00      159.90     153.50       154.65   \n",
      "2582  5-January-2011      150.00      158.60     149.45       157.55   \n",
      "2583  4-January-2011      146.00      150.00     144.05       148.25   \n",
      "2584  3-January-2011      145.95      146.45     144.20       144.75   \n",
      "\n",
      "             WAP  No.of Shares  No. of Trades  Total Turnover (Rs.)  \\\n",
      "2580  150.254998        224053           3181            33665083.0   \n",
      "2581  157.003808        490608           5474            77027324.0   \n",
      "2582  154.834965       1103066          11207           170793186.0   \n",
      "2583  147.248980        196807           2016            28979630.0   \n",
      "2584  145.186425         85627           1098            12431878.0   \n",
      "\n",
      "      Deliverable Quantity  % Deli. Qty to Traded Qty  Spread High-Low  \\\n",
      "2580               69927.0                      31.21             8.60   \n",
      "2581               97503.0                      19.87             6.40   \n",
      "2582              327906.0                      29.73             9.15   \n",
      "2583               85782.0                      43.59             5.95   \n",
      "2584               39968.0                      46.68             2.25   \n",
      "\n",
      "      Spread Close-Open  \n",
      "2580              -7.40  \n",
      "2581              -4.35  \n",
      "2582               7.55  \n",
      "2583               2.25  \n",
      "2584              -1.20  \n"
     ]
    }
   ],
   "source": [
    "print(dataset.tail())"
   ]
  },
  {
   "cell_type": "code",
   "execution_count": 6,
   "id": "d49a0558",
   "metadata": {},
   "outputs": [
    {
     "data": {
      "text/html": [
       "<div>\n",
       "<style scoped>\n",
       "    .dataframe tbody tr th:only-of-type {\n",
       "        vertical-align: middle;\n",
       "    }\n",
       "\n",
       "    .dataframe tbody tr th {\n",
       "        vertical-align: top;\n",
       "    }\n",
       "\n",
       "    .dataframe thead th {\n",
       "        text-align: right;\n",
       "    }\n",
       "</style>\n",
       "<table border=\"1\" class=\"dataframe\">\n",
       "  <thead>\n",
       "    <tr style=\"text-align: right;\">\n",
       "      <th></th>\n",
       "      <th>Date</th>\n",
       "      <th>Open Price</th>\n",
       "      <th>High Price</th>\n",
       "      <th>Low Price</th>\n",
       "      <th>Close Price</th>\n",
       "      <th>WAP</th>\n",
       "      <th>No.of Shares</th>\n",
       "      <th>No. of Trades</th>\n",
       "      <th>Total Turnover (Rs.)</th>\n",
       "      <th>Deliverable Quantity</th>\n",
       "      <th>% Deli. Qty to Traded Qty</th>\n",
       "      <th>Spread High-Low</th>\n",
       "      <th>Spread Close-Open</th>\n",
       "    </tr>\n",
       "  </thead>\n",
       "  <tbody>\n",
       "    <tr>\n",
       "      <th>2522</th>\n",
       "      <td>1-April-2011</td>\n",
       "      <td>136.90</td>\n",
       "      <td>141.80</td>\n",
       "      <td>136.90</td>\n",
       "      <td>140.75</td>\n",
       "      <td>140.311708</td>\n",
       "      <td>386849</td>\n",
       "      <td>4563</td>\n",
       "      <td>54279444.0</td>\n",
       "      <td>187925.0</td>\n",
       "      <td>48.58</td>\n",
       "      <td>4.90</td>\n",
       "      <td>3.85</td>\n",
       "    </tr>\n",
       "    <tr>\n",
       "      <th>2024</th>\n",
       "      <td>1-April-2013</td>\n",
       "      <td>140.00</td>\n",
       "      <td>143.80</td>\n",
       "      <td>137.75</td>\n",
       "      <td>142.20</td>\n",
       "      <td>141.380375</td>\n",
       "      <td>122679</td>\n",
       "      <td>2005</td>\n",
       "      <td>17344403.0</td>\n",
       "      <td>16067.0</td>\n",
       "      <td>13.10</td>\n",
       "      <td>6.05</td>\n",
       "      <td>2.20</td>\n",
       "    </tr>\n",
       "    <tr>\n",
       "      <th>1773</th>\n",
       "      <td>1-April-2014</td>\n",
       "      <td>188.65</td>\n",
       "      <td>189.40</td>\n",
       "      <td>184.30</td>\n",
       "      <td>186.00</td>\n",
       "      <td>186.721126</td>\n",
       "      <td>158631</td>\n",
       "      <td>2951</td>\n",
       "      <td>29619759.0</td>\n",
       "      <td>43160.0</td>\n",
       "      <td>27.21</td>\n",
       "      <td>5.10</td>\n",
       "      <td>-2.65</td>\n",
       "    </tr>\n",
       "    <tr>\n",
       "      <th>1530</th>\n",
       "      <td>1-April-2015</td>\n",
       "      <td>308.70</td>\n",
       "      <td>311.50</td>\n",
       "      <td>306.25</td>\n",
       "      <td>310.70</td>\n",
       "      <td>309.297549</td>\n",
       "      <td>87552</td>\n",
       "      <td>2576</td>\n",
       "      <td>27079619.0</td>\n",
       "      <td>18682.0</td>\n",
       "      <td>21.34</td>\n",
       "      <td>5.25</td>\n",
       "      <td>2.00</td>\n",
       "    </tr>\n",
       "    <tr>\n",
       "      <th>1283</th>\n",
       "      <td>1-April-2016</td>\n",
       "      <td>247.50</td>\n",
       "      <td>247.50</td>\n",
       "      <td>239.80</td>\n",
       "      <td>242.75</td>\n",
       "      <td>243.300541</td>\n",
       "      <td>136687</td>\n",
       "      <td>2851</td>\n",
       "      <td>33256021.0</td>\n",
       "      <td>36936.0</td>\n",
       "      <td>27.02</td>\n",
       "      <td>7.70</td>\n",
       "      <td>-4.75</td>\n",
       "    </tr>\n",
       "    <tr>\n",
       "      <th>...</th>\n",
       "      <td>...</td>\n",
       "      <td>...</td>\n",
       "      <td>...</td>\n",
       "      <td>...</td>\n",
       "      <td>...</td>\n",
       "      <td>...</td>\n",
       "      <td>...</td>\n",
       "      <td>...</td>\n",
       "      <td>...</td>\n",
       "      <td>...</td>\n",
       "      <td>...</td>\n",
       "      <td>...</td>\n",
       "      <td>...</td>\n",
       "    </tr>\n",
       "    <tr>\n",
       "      <th>1666</th>\n",
       "      <td>9-September-2014</td>\n",
       "      <td>301.80</td>\n",
       "      <td>301.80</td>\n",
       "      <td>293.95</td>\n",
       "      <td>295.10</td>\n",
       "      <td>296.753273</td>\n",
       "      <td>300008</td>\n",
       "      <td>5676</td>\n",
       "      <td>89028356.0</td>\n",
       "      <td>79213.0</td>\n",
       "      <td>26.40</td>\n",
       "      <td>7.85</td>\n",
       "      <td>-6.70</td>\n",
       "    </tr>\n",
       "    <tr>\n",
       "      <th>1419</th>\n",
       "      <td>9-September-2015</td>\n",
       "      <td>322.20</td>\n",
       "      <td>327.45</td>\n",
       "      <td>320.50</td>\n",
       "      <td>323.95</td>\n",
       "      <td>324.191741</td>\n",
       "      <td>172519</td>\n",
       "      <td>3379</td>\n",
       "      <td>55929235.0</td>\n",
       "      <td>39486.0</td>\n",
       "      <td>22.89</td>\n",
       "      <td>6.95</td>\n",
       "      <td>1.75</td>\n",
       "    </tr>\n",
       "    <tr>\n",
       "      <th>1174</th>\n",
       "      <td>9-September-2016</td>\n",
       "      <td>275.00</td>\n",
       "      <td>275.50</td>\n",
       "      <td>270.15</td>\n",
       "      <td>271.45</td>\n",
       "      <td>272.652845</td>\n",
       "      <td>445216</td>\n",
       "      <td>3558</td>\n",
       "      <td>121389409.0</td>\n",
       "      <td>45204.0</td>\n",
       "      <td>10.15</td>\n",
       "      <td>5.35</td>\n",
       "      <td>-3.55</td>\n",
       "    </tr>\n",
       "    <tr>\n",
       "      <th>434</th>\n",
       "      <td>9-September-2019</td>\n",
       "      <td>366.00</td>\n",
       "      <td>371.70</td>\n",
       "      <td>363.95</td>\n",
       "      <td>369.60</td>\n",
       "      <td>368.091783</td>\n",
       "      <td>78261</td>\n",
       "      <td>2577</td>\n",
       "      <td>28807231.0</td>\n",
       "      <td>19443.0</td>\n",
       "      <td>24.84</td>\n",
       "      <td>7.75</td>\n",
       "      <td>3.60</td>\n",
       "    </tr>\n",
       "    <tr>\n",
       "      <th>185</th>\n",
       "      <td>9-September-2020</td>\n",
       "      <td>345.60</td>\n",
       "      <td>346.25</td>\n",
       "      <td>335.45</td>\n",
       "      <td>344.10</td>\n",
       "      <td>341.113467</td>\n",
       "      <td>86501</td>\n",
       "      <td>1595</td>\n",
       "      <td>29506656.0</td>\n",
       "      <td>9255.0</td>\n",
       "      <td>10.70</td>\n",
       "      <td>10.80</td>\n",
       "      <td>-1.50</td>\n",
       "    </tr>\n",
       "  </tbody>\n",
       "</table>\n",
       "<p>2585 rows × 13 columns</p>\n",
       "</div>"
      ],
      "text/plain": [
       "                  Date  Open Price  High Price  Low Price  Close Price  \\\n",
       "2522      1-April-2011      136.90      141.80     136.90       140.75   \n",
       "2024      1-April-2013      140.00      143.80     137.75       142.20   \n",
       "1773      1-April-2014      188.65      189.40     184.30       186.00   \n",
       "1530      1-April-2015      308.70      311.50     306.25       310.70   \n",
       "1283      1-April-2016      247.50      247.50     239.80       242.75   \n",
       "...                ...         ...         ...        ...          ...   \n",
       "1666  9-September-2014      301.80      301.80     293.95       295.10   \n",
       "1419  9-September-2015      322.20      327.45     320.50       323.95   \n",
       "1174  9-September-2016      275.00      275.50     270.15       271.45   \n",
       "434   9-September-2019      366.00      371.70     363.95       369.60   \n",
       "185   9-September-2020      345.60      346.25     335.45       344.10   \n",
       "\n",
       "             WAP  No.of Shares  No. of Trades  Total Turnover (Rs.)  \\\n",
       "2522  140.311708        386849           4563            54279444.0   \n",
       "2024  141.380375        122679           2005            17344403.0   \n",
       "1773  186.721126        158631           2951            29619759.0   \n",
       "1530  309.297549         87552           2576            27079619.0   \n",
       "1283  243.300541        136687           2851            33256021.0   \n",
       "...          ...           ...            ...                   ...   \n",
       "1666  296.753273        300008           5676            89028356.0   \n",
       "1419  324.191741        172519           3379            55929235.0   \n",
       "1174  272.652845        445216           3558           121389409.0   \n",
       "434   368.091783         78261           2577            28807231.0   \n",
       "185   341.113467         86501           1595            29506656.0   \n",
       "\n",
       "      Deliverable Quantity  % Deli. Qty to Traded Qty  Spread High-Low  \\\n",
       "2522              187925.0                      48.58             4.90   \n",
       "2024               16067.0                      13.10             6.05   \n",
       "1773               43160.0                      27.21             5.10   \n",
       "1530               18682.0                      21.34             5.25   \n",
       "1283               36936.0                      27.02             7.70   \n",
       "...                    ...                        ...              ...   \n",
       "1666               79213.0                      26.40             7.85   \n",
       "1419               39486.0                      22.89             6.95   \n",
       "1174               45204.0                      10.15             5.35   \n",
       "434                19443.0                      24.84             7.75   \n",
       "185                 9255.0                      10.70            10.80   \n",
       "\n",
       "      Spread Close-Open  \n",
       "2522               3.85  \n",
       "2024               2.20  \n",
       "1773              -2.65  \n",
       "1530               2.00  \n",
       "1283              -4.75  \n",
       "...                 ...  \n",
       "1666              -6.70  \n",
       "1419               1.75  \n",
       "1174              -3.55  \n",
       "434                3.60  \n",
       "185               -1.50  \n",
       "\n",
       "[2585 rows x 13 columns]"
      ]
     },
     "execution_count": 6,
     "metadata": {},
     "output_type": "execute_result"
    }
   ],
   "source": [
    "dataset.sort_values(by=['Date'])"
   ]
  },
  {
   "cell_type": "code",
   "execution_count": 7,
   "id": "cf92b221",
   "metadata": {},
   "outputs": [
    {
     "name": "stdout",
     "output_type": "stream",
     "text": [
      "          Date  Open Price  High Price  Low Price  Close Price         WAP  \\\n",
      "0  9-June-2021      881.40       901.0     831.30       852.55  868.068924   \n",
      "1  8-June-2021      887.65       887.7     859.25       874.05  875.465358   \n",
      "2  7-June-2021      838.00       898.8     836.00       878.50  877.215693   \n",
      "3  4-June-2021      831.90       842.0     823.00       834.05  832.978840   \n",
      "4  3-June-2021      819.50       849.2     810.60       825.40  829.395433   \n",
      "\n",
      "   No.of Shares  No. of Trades  Total Turnover (Rs.)  Deliverable Quantity  \\\n",
      "0       1417148          31843          1.230182e+09              191869.0   \n",
      "1        793172          16275          6.943946e+08               99676.0   \n",
      "2       2122651          53035          1.862023e+09              467381.0   \n",
      "3        847609          20716          7.060404e+08              198139.0   \n",
      "4       1490283          35855          1.236034e+09              319627.0   \n",
      "\n",
      "   % Deli. Qty to Traded Qty  Spread High-Low  Spread Close-Open  \n",
      "0                      13.54            69.70             -28.85  \n",
      "1                      12.57            28.45             -13.60  \n",
      "2                      22.02            62.80              40.50  \n",
      "3                      23.38            19.00               2.15  \n",
      "4                      21.45            38.60               5.90  \n"
     ]
    }
   ],
   "source": [
    "print(dataset.head())"
   ]
  },
  {
   "cell_type": "code",
   "execution_count": 8,
   "id": "881a618c",
   "metadata": {},
   "outputs": [
    {
     "data": {
      "text/plain": [
       "<AxesSubplot:>"
      ]
     },
     "execution_count": 8,
     "metadata": {},
     "output_type": "execute_result"
    },
    {
     "data": {
      "image/png": "[encoded data removed]",
      "text/plain": [
       "<Figure size 432x288 with 1 Axes>"
      ]
     },
     "metadata": {
      "needs_background": "light"
     },
     "output_type": "display_data"
    }
   ],
   "source": [
    "plt.gca().invert_xaxis()\n",
    "dataset['Close Price'].plot()"
   ]
  },
  {
   "cell_type": "code",
   "execution_count": 9,
   "id": "8f6976e9",
   "metadata": {},
   "outputs": [],
   "source": [
    "X=dataset.reindex(columns=['Open Price','High Price','Low Price']).values\n",
    "y=dataset.reindex(columns=['Close Price']).values"
   ]
  },
  {
   "cell_type": "code",
   "execution_count": 10,
   "id": "0d06d8ee",
   "metadata": {},
   "outputs": [
    {
     "name": "stdout",
     "output_type": "stream",
     "text": [
      "[[881.4  901.   831.3 ]\n",
      " [887.65 887.7  859.25]\n",
      " [838.   898.8  836.  ]\n",
      " ...\n",
      " [150.   158.6  149.45]\n",
      " [146.   150.   144.05]\n",
      " [145.95 146.45 144.2 ]] [[852.55]\n",
      " [874.05]\n",
      " [878.5 ]\n",
      " ...\n",
      " [157.55]\n",
      " [148.25]\n",
      " [144.75]]\n"
     ]
    }
   ],
   "source": [
    "print(X,y)"
   ]
  },
  {
   "cell_type": "code",
   "execution_count": 11,
   "id": "2462bdc1",
   "metadata": {},
   "outputs": [],
   "source": [
    "from sklearn.model_selection import train_test_split\n",
    "X_train, X_test, y_train, y_test = train_test_split(X, y, test_size = 0.2, random_state = 0)"
   ]
  },
  {
   "cell_type": "code",
   "execution_count": 12,
   "id": "36b10d27",
   "metadata": {},
   "outputs": [],
   "source": [
    "from sklearn.preprocessing import StandardScaler\n",
    "sc = StandardScaler()\n",
    "X_train = sc.fit_transform(X_train)\n",
    "X_test = sc.transform(X_test)"
   ]
  },
  {
   "cell_type": "code",
   "execution_count": 13,
   "id": "9cdcb061",
   "metadata": {},
   "outputs": [
    {
     "name": "stderr",
     "output_type": "stream",
     "text": [
      "C:\\Users\\shubh\\anaconda3\\lib\\site-packages\\sklearn\\utils\\validation.py:63: DataConversionWarning: A column-vector y was passed when a 1d array was expected. Please change the shape of y to (n_samples, ), for example using ravel().\n",
      "  return f(*args, **kwargs)\n"
     ]
    },
    {
     "data": {
      "text/plain": [
       "SVR()"
      ]
     },
     "execution_count": 13,
     "metadata": {},
     "output_type": "execute_result"
    }
   ],
   "source": [
    "from sklearn.svm import SVR\n",
    "regressor = SVR(kernel = 'rbf')\n",
    "regressor.fit(X_train, y_train)"
   ]
  },
  {
   "cell_type": "code",
   "execution_count": 14,
   "id": "7f89f6a5",
   "metadata": {},
   "outputs": [
    {
     "name": "stdout",
     "output_type": "stream",
     "text": [
      "0.739873093427021\n"
     ]
    }
   ],
   "source": [
    "y_pred=regressor.predict(X_test)\n",
    "from sklearn.metrics import r2_score\n",
    "\n",
    "print(r2_score(y_test,y_pred))"
   ]
  },
  {
   "cell_type": "code",
   "execution_count": 15,
   "id": "75c4e4cb",
   "metadata": {},
   "outputs": [],
   "source": [
    "res=np.concatenate((y_pred.reshape(len(y_pred),1), y_test.reshape(len(y_test),1)),1)"
   ]
  },
  {
   "cell_type": "code",
   "execution_count": 19,
   "id": "8009d89e",
   "metadata": {},
   "outputs": [
    {
     "data": {
      "image/png": "[encoded data removed]",
      "text/plain": [
       "<Figure size 432x288 with 1 Axes>"
      ]
     },
     "metadata": {
      "needs_background": "light"
     },
     "output_type": "display_data"
    }
   ],
   "source": [
    "plt.plot(y_test, color='r')\n",
    "plt.plot(y_pred, color='b')\n",
    "plt.show()"
   ]
  },
  {
   "cell_type": "code",
   "execution_count": null,
   "id": "094ce9a6",
   "metadata": {},
   "outputs": [],
   "source": []
  }
 ],
 "metadata": {
  "kernelspec": {
   "display_name": "Python 3",
   "language": "python",
   "name": "python3"
  },
  "language_info": {
   "codemirror_mode": {
    "name": "ipython",
    "version": 3
   },
   "file_extension": ".py",
   "mimetype": "text/x-python",
   "name": "python",
   "nbconvert_exporter": "python",
   "pygments_lexer": "ipython3",
   "version": "3.8.3"
  }
 },
 "nbformat": 4,
 "nbformat_minor": 5
}
