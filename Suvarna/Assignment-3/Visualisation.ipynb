{
 "cells": [
  {
   "cell_type": "code",
   "execution_count": 1,
   "metadata": {},
   "outputs": [
    {
     "data": {
      "image/png": "[encoded data removed]",
      "text/plain": [
       "<Figure size 575x177 with 1 Axes>"
      ]
     },
     "metadata": {},
     "output_type": "display_data"
    }
   ],
   "source": [
    "# 1. Import necessary libraries\n",
    "import tkinter as tk  # tkinter for GUI\n",
    "from tkinter import ttk  # ttk for themed widgets\n",
    "import matplotlib.pyplot as plt  # matplotlib for plotting\n",
    "from matplotlib.backends.backend_tkagg import FigureCanvasTkAgg  # TkAgg backend for embedding plots in tkinter\n",
    "\n",
    "class DataVisualizationApp:  # Class for the data visualization application\n",
    "    def __init__(self, root):  # Constructor method\n",
    "        self.root = root  # Root window\n",
    "        self.root.title(\"Data Visualization App\")  # Set title of the window\n",
    "        self.table_data = []  # List to store data\n",
    "\n",
    "        # Frame for the table\n",
    "        self.table_frame = ttk.Frame(root)\n",
    "        self.table_frame.pack(pady=10)\n",
    "\n",
    "        # Treeview widget for displaying data in a table format\n",
    "        self.table = ttk.Treeview(self.table_frame, columns=(\"X\", \"Y\"))\n",
    "        self.table.column(\"#0\", width=0, stretch=tk.NO)\n",
    "        self.table.column(\"X\", anchor=tk.CENTER, width=100)\n",
    "        self.table.column(\"Y\", anchor=tk.CENTER, width=100)\n",
    "        self.table.heading(\"#0\", text=\"\", anchor=tk.CENTER)\n",
    "        self.table.heading(\"X\", text=\"X\", anchor=tk.CENTER)\n",
    "        self.table.heading(\"Y\", text=\"Y\", anchor=tk.CENTER)\n",
    "        self.table.pack()\n",
    "\n",
    "        # Entry fields for user input\n",
    "        self.x_entry = ttk.Entry(root)\n",
    "        self.x_entry.pack()\n",
    "        self.y_entry = ttk.Entry(root)\n",
    "        self.y_entry.pack()\n",
    "\n",
    "        # Buttons for adding data and plotting\n",
    "        self.add_button = ttk.Button(root, text=\"Add Data\", command=self.add_data)\n",
    "        self.add_button.pack()\n",
    "        self.plot_button = ttk.Button(root, text=\"Plot Data\", command=self.plot_graph)\n",
    "        self.plot_button.pack()\n",
    "\n",
    "        # Matplotlib figure and canvas for plotting\n",
    "        self.fig, self.ax = plt.subplots()\n",
    "        self.canvas = FigureCanvasTkAgg(self.fig, master=root)\n",
    "        self.canvas.get_tk_widget().pack()\n",
    "\n",
    "    def add_data(self):  # Method to add data to the table\n",
    "        x = float(self.x_entry.get())  # Get X value from entry field\n",
    "        y = float(self.y_entry.get())  # Get Y value from entry field\n",
    "        self.table_data.append((x, y))  # Append data to the list\n",
    "        self.table.insert(\"\", tk.END, values=(x, y))  # Insert data into the table\n",
    "        self.x_entry.delete(0, tk.END)  # Clear X entry field\n",
    "        self.y_entry.delete(0, tk.END)  # Clear Y entry field\n",
    "\n",
    "    def plot_graph(self):  # Method to plot the graph\n",
    "        if self.table_data:  # Check if data exists\n",
    "            self.ax.clear()  # Clear previous plot\n",
    "            x_values = [data[0] for data in self.table_data]  # Extract X values\n",
    "            y_values = [data[1] for data in self.table_data]  # Extract Y values\n",
    "            self.ax.plot(x_values, y_values, marker='o')  # Plot data\n",
    "            self.ax.set_xlabel(\"X\")  # Set X-axis label\n",
    "            self.ax.set_ylabel(\"Y\")  # Set Y-axis label\n",
    "            self.ax.set_title(\"Data Visualization\")  # Set plot title\n",
    "            self.canvas.draw()  # Update canvas with new plot\n",
    "\n",
    "if __name__ == \"__main__\":  # Entry point of the program\n",
    "    root = tk.Tk()  # Create tkinter root window\n",
    "    app = DataVisualizationApp(root)  # Create instance of DataVisualizationApp\n",
    "    root.mainloop()  # Start tkinter event loop\n"
   ]
  }
 ],
 "metadata": {
  "kernelspec": {
   "display_name": "Python 3",
   "language": "python",
   "name": "python3"
  },
  "language_info": {
   "codemirror_mode": {
    "name": "ipython",
    "version": 3
   },
   "file_extension": ".py",
   "mimetype": "text/x-python",
   "name": "python",
   "nbconvert_exporter": "python",
   "pygments_lexer": "ipython3",
   "version": "3.11.8"
  }
 },
 "nbformat": 4,
 "nbformat_minor": 2
}
