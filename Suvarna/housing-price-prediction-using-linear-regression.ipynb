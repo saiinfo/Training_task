{
 "cells": [
  {
   "cell_type": "code",
   "execution_count": 1,
   "id": "3db42122",
   "metadata": {
    "_cell_guid": "b1076dfc-b9ad-4769-8c92-a6c4dae69d19",
    "_uuid": "8f2839f25d086af736a60e9eeb907d3b93b6e0e5",
    "execution": {
     "iopub.execute_input": "2024-02-23T23:33:08.835231Z",
     "iopub.status.busy": "2024-02-23T23:33:08.834784Z",
     "iopub.status.idle": "2024-02-23T23:33:10.739593Z",
     "shell.execute_reply": "2024-02-23T23:33:10.738386Z"
    },
    "papermill": {
     "duration": 1.929724,
     "end_time": "2024-02-23T23:33:10.741960",
     "exception": false,
     "start_time": "2024-02-23T23:33:08.812236",
     "status": "completed"
    },
    "tags": []
   },
   "outputs": [],
   "source": [
    "import numpy as np \n",
    "import pandas as pd \n",
    "import matplotlib.pyplot as plt\n",
    "from sklearn.model_selection import train_test_split\n",
    "from sklearn.preprocessing import MinMaxScaler\n",
    "from sklearn.linear_model import LinearRegression\n",
    "from sklearn.metrics import r2_score\n",
    "\n",
    "\n",
    "import os\n",
    "for dirname, _, filenames in os.walk('/kaggle/input'):\n",
    "    for filename in filenames:\n",
    "        print(os.path.join(dirname, filename))"
   ]
  },
  {
   "cell_type": "markdown",
   "id": "431f1700",
   "metadata": {
    "papermill": {
     "duration": 0.018342,
     "end_time": "2024-02-23T23:33:10.778831",
     "exception": false,
     "start_time": "2024-02-23T23:33:10.760489",
     "status": "completed"
    },
    "tags": []
   },
   "source": [
    "# Predicting House Prices using EDA and Linear Regression Model"
   ]
  },
  {
   "cell_type": "markdown",
   "id": "a5fe516a",
   "metadata": {
    "papermill": {
     "duration": 0.018208,
     "end_time": "2024-02-23T23:33:10.814380",
     "exception": false,
     "start_time": "2024-02-23T23:33:10.796172",
     "status": "completed"
    },
    "tags": []
   },
   "source": [
    "**Importing Dataset**"
   ]
  },
  {
   "cell_type": "code",
   "execution_count": 2,
   "id": "83239b83",
   "metadata": {
    "execution": {
     "iopub.execute_input": "2024-02-23T23:33:10.852009Z",
     "iopub.status.busy": "2024-02-23T23:33:10.851225Z",
     "iopub.status.idle": "2024-02-23T23:33:10.882352Z",
     "shell.execute_reply": "2024-02-23T23:33:10.881554Z"
    },
    "papermill": {
     "duration": 0.052742,
     "end_time": "2024-02-23T23:33:10.884533",
     "exception": false,
     "start_time": "2024-02-23T23:33:10.831791",
     "status": "completed"
    },
    "tags": []
   },
   "outputs": [
    {
     "data": {
      "text/html": [
       "<div>\n",
       "<style scoped>\n",
       "    .dataframe tbody tr th:only-of-type {\n",
       "        vertical-align: middle;\n",
       "    }\n",
       "\n",
       "    .dataframe tbody tr th {\n",
       "        vertical-align: top;\n",
       "    }\n",
       "\n",
       "    .dataframe thead th {\n",
       "        text-align: right;\n",
       "    }\n",
       "</style>\n",
       "<table border=\"1\" class=\"dataframe\">\n",
       "  <thead>\n",
       "    <tr style=\"text-align: right;\">\n",
       "      <th></th>\n",
       "      <th>price</th>\n",
       "      <th>area</th>\n",
       "      <th>bedrooms</th>\n",
       "      <th>bathrooms</th>\n",
       "      <th>stories</th>\n",
       "      <th>mainroad</th>\n",
       "      <th>guestroom</th>\n",
       "      <th>basement</th>\n",
       "      <th>hotwaterheating</th>\n",
       "      <th>airconditioning</th>\n",
       "      <th>parking</th>\n",
       "      <th>prefarea</th>\n",
       "      <th>furnishingstatus</th>\n",
       "    </tr>\n",
       "  </thead>\n",
       "  <tbody>\n",
       "    <tr>\n",
       "      <th>0</th>\n",
       "      <td>13300000</td>\n",
       "      <td>7420</td>\n",
       "      <td>4</td>\n",
       "      <td>2</td>\n",
       "      <td>3</td>\n",
       "      <td>yes</td>\n",
       "      <td>no</td>\n",
       "      <td>no</td>\n",
       "      <td>no</td>\n",
       "      <td>yes</td>\n",
       "      <td>2</td>\n",
       "      <td>yes</td>\n",
       "      <td>furnished</td>\n",
       "    </tr>\n",
       "    <tr>\n",
       "      <th>1</th>\n",
       "      <td>12250000</td>\n",
       "      <td>8960</td>\n",
       "      <td>4</td>\n",
       "      <td>4</td>\n",
       "      <td>4</td>\n",
       "      <td>yes</td>\n",
       "      <td>no</td>\n",
       "      <td>no</td>\n",
       "      <td>no</td>\n",
       "      <td>yes</td>\n",
       "      <td>3</td>\n",
       "      <td>no</td>\n",
       "      <td>furnished</td>\n",
       "    </tr>\n",
       "    <tr>\n",
       "      <th>2</th>\n",
       "      <td>12250000</td>\n",
       "      <td>9960</td>\n",
       "      <td>3</td>\n",
       "      <td>2</td>\n",
       "      <td>2</td>\n",
       "      <td>yes</td>\n",
       "      <td>no</td>\n",
       "      <td>yes</td>\n",
       "      <td>no</td>\n",
       "      <td>no</td>\n",
       "      <td>2</td>\n",
       "      <td>yes</td>\n",
       "      <td>semi-furnished</td>\n",
       "    </tr>\n",
       "    <tr>\n",
       "      <th>3</th>\n",
       "      <td>12215000</td>\n",
       "      <td>7500</td>\n",
       "      <td>4</td>\n",
       "      <td>2</td>\n",
       "      <td>2</td>\n",
       "      <td>yes</td>\n",
       "      <td>no</td>\n",
       "      <td>yes</td>\n",
       "      <td>no</td>\n",
       "      <td>yes</td>\n",
       "      <td>3</td>\n",
       "      <td>yes</td>\n",
       "      <td>furnished</td>\n",
       "    </tr>\n",
       "    <tr>\n",
       "      <th>4</th>\n",
       "      <td>11410000</td>\n",
       "      <td>7420</td>\n",
       "      <td>4</td>\n",
       "      <td>1</td>\n",
       "      <td>2</td>\n",
       "      <td>yes</td>\n",
       "      <td>yes</td>\n",
       "      <td>yes</td>\n",
       "      <td>no</td>\n",
       "      <td>yes</td>\n",
       "      <td>2</td>\n",
       "      <td>no</td>\n",
       "      <td>furnished</td>\n",
       "    </tr>\n",
       "  </tbody>\n",
       "</table>\n",
       "</div>"
      ],
      "text/plain": [
       "      price  area  bedrooms  bathrooms  stories mainroad guestroom basement  \\\n",
       "0  13300000  7420         4          2        3      yes        no       no   \n",
       "1  12250000  8960         4          4        4      yes        no       no   \n",
       "2  12250000  9960         3          2        2      yes        no      yes   \n",
       "3  12215000  7500         4          2        2      yes        no      yes   \n",
       "4  11410000  7420         4          1        2      yes       yes      yes   \n",
       "\n",
       "  hotwaterheating airconditioning  parking prefarea furnishingstatus  \n",
       "0              no             yes        2      yes        furnished  \n",
       "1              no             yes        3       no        furnished  \n",
       "2              no              no        2      yes   semi-furnished  \n",
       "3              no             yes        3      yes        furnished  \n",
       "4              no             yes        2       no        furnished  "
      ]
     },
     "execution_count": 2,
     "metadata": {},
     "output_type": "execute_result"
    }
   ],
   "source": [
    "house_price = pd.read_csv('/kaggle/input/housing-prices-dataset/Housing.csv')\n",
    "house_price.head()"
   ]
  },
  {
   "cell_type": "code",
   "execution_count": 3,
   "id": "87277cf5",
   "metadata": {
    "execution": {
     "iopub.execute_input": "2024-02-23T23:33:10.925072Z",
     "iopub.status.busy": "2024-02-23T23:33:10.924001Z",
     "iopub.status.idle": "2024-02-23T23:33:10.939036Z",
     "shell.execute_reply": "2024-02-23T23:33:10.937915Z"
    },
    "papermill": {
     "duration": 0.037352,
     "end_time": "2024-02-23T23:33:10.941273",
     "exception": false,
     "start_time": "2024-02-23T23:33:10.903921",
     "status": "completed"
    },
    "tags": []
   },
   "outputs": [
    {
     "data": {
      "text/html": [
       "<div>\n",
       "<style scoped>\n",
       "    .dataframe tbody tr th:only-of-type {\n",
       "        vertical-align: middle;\n",
       "    }\n",
       "\n",
       "    .dataframe tbody tr th {\n",
       "        vertical-align: top;\n",
       "    }\n",
       "\n",
       "    .dataframe thead th {\n",
       "        text-align: right;\n",
       "    }\n",
       "</style>\n",
       "<table border=\"1\" class=\"dataframe\">\n",
       "  <thead>\n",
       "    <tr style=\"text-align: right;\">\n",
       "      <th></th>\n",
       "      <th>price</th>\n",
       "      <th>area</th>\n",
       "      <th>bedrooms</th>\n",
       "      <th>bathrooms</th>\n",
       "      <th>stories</th>\n",
       "      <th>mainroad</th>\n",
       "      <th>guestroom</th>\n",
       "      <th>basement</th>\n",
       "      <th>hotwaterheating</th>\n",
       "      <th>airconditioning</th>\n",
       "      <th>parking</th>\n",
       "      <th>prefarea</th>\n",
       "      <th>furnishingstatus</th>\n",
       "    </tr>\n",
       "  </thead>\n",
       "  <tbody>\n",
       "    <tr>\n",
       "      <th>540</th>\n",
       "      <td>1820000</td>\n",
       "      <td>3000</td>\n",
       "      <td>2</td>\n",
       "      <td>1</td>\n",
       "      <td>1</td>\n",
       "      <td>yes</td>\n",
       "      <td>no</td>\n",
       "      <td>yes</td>\n",
       "      <td>no</td>\n",
       "      <td>no</td>\n",
       "      <td>2</td>\n",
       "      <td>no</td>\n",
       "      <td>unfurnished</td>\n",
       "    </tr>\n",
       "    <tr>\n",
       "      <th>541</th>\n",
       "      <td>1767150</td>\n",
       "      <td>2400</td>\n",
       "      <td>3</td>\n",
       "      <td>1</td>\n",
       "      <td>1</td>\n",
       "      <td>no</td>\n",
       "      <td>no</td>\n",
       "      <td>no</td>\n",
       "      <td>no</td>\n",
       "      <td>no</td>\n",
       "      <td>0</td>\n",
       "      <td>no</td>\n",
       "      <td>semi-furnished</td>\n",
       "    </tr>\n",
       "    <tr>\n",
       "      <th>542</th>\n",
       "      <td>1750000</td>\n",
       "      <td>3620</td>\n",
       "      <td>2</td>\n",
       "      <td>1</td>\n",
       "      <td>1</td>\n",
       "      <td>yes</td>\n",
       "      <td>no</td>\n",
       "      <td>no</td>\n",
       "      <td>no</td>\n",
       "      <td>no</td>\n",
       "      <td>0</td>\n",
       "      <td>no</td>\n",
       "      <td>unfurnished</td>\n",
       "    </tr>\n",
       "    <tr>\n",
       "      <th>543</th>\n",
       "      <td>1750000</td>\n",
       "      <td>2910</td>\n",
       "      <td>3</td>\n",
       "      <td>1</td>\n",
       "      <td>1</td>\n",
       "      <td>no</td>\n",
       "      <td>no</td>\n",
       "      <td>no</td>\n",
       "      <td>no</td>\n",
       "      <td>no</td>\n",
       "      <td>0</td>\n",
       "      <td>no</td>\n",
       "      <td>furnished</td>\n",
       "    </tr>\n",
       "    <tr>\n",
       "      <th>544</th>\n",
       "      <td>1750000</td>\n",
       "      <td>3850</td>\n",
       "      <td>3</td>\n",
       "      <td>1</td>\n",
       "      <td>2</td>\n",
       "      <td>yes</td>\n",
       "      <td>no</td>\n",
       "      <td>no</td>\n",
       "      <td>no</td>\n",
       "      <td>no</td>\n",
       "      <td>0</td>\n",
       "      <td>no</td>\n",
       "      <td>unfurnished</td>\n",
       "    </tr>\n",
       "  </tbody>\n",
       "</table>\n",
       "</div>"
      ],
      "text/plain": [
       "       price  area  bedrooms  bathrooms  stories mainroad guestroom basement  \\\n",
       "540  1820000  3000         2          1        1      yes        no      yes   \n",
       "541  1767150  2400         3          1        1       no        no       no   \n",
       "542  1750000  3620         2          1        1      yes        no       no   \n",
       "543  1750000  2910         3          1        1       no        no       no   \n",
       "544  1750000  3850         3          1        2      yes        no       no   \n",
       "\n",
       "    hotwaterheating airconditioning  parking prefarea furnishingstatus  \n",
       "540              no              no        2       no      unfurnished  \n",
       "541              no              no        0       no   semi-furnished  \n",
       "542              no              no        0       no      unfurnished  \n",
       "543              no              no        0       no        furnished  \n",
       "544              no              no        0       no      unfurnished  "
      ]
     },
     "execution_count": 3,
     "metadata": {},
     "output_type": "execute_result"
    }
   ],
   "source": [
    "house_price.tail()"
   ]
  },
  {
   "cell_type": "markdown",
   "id": "ba698bc4",
   "metadata": {
    "papermill": {
     "duration": 0.018474,
     "end_time": "2024-02-23T23:33:10.978824",
     "exception": false,
     "start_time": "2024-02-23T23:33:10.960350",
     "status": "completed"
    },
    "tags": []
   },
   "source": [
    "# Understanding the Data"
   ]
  },
  {
   "cell_type": "code",
   "execution_count": 4,
   "id": "b9cbea1d",
   "metadata": {
    "execution": {
     "iopub.execute_input": "2024-02-23T23:33:11.017551Z",
     "iopub.status.busy": "2024-02-23T23:33:11.017179Z",
     "iopub.status.idle": "2024-02-23T23:33:11.022459Z",
     "shell.execute_reply": "2024-02-23T23:33:11.021191Z"
    },
    "papermill": {
     "duration": 0.027074,
     "end_time": "2024-02-23T23:33:11.024480",
     "exception": false,
     "start_time": "2024-02-23T23:33:10.997406",
     "status": "completed"
    },
    "tags": []
   },
   "outputs": [
    {
     "name": "stdout",
     "output_type": "stream",
     "text": [
      "Rows and columns of the Dataset :  (545, 13)\n"
     ]
    }
   ],
   "source": [
    "print('Rows and columns of the Dataset : ', house_price.shape)"
   ]
  },
  {
   "cell_type": "markdown",
   "id": "a4e1b567",
   "metadata": {
    "papermill": {
     "duration": 0.018413,
     "end_time": "2024-02-23T23:33:11.061745",
     "exception": false,
     "start_time": "2024-02-23T23:33:11.043332",
     "status": "completed"
    },
    "tags": []
   },
   "source": [
    "**Getting some information**"
   ]
  },
  {
   "cell_type": "code",
   "execution_count": 5,
   "id": "d4c0bd03",
   "metadata": {
    "execution": {
     "iopub.execute_input": "2024-02-23T23:33:11.101127Z",
     "iopub.status.busy": "2024-02-23T23:33:11.100748Z",
     "iopub.status.idle": "2024-02-23T23:33:11.126909Z",
     "shell.execute_reply": "2024-02-23T23:33:11.125541Z"
    },
    "papermill": {
     "duration": 0.049159,
     "end_time": "2024-02-23T23:33:11.129275",
     "exception": false,
     "start_time": "2024-02-23T23:33:11.080116",
     "status": "completed"
    },
    "tags": []
   },
   "outputs": [
    {
     "name": "stdout",
     "output_type": "stream",
     "text": [
      "<class 'pandas.core.frame.DataFrame'>\n",
      "RangeIndex: 545 entries, 0 to 544\n",
      "Data columns (total 13 columns):\n",
      " #   Column            Non-Null Count  Dtype \n",
      "---  ------            --------------  ----- \n",
      " 0   price             545 non-null    int64 \n",
      " 1   area              545 non-null    int64 \n",
      " 2   bedrooms          545 non-null    int64 \n",
      " 3   bathrooms         545 non-null    int64 \n",
      " 4   stories           545 non-null    int64 \n",
      " 5   mainroad          545 non-null    object\n",
      " 6   guestroom         545 non-null    object\n",
      " 7   basement          545 non-null    object\n",
      " 8   hotwaterheating   545 non-null    object\n",
      " 9   airconditioning   545 non-null    object\n",
      " 10  parking           545 non-null    int64 \n",
      " 11  prefarea          545 non-null    object\n",
      " 12  furnishingstatus  545 non-null    object\n",
      "dtypes: int64(6), object(7)\n",
      "memory usage: 55.5+ KB\n"
     ]
    }
   ],
   "source": [
    "house_price.info()"
   ]
  },
  {
   "cell_type": "code",
   "execution_count": 6,
   "id": "59fc4dab",
   "metadata": {
    "execution": {
     "iopub.execute_input": "2024-02-23T23:33:11.169853Z",
     "iopub.status.busy": "2024-02-23T23:33:11.169428Z",
     "iopub.status.idle": "2024-02-23T23:33:11.175508Z",
     "shell.execute_reply": "2024-02-23T23:33:11.174803Z"
    },
    "papermill": {
     "duration": 0.02942,
     "end_time": "2024-02-23T23:33:11.177508",
     "exception": false,
     "start_time": "2024-02-23T23:33:11.148088",
     "status": "completed"
    },
    "tags": []
   },
   "outputs": [
    {
     "data": {
      "text/plain": [
       "Index(['price', 'area', 'bedrooms', 'bathrooms', 'stories', 'mainroad',\n",
       "       'guestroom', 'basement', 'hotwaterheating', 'airconditioning',\n",
       "       'parking', 'prefarea', 'furnishingstatus'],\n",
       "      dtype='object')"
      ]
     },
     "execution_count": 6,
     "metadata": {},
     "output_type": "execute_result"
    }
   ],
   "source": [
    "house_price.columns"
   ]
  },
  {
   "cell_type": "markdown",
   "id": "46a1e7dd",
   "metadata": {
    "papermill": {
     "duration": 0.018708,
     "end_time": "2024-02-23T23:33:11.214929",
     "exception": false,
     "start_time": "2024-02-23T23:33:11.196221",
     "status": "completed"
    },
    "tags": []
   },
   "source": [
    "# Checking Null Values"
   ]
  },
  {
   "cell_type": "code",
   "execution_count": 7,
   "id": "d937fa7f",
   "metadata": {
    "execution": {
     "iopub.execute_input": "2024-02-23T23:33:11.255649Z",
     "iopub.status.busy": "2024-02-23T23:33:11.254944Z",
     "iopub.status.idle": "2024-02-23T23:33:11.262731Z",
     "shell.execute_reply": "2024-02-23T23:33:11.261799Z"
    },
    "papermill": {
     "duration": 0.030339,
     "end_time": "2024-02-23T23:33:11.264893",
     "exception": false,
     "start_time": "2024-02-23T23:33:11.234554",
     "status": "completed"
    },
    "tags": []
   },
   "outputs": [
    {
     "data": {
      "text/plain": [
       "price               0\n",
       "area                0\n",
       "bedrooms            0\n",
       "bathrooms           0\n",
       "stories             0\n",
       "mainroad            0\n",
       "guestroom           0\n",
       "basement            0\n",
       "hotwaterheating     0\n",
       "airconditioning     0\n",
       "parking             0\n",
       "prefarea            0\n",
       "furnishingstatus    0\n",
       "dtype: int64"
      ]
     },
     "execution_count": 7,
     "metadata": {},
     "output_type": "execute_result"
    }
   ],
   "source": [
    "house_price.isnull().sum()"
   ]
  },
  {
   "cell_type": "markdown",
   "id": "b461e12b",
   "metadata": {
    "papermill": {
     "duration": 0.018431,
     "end_time": "2024-02-23T23:33:11.302123",
     "exception": false,
     "start_time": "2024-02-23T23:33:11.283692",
     "status": "completed"
    },
    "tags": []
   },
   "source": [
    "**No Null values is beneficial, no need for handling missing data.we can proceed with further data analysis, visualization, and modeling**"
   ]
  },
  {
   "cell_type": "markdown",
   "id": "6e13371b",
   "metadata": {
    "papermill": {
     "duration": 0.019263,
     "end_time": "2024-02-23T23:33:11.340609",
     "exception": false,
     "start_time": "2024-02-23T23:33:11.321346",
     "status": "completed"
    },
    "tags": []
   },
   "source": [
    "# Exploratory Data Analysis"
   ]
  },
  {
   "cell_type": "markdown",
   "id": "573a8de4",
   "metadata": {
    "papermill": {
     "duration": 0.018864,
     "end_time": "2024-02-23T23:33:11.378621",
     "exception": false,
     "start_time": "2024-02-23T23:33:11.359757",
     "status": "completed"
    },
    "tags": []
   },
   "source": [
    "**1. Handling (Yes/No) Categorical Variables**"
   ]
  },
  {
   "cell_type": "code",
   "execution_count": 8,
   "id": "ef6bf9e2",
   "metadata": {
    "execution": {
     "iopub.execute_input": "2024-02-23T23:33:11.417062Z",
     "iopub.status.busy": "2024-02-23T23:33:11.416696Z",
     "iopub.status.idle": "2024-02-23T23:33:11.430731Z",
     "shell.execute_reply": "2024-02-23T23:33:11.430022Z"
    },
    "papermill": {
     "duration": 0.035544,
     "end_time": "2024-02-23T23:33:11.432473",
     "exception": false,
     "start_time": "2024-02-23T23:33:11.396929",
     "status": "completed"
    },
    "tags": []
   },
   "outputs": [
    {
     "data": {
      "text/html": [
       "<div>\n",
       "<style scoped>\n",
       "    .dataframe tbody tr th:only-of-type {\n",
       "        vertical-align: middle;\n",
       "    }\n",
       "\n",
       "    .dataframe tbody tr th {\n",
       "        vertical-align: top;\n",
       "    }\n",
       "\n",
       "    .dataframe thead th {\n",
       "        text-align: right;\n",
       "    }\n",
       "</style>\n",
       "<table border=\"1\" class=\"dataframe\">\n",
       "  <thead>\n",
       "    <tr style=\"text-align: right;\">\n",
       "      <th></th>\n",
       "      <th>price</th>\n",
       "      <th>area</th>\n",
       "      <th>bedrooms</th>\n",
       "      <th>bathrooms</th>\n",
       "      <th>stories</th>\n",
       "      <th>mainroad</th>\n",
       "      <th>guestroom</th>\n",
       "      <th>basement</th>\n",
       "      <th>hotwaterheating</th>\n",
       "      <th>airconditioning</th>\n",
       "      <th>parking</th>\n",
       "      <th>prefarea</th>\n",
       "      <th>furnishingstatus</th>\n",
       "    </tr>\n",
       "  </thead>\n",
       "  <tbody>\n",
       "    <tr>\n",
       "      <th>0</th>\n",
       "      <td>13300000</td>\n",
       "      <td>7420</td>\n",
       "      <td>4</td>\n",
       "      <td>2</td>\n",
       "      <td>3</td>\n",
       "      <td>yes</td>\n",
       "      <td>no</td>\n",
       "      <td>no</td>\n",
       "      <td>no</td>\n",
       "      <td>yes</td>\n",
       "      <td>2</td>\n",
       "      <td>yes</td>\n",
       "      <td>furnished</td>\n",
       "    </tr>\n",
       "    <tr>\n",
       "      <th>1</th>\n",
       "      <td>12250000</td>\n",
       "      <td>8960</td>\n",
       "      <td>4</td>\n",
       "      <td>4</td>\n",
       "      <td>4</td>\n",
       "      <td>yes</td>\n",
       "      <td>no</td>\n",
       "      <td>no</td>\n",
       "      <td>no</td>\n",
       "      <td>yes</td>\n",
       "      <td>3</td>\n",
       "      <td>no</td>\n",
       "      <td>furnished</td>\n",
       "    </tr>\n",
       "    <tr>\n",
       "      <th>2</th>\n",
       "      <td>12250000</td>\n",
       "      <td>9960</td>\n",
       "      <td>3</td>\n",
       "      <td>2</td>\n",
       "      <td>2</td>\n",
       "      <td>yes</td>\n",
       "      <td>no</td>\n",
       "      <td>yes</td>\n",
       "      <td>no</td>\n",
       "      <td>no</td>\n",
       "      <td>2</td>\n",
       "      <td>yes</td>\n",
       "      <td>semi-furnished</td>\n",
       "    </tr>\n",
       "    <tr>\n",
       "      <th>3</th>\n",
       "      <td>12215000</td>\n",
       "      <td>7500</td>\n",
       "      <td>4</td>\n",
       "      <td>2</td>\n",
       "      <td>2</td>\n",
       "      <td>yes</td>\n",
       "      <td>no</td>\n",
       "      <td>yes</td>\n",
       "      <td>no</td>\n",
       "      <td>yes</td>\n",
       "      <td>3</td>\n",
       "      <td>yes</td>\n",
       "      <td>furnished</td>\n",
       "    </tr>\n",
       "    <tr>\n",
       "      <th>4</th>\n",
       "      <td>11410000</td>\n",
       "      <td>7420</td>\n",
       "      <td>4</td>\n",
       "      <td>1</td>\n",
       "      <td>2</td>\n",
       "      <td>yes</td>\n",
       "      <td>yes</td>\n",
       "      <td>yes</td>\n",
       "      <td>no</td>\n",
       "      <td>yes</td>\n",
       "      <td>2</td>\n",
       "      <td>no</td>\n",
       "      <td>furnished</td>\n",
       "    </tr>\n",
       "  </tbody>\n",
       "</table>\n",
       "</div>"
      ],
      "text/plain": [
       "      price  area  bedrooms  bathrooms  stories mainroad guestroom basement  \\\n",
       "0  13300000  7420         4          2        3      yes        no       no   \n",
       "1  12250000  8960         4          4        4      yes        no       no   \n",
       "2  12250000  9960         3          2        2      yes        no      yes   \n",
       "3  12215000  7500         4          2        2      yes        no      yes   \n",
       "4  11410000  7420         4          1        2      yes       yes      yes   \n",
       "\n",
       "  hotwaterheating airconditioning  parking prefarea furnishingstatus  \n",
       "0              no             yes        2      yes        furnished  \n",
       "1              no             yes        3       no        furnished  \n",
       "2              no              no        2      yes   semi-furnished  \n",
       "3              no             yes        3      yes        furnished  \n",
       "4              no             yes        2       no        furnished  "
      ]
     },
     "execution_count": 8,
     "metadata": {},
     "output_type": "execute_result"
    }
   ],
   "source": [
    "house_price.head()"
   ]
  },
  {
   "cell_type": "code",
   "execution_count": 9,
   "id": "440f7484",
   "metadata": {
    "execution": {
     "iopub.execute_input": "2024-02-23T23:33:11.472805Z",
     "iopub.status.busy": "2024-02-23T23:33:11.471834Z",
     "iopub.status.idle": "2024-02-23T23:33:11.476882Z",
     "shell.execute_reply": "2024-02-23T23:33:11.475874Z"
    },
    "papermill": {
     "duration": 0.027751,
     "end_time": "2024-02-23T23:33:11.479018",
     "exception": false,
     "start_time": "2024-02-23T23:33:11.451267",
     "status": "completed"
    },
    "tags": []
   },
   "outputs": [],
   "source": [
    "categorical_col = ['mainroad', 'guestroom', 'basement', 'hotwaterheating', 'airconditioning', 'prefarea']"
   ]
  },
  {
   "cell_type": "code",
   "execution_count": 10,
   "id": "a2993e89",
   "metadata": {
    "execution": {
     "iopub.execute_input": "2024-02-23T23:33:11.520366Z",
     "iopub.status.busy": "2024-02-23T23:33:11.519519Z",
     "iopub.status.idle": "2024-02-23T23:33:11.536804Z",
     "shell.execute_reply": "2024-02-23T23:33:11.535819Z"
    },
    "papermill": {
     "duration": 0.040266,
     "end_time": "2024-02-23T23:33:11.539056",
     "exception": false,
     "start_time": "2024-02-23T23:33:11.498790",
     "status": "completed"
    },
    "tags": []
   },
   "outputs": [
    {
     "data": {
      "text/html": [
       "<div>\n",
       "<style scoped>\n",
       "    .dataframe tbody tr th:only-of-type {\n",
       "        vertical-align: middle;\n",
       "    }\n",
       "\n",
       "    .dataframe tbody tr th {\n",
       "        vertical-align: top;\n",
       "    }\n",
       "\n",
       "    .dataframe thead th {\n",
       "        text-align: right;\n",
       "    }\n",
       "</style>\n",
       "<table border=\"1\" class=\"dataframe\">\n",
       "  <thead>\n",
       "    <tr style=\"text-align: right;\">\n",
       "      <th></th>\n",
       "      <th>mainroad</th>\n",
       "      <th>guestroom</th>\n",
       "      <th>basement</th>\n",
       "      <th>hotwaterheating</th>\n",
       "      <th>airconditioning</th>\n",
       "      <th>prefarea</th>\n",
       "    </tr>\n",
       "  </thead>\n",
       "  <tbody>\n",
       "    <tr>\n",
       "      <th>0</th>\n",
       "      <td>yes</td>\n",
       "      <td>no</td>\n",
       "      <td>no</td>\n",
       "      <td>no</td>\n",
       "      <td>yes</td>\n",
       "      <td>yes</td>\n",
       "    </tr>\n",
       "    <tr>\n",
       "      <th>1</th>\n",
       "      <td>yes</td>\n",
       "      <td>no</td>\n",
       "      <td>no</td>\n",
       "      <td>no</td>\n",
       "      <td>yes</td>\n",
       "      <td>no</td>\n",
       "    </tr>\n",
       "    <tr>\n",
       "      <th>2</th>\n",
       "      <td>yes</td>\n",
       "      <td>no</td>\n",
       "      <td>yes</td>\n",
       "      <td>no</td>\n",
       "      <td>no</td>\n",
       "      <td>yes</td>\n",
       "    </tr>\n",
       "    <tr>\n",
       "      <th>3</th>\n",
       "      <td>yes</td>\n",
       "      <td>no</td>\n",
       "      <td>yes</td>\n",
       "      <td>no</td>\n",
       "      <td>yes</td>\n",
       "      <td>yes</td>\n",
       "    </tr>\n",
       "    <tr>\n",
       "      <th>4</th>\n",
       "      <td>yes</td>\n",
       "      <td>yes</td>\n",
       "      <td>yes</td>\n",
       "      <td>no</td>\n",
       "      <td>yes</td>\n",
       "      <td>no</td>\n",
       "    </tr>\n",
       "    <tr>\n",
       "      <th>...</th>\n",
       "      <td>...</td>\n",
       "      <td>...</td>\n",
       "      <td>...</td>\n",
       "      <td>...</td>\n",
       "      <td>...</td>\n",
       "      <td>...</td>\n",
       "    </tr>\n",
       "    <tr>\n",
       "      <th>540</th>\n",
       "      <td>yes</td>\n",
       "      <td>no</td>\n",
       "      <td>yes</td>\n",
       "      <td>no</td>\n",
       "      <td>no</td>\n",
       "      <td>no</td>\n",
       "    </tr>\n",
       "    <tr>\n",
       "      <th>541</th>\n",
       "      <td>no</td>\n",
       "      <td>no</td>\n",
       "      <td>no</td>\n",
       "      <td>no</td>\n",
       "      <td>no</td>\n",
       "      <td>no</td>\n",
       "    </tr>\n",
       "    <tr>\n",
       "      <th>542</th>\n",
       "      <td>yes</td>\n",
       "      <td>no</td>\n",
       "      <td>no</td>\n",
       "      <td>no</td>\n",
       "      <td>no</td>\n",
       "      <td>no</td>\n",
       "    </tr>\n",
       "    <tr>\n",
       "      <th>543</th>\n",
       "      <td>no</td>\n",
       "      <td>no</td>\n",
       "      <td>no</td>\n",
       "      <td>no</td>\n",
       "      <td>no</td>\n",
       "      <td>no</td>\n",
       "    </tr>\n",
       "    <tr>\n",
       "      <th>544</th>\n",
       "      <td>yes</td>\n",
       "      <td>no</td>\n",
       "      <td>no</td>\n",
       "      <td>no</td>\n",
       "      <td>no</td>\n",
       "      <td>no</td>\n",
       "    </tr>\n",
       "  </tbody>\n",
       "</table>\n",
       "<p>545 rows × 6 columns</p>\n",
       "</div>"
      ],
      "text/plain": [
       "    mainroad guestroom basement hotwaterheating airconditioning prefarea\n",
       "0        yes        no       no              no             yes      yes\n",
       "1        yes        no       no              no             yes       no\n",
       "2        yes        no      yes              no              no      yes\n",
       "3        yes        no      yes              no             yes      yes\n",
       "4        yes       yes      yes              no             yes       no\n",
       "..       ...       ...      ...             ...             ...      ...\n",
       "540      yes        no      yes              no              no       no\n",
       "541       no        no       no              no              no       no\n",
       "542      yes        no       no              no              no       no\n",
       "543       no        no       no              no              no       no\n",
       "544      yes        no       no              no              no       no\n",
       "\n",
       "[545 rows x 6 columns]"
      ]
     },
     "execution_count": 10,
     "metadata": {},
     "output_type": "execute_result"
    }
   ],
   "source": [
    "house_price[categorical_col]"
   ]
  },
  {
   "cell_type": "markdown",
   "id": "21f522c9",
   "metadata": {
    "papermill": {
     "duration": 0.020976,
     "end_time": "2024-02-23T23:33:11.580118",
     "exception": false,
     "start_time": "2024-02-23T23:33:11.559142",
     "status": "completed"
    },
    "tags": []
   },
   "source": [
    "***Converting Categorical (Yes/No) Variables into Numerical Variables*** "
   ]
  },
  {
   "cell_type": "code",
   "execution_count": 11,
   "id": "a82ead79",
   "metadata": {
    "execution": {
     "iopub.execute_input": "2024-02-23T23:33:11.623268Z",
     "iopub.status.busy": "2024-02-23T23:33:11.622914Z",
     "iopub.status.idle": "2024-02-23T23:33:11.628003Z",
     "shell.execute_reply": "2024-02-23T23:33:11.626937Z"
    },
    "papermill": {
     "duration": 0.029089,
     "end_time": "2024-02-23T23:33:11.630130",
     "exception": false,
     "start_time": "2024-02-23T23:33:11.601041",
     "status": "completed"
    },
    "tags": []
   },
   "outputs": [],
   "source": [
    "def binary_map(x):\n",
    "\n",
    "    return x.map({'yes': 1, 'no': 0})"
   ]
  },
  {
   "cell_type": "code",
   "execution_count": 12,
   "id": "093b09a9",
   "metadata": {
    "execution": {
     "iopub.execute_input": "2024-02-23T23:33:11.672962Z",
     "iopub.status.busy": "2024-02-23T23:33:11.672344Z",
     "iopub.status.idle": "2024-02-23T23:33:11.691751Z",
     "shell.execute_reply": "2024-02-23T23:33:11.690696Z"
    },
    "papermill": {
     "duration": 0.043437,
     "end_time": "2024-02-23T23:33:11.694127",
     "exception": false,
     "start_time": "2024-02-23T23:33:11.650690",
     "status": "completed"
    },
    "tags": []
   },
   "outputs": [
    {
     "data": {
      "text/html": [
       "<div>\n",
       "<style scoped>\n",
       "    .dataframe tbody tr th:only-of-type {\n",
       "        vertical-align: middle;\n",
       "    }\n",
       "\n",
       "    .dataframe tbody tr th {\n",
       "        vertical-align: top;\n",
       "    }\n",
       "\n",
       "    .dataframe thead th {\n",
       "        text-align: right;\n",
       "    }\n",
       "</style>\n",
       "<table border=\"1\" class=\"dataframe\">\n",
       "  <thead>\n",
       "    <tr style=\"text-align: right;\">\n",
       "      <th></th>\n",
       "      <th>mainroad</th>\n",
       "      <th>guestroom</th>\n",
       "      <th>basement</th>\n",
       "      <th>hotwaterheating</th>\n",
       "      <th>airconditioning</th>\n",
       "      <th>prefarea</th>\n",
       "    </tr>\n",
       "  </thead>\n",
       "  <tbody>\n",
       "    <tr>\n",
       "      <th>0</th>\n",
       "      <td>1</td>\n",
       "      <td>0</td>\n",
       "      <td>0</td>\n",
       "      <td>0</td>\n",
       "      <td>1</td>\n",
       "      <td>1</td>\n",
       "    </tr>\n",
       "    <tr>\n",
       "      <th>1</th>\n",
       "      <td>1</td>\n",
       "      <td>0</td>\n",
       "      <td>0</td>\n",
       "      <td>0</td>\n",
       "      <td>1</td>\n",
       "      <td>0</td>\n",
       "    </tr>\n",
       "    <tr>\n",
       "      <th>2</th>\n",
       "      <td>1</td>\n",
       "      <td>0</td>\n",
       "      <td>1</td>\n",
       "      <td>0</td>\n",
       "      <td>0</td>\n",
       "      <td>1</td>\n",
       "    </tr>\n",
       "    <tr>\n",
       "      <th>3</th>\n",
       "      <td>1</td>\n",
       "      <td>0</td>\n",
       "      <td>1</td>\n",
       "      <td>0</td>\n",
       "      <td>1</td>\n",
       "      <td>1</td>\n",
       "    </tr>\n",
       "    <tr>\n",
       "      <th>4</th>\n",
       "      <td>1</td>\n",
       "      <td>1</td>\n",
       "      <td>1</td>\n",
       "      <td>0</td>\n",
       "      <td>1</td>\n",
       "      <td>0</td>\n",
       "    </tr>\n",
       "    <tr>\n",
       "      <th>...</th>\n",
       "      <td>...</td>\n",
       "      <td>...</td>\n",
       "      <td>...</td>\n",
       "      <td>...</td>\n",
       "      <td>...</td>\n",
       "      <td>...</td>\n",
       "    </tr>\n",
       "    <tr>\n",
       "      <th>540</th>\n",
       "      <td>1</td>\n",
       "      <td>0</td>\n",
       "      <td>1</td>\n",
       "      <td>0</td>\n",
       "      <td>0</td>\n",
       "      <td>0</td>\n",
       "    </tr>\n",
       "    <tr>\n",
       "      <th>541</th>\n",
       "      <td>0</td>\n",
       "      <td>0</td>\n",
       "      <td>0</td>\n",
       "      <td>0</td>\n",
       "      <td>0</td>\n",
       "      <td>0</td>\n",
       "    </tr>\n",
       "    <tr>\n",
       "      <th>542</th>\n",
       "      <td>1</td>\n",
       "      <td>0</td>\n",
       "      <td>0</td>\n",
       "      <td>0</td>\n",
       "      <td>0</td>\n",
       "      <td>0</td>\n",
       "    </tr>\n",
       "    <tr>\n",
       "      <th>543</th>\n",
       "      <td>0</td>\n",
       "      <td>0</td>\n",
       "      <td>0</td>\n",
       "      <td>0</td>\n",
       "      <td>0</td>\n",
       "      <td>0</td>\n",
       "    </tr>\n",
       "    <tr>\n",
       "      <th>544</th>\n",
       "      <td>1</td>\n",
       "      <td>0</td>\n",
       "      <td>0</td>\n",
       "      <td>0</td>\n",
       "      <td>0</td>\n",
       "      <td>0</td>\n",
       "    </tr>\n",
       "  </tbody>\n",
       "</table>\n",
       "<p>545 rows × 6 columns</p>\n",
       "</div>"
      ],
      "text/plain": [
       "     mainroad  guestroom  basement  hotwaterheating  airconditioning  prefarea\n",
       "0           1          0         0                0                1         1\n",
       "1           1          0         0                0                1         0\n",
       "2           1          0         1                0                0         1\n",
       "3           1          0         1                0                1         1\n",
       "4           1          1         1                0                1         0\n",
       "..        ...        ...       ...              ...              ...       ...\n",
       "540         1          0         1                0                0         0\n",
       "541         0          0         0                0                0         0\n",
       "542         1          0         0                0                0         0\n",
       "543         0          0         0                0                0         0\n",
       "544         1          0         0                0                0         0\n",
       "\n",
       "[545 rows x 6 columns]"
      ]
     },
     "execution_count": 12,
     "metadata": {},
     "output_type": "execute_result"
    }
   ],
   "source": [
    "house_price[categorical_col] = house_price[categorical_col].apply(binary_map)\n",
    "house_price[categorical_col]"
   ]
  },
  {
   "cell_type": "code",
   "execution_count": 13,
   "id": "220f2c9f",
   "metadata": {
    "execution": {
     "iopub.execute_input": "2024-02-23T23:33:11.783724Z",
     "iopub.status.busy": "2024-02-23T23:33:11.783116Z",
     "iopub.status.idle": "2024-02-23T23:33:11.796719Z",
     "shell.execute_reply": "2024-02-23T23:33:11.795714Z"
    },
    "papermill": {
     "duration": 0.036813,
     "end_time": "2024-02-23T23:33:11.798761",
     "exception": false,
     "start_time": "2024-02-23T23:33:11.761948",
     "status": "completed"
    },
    "tags": []
   },
   "outputs": [
    {
     "data": {
      "text/html": [
       "<div>\n",
       "<style scoped>\n",
       "    .dataframe tbody tr th:only-of-type {\n",
       "        vertical-align: middle;\n",
       "    }\n",
       "\n",
       "    .dataframe tbody tr th {\n",
       "        vertical-align: top;\n",
       "    }\n",
       "\n",
       "    .dataframe thead th {\n",
       "        text-align: right;\n",
       "    }\n",
       "</style>\n",
       "<table border=\"1\" class=\"dataframe\">\n",
       "  <thead>\n",
       "    <tr style=\"text-align: right;\">\n",
       "      <th></th>\n",
       "      <th>price</th>\n",
       "      <th>area</th>\n",
       "      <th>bedrooms</th>\n",
       "      <th>bathrooms</th>\n",
       "      <th>stories</th>\n",
       "      <th>mainroad</th>\n",
       "      <th>guestroom</th>\n",
       "      <th>basement</th>\n",
       "      <th>hotwaterheating</th>\n",
       "      <th>airconditioning</th>\n",
       "      <th>parking</th>\n",
       "      <th>prefarea</th>\n",
       "      <th>furnishingstatus</th>\n",
       "    </tr>\n",
       "  </thead>\n",
       "  <tbody>\n",
       "    <tr>\n",
       "      <th>0</th>\n",
       "      <td>13300000</td>\n",
       "      <td>7420</td>\n",
       "      <td>4</td>\n",
       "      <td>2</td>\n",
       "      <td>3</td>\n",
       "      <td>1</td>\n",
       "      <td>0</td>\n",
       "      <td>0</td>\n",
       "      <td>0</td>\n",
       "      <td>1</td>\n",
       "      <td>2</td>\n",
       "      <td>1</td>\n",
       "      <td>furnished</td>\n",
       "    </tr>\n",
       "    <tr>\n",
       "      <th>1</th>\n",
       "      <td>12250000</td>\n",
       "      <td>8960</td>\n",
       "      <td>4</td>\n",
       "      <td>4</td>\n",
       "      <td>4</td>\n",
       "      <td>1</td>\n",
       "      <td>0</td>\n",
       "      <td>0</td>\n",
       "      <td>0</td>\n",
       "      <td>1</td>\n",
       "      <td>3</td>\n",
       "      <td>0</td>\n",
       "      <td>furnished</td>\n",
       "    </tr>\n",
       "    <tr>\n",
       "      <th>2</th>\n",
       "      <td>12250000</td>\n",
       "      <td>9960</td>\n",
       "      <td>3</td>\n",
       "      <td>2</td>\n",
       "      <td>2</td>\n",
       "      <td>1</td>\n",
       "      <td>0</td>\n",
       "      <td>1</td>\n",
       "      <td>0</td>\n",
       "      <td>0</td>\n",
       "      <td>2</td>\n",
       "      <td>1</td>\n",
       "      <td>semi-furnished</td>\n",
       "    </tr>\n",
       "    <tr>\n",
       "      <th>3</th>\n",
       "      <td>12215000</td>\n",
       "      <td>7500</td>\n",
       "      <td>4</td>\n",
       "      <td>2</td>\n",
       "      <td>2</td>\n",
       "      <td>1</td>\n",
       "      <td>0</td>\n",
       "      <td>1</td>\n",
       "      <td>0</td>\n",
       "      <td>1</td>\n",
       "      <td>3</td>\n",
       "      <td>1</td>\n",
       "      <td>furnished</td>\n",
       "    </tr>\n",
       "    <tr>\n",
       "      <th>4</th>\n",
       "      <td>11410000</td>\n",
       "      <td>7420</td>\n",
       "      <td>4</td>\n",
       "      <td>1</td>\n",
       "      <td>2</td>\n",
       "      <td>1</td>\n",
       "      <td>1</td>\n",
       "      <td>1</td>\n",
       "      <td>0</td>\n",
       "      <td>1</td>\n",
       "      <td>2</td>\n",
       "      <td>0</td>\n",
       "      <td>furnished</td>\n",
       "    </tr>\n",
       "  </tbody>\n",
       "</table>\n",
       "</div>"
      ],
      "text/plain": [
       "      price  area  bedrooms  bathrooms  stories  mainroad  guestroom  \\\n",
       "0  13300000  7420         4          2        3         1          0   \n",
       "1  12250000  8960         4          4        4         1          0   \n",
       "2  12250000  9960         3          2        2         1          0   \n",
       "3  12215000  7500         4          2        2         1          0   \n",
       "4  11410000  7420         4          1        2         1          1   \n",
       "\n",
       "   basement  hotwaterheating  airconditioning  parking  prefarea  \\\n",
       "0         0                0                1        2         1   \n",
       "1         0                0                1        3         0   \n",
       "2         1                0                0        2         1   \n",
       "3         1                0                1        3         1   \n",
       "4         1                0                1        2         0   \n",
       "\n",
       "  furnishingstatus  \n",
       "0        furnished  \n",
       "1        furnished  \n",
       "2   semi-furnished  \n",
       "3        furnished  \n",
       "4        furnished  "
      ]
     },
     "execution_count": 13,
     "metadata": {},
     "output_type": "execute_result"
    }
   ],
   "source": [
    "house_price.head()"
   ]
  },
  {
   "cell_type": "markdown",
   "id": "afb41ffa",
   "metadata": {
    "papermill": {
     "duration": 0.021644,
     "end_time": "2024-02-23T23:33:11.840932",
     "exception": false,
     "start_time": "2024-02-23T23:33:11.819288",
     "status": "completed"
    },
    "tags": []
   },
   "source": [
    "**2. Handling Categorical Data with Dummy Variable**"
   ]
  },
  {
   "cell_type": "code",
   "execution_count": 14,
   "id": "2086c79f",
   "metadata": {
    "execution": {
     "iopub.execute_input": "2024-02-23T23:33:11.884857Z",
     "iopub.status.busy": "2024-02-23T23:33:11.884217Z",
     "iopub.status.idle": "2024-02-23T23:33:11.895733Z",
     "shell.execute_reply": "2024-02-23T23:33:11.894740Z"
    },
    "papermill": {
     "duration": 0.036284,
     "end_time": "2024-02-23T23:33:11.897760",
     "exception": false,
     "start_time": "2024-02-23T23:33:11.861476",
     "status": "completed"
    },
    "tags": []
   },
   "outputs": [
    {
     "data": {
      "text/html": [
       "<div>\n",
       "<style scoped>\n",
       "    .dataframe tbody tr th:only-of-type {\n",
       "        vertical-align: middle;\n",
       "    }\n",
       "\n",
       "    .dataframe tbody tr th {\n",
       "        vertical-align: top;\n",
       "    }\n",
       "\n",
       "    .dataframe thead th {\n",
       "        text-align: right;\n",
       "    }\n",
       "</style>\n",
       "<table border=\"1\" class=\"dataframe\">\n",
       "  <thead>\n",
       "    <tr style=\"text-align: right;\">\n",
       "      <th></th>\n",
       "      <th>furnished</th>\n",
       "      <th>semi-furnished</th>\n",
       "      <th>unfurnished</th>\n",
       "    </tr>\n",
       "  </thead>\n",
       "  <tbody>\n",
       "    <tr>\n",
       "      <th>0</th>\n",
       "      <td>True</td>\n",
       "      <td>False</td>\n",
       "      <td>False</td>\n",
       "    </tr>\n",
       "    <tr>\n",
       "      <th>1</th>\n",
       "      <td>True</td>\n",
       "      <td>False</td>\n",
       "      <td>False</td>\n",
       "    </tr>\n",
       "    <tr>\n",
       "      <th>2</th>\n",
       "      <td>False</td>\n",
       "      <td>True</td>\n",
       "      <td>False</td>\n",
       "    </tr>\n",
       "    <tr>\n",
       "      <th>3</th>\n",
       "      <td>True</td>\n",
       "      <td>False</td>\n",
       "      <td>False</td>\n",
       "    </tr>\n",
       "    <tr>\n",
       "      <th>4</th>\n",
       "      <td>True</td>\n",
       "      <td>False</td>\n",
       "      <td>False</td>\n",
       "    </tr>\n",
       "  </tbody>\n",
       "</table>\n",
       "</div>"
      ],
      "text/plain": [
       "   furnished  semi-furnished  unfurnished\n",
       "0       True           False        False\n",
       "1       True           False        False\n",
       "2      False            True        False\n",
       "3       True           False        False\n",
       "4       True           False        False"
      ]
     },
     "execution_count": 14,
     "metadata": {},
     "output_type": "execute_result"
    }
   ],
   "source": [
    "dummy_col = pd.get_dummies(house_price['furnishingstatus'])\n",
    "\n",
    "\n",
    "\n",
    "dummy_col.head()"
   ]
  },
  {
   "cell_type": "code",
   "execution_count": 15,
   "id": "9813c888",
   "metadata": {
    "execution": {
     "iopub.execute_input": "2024-02-23T23:33:11.941144Z",
     "iopub.status.busy": "2024-02-23T23:33:11.940524Z",
     "iopub.status.idle": "2024-02-23T23:33:11.951560Z",
     "shell.execute_reply": "2024-02-23T23:33:11.950410Z"
    },
    "papermill": {
     "duration": 0.035851,
     "end_time": "2024-02-23T23:33:11.953637",
     "exception": false,
     "start_time": "2024-02-23T23:33:11.917786",
     "status": "completed"
    },
    "tags": []
   },
   "outputs": [
    {
     "data": {
      "text/html": [
       "<div>\n",
       "<style scoped>\n",
       "    .dataframe tbody tr th:only-of-type {\n",
       "        vertical-align: middle;\n",
       "    }\n",
       "\n",
       "    .dataframe tbody tr th {\n",
       "        vertical-align: top;\n",
       "    }\n",
       "\n",
       "    .dataframe thead th {\n",
       "        text-align: right;\n",
       "    }\n",
       "</style>\n",
       "<table border=\"1\" class=\"dataframe\">\n",
       "  <thead>\n",
       "    <tr style=\"text-align: right;\">\n",
       "      <th></th>\n",
       "      <th>semi-furnished</th>\n",
       "      <th>unfurnished</th>\n",
       "    </tr>\n",
       "  </thead>\n",
       "  <tbody>\n",
       "    <tr>\n",
       "      <th>0</th>\n",
       "      <td>False</td>\n",
       "      <td>False</td>\n",
       "    </tr>\n",
       "    <tr>\n",
       "      <th>1</th>\n",
       "      <td>False</td>\n",
       "      <td>False</td>\n",
       "    </tr>\n",
       "    <tr>\n",
       "      <th>2</th>\n",
       "      <td>True</td>\n",
       "      <td>False</td>\n",
       "    </tr>\n",
       "    <tr>\n",
       "      <th>3</th>\n",
       "      <td>False</td>\n",
       "      <td>False</td>\n",
       "    </tr>\n",
       "    <tr>\n",
       "      <th>4</th>\n",
       "      <td>False</td>\n",
       "      <td>False</td>\n",
       "    </tr>\n",
       "  </tbody>\n",
       "</table>\n",
       "</div>"
      ],
      "text/plain": [
       "   semi-furnished  unfurnished\n",
       "0           False        False\n",
       "1           False        False\n",
       "2            True        False\n",
       "3           False        False\n",
       "4           False        False"
      ]
     },
     "execution_count": 15,
     "metadata": {},
     "output_type": "execute_result"
    }
   ],
   "source": [
    "dummy_col = pd.get_dummies(house_price['furnishingstatus'], drop_first = True)\n",
    "dummy_col.head()"
   ]
  },
  {
   "cell_type": "code",
   "execution_count": 16,
   "id": "73ab4ea0",
   "metadata": {
    "execution": {
     "iopub.execute_input": "2024-02-23T23:33:11.998280Z",
     "iopub.status.busy": "2024-02-23T23:33:11.997634Z",
     "iopub.status.idle": "2024-02-23T23:33:12.013089Z",
     "shell.execute_reply": "2024-02-23T23:33:12.012094Z"
    },
    "papermill": {
     "duration": 0.040118,
     "end_time": "2024-02-23T23:33:12.015115",
     "exception": false,
     "start_time": "2024-02-23T23:33:11.974997",
     "status": "completed"
    },
    "tags": []
   },
   "outputs": [
    {
     "data": {
      "text/html": [
       "<div>\n",
       "<style scoped>\n",
       "    .dataframe tbody tr th:only-of-type {\n",
       "        vertical-align: middle;\n",
       "    }\n",
       "\n",
       "    .dataframe tbody tr th {\n",
       "        vertical-align: top;\n",
       "    }\n",
       "\n",
       "    .dataframe thead th {\n",
       "        text-align: right;\n",
       "    }\n",
       "</style>\n",
       "<table border=\"1\" class=\"dataframe\">\n",
       "  <thead>\n",
       "    <tr style=\"text-align: right;\">\n",
       "      <th></th>\n",
       "      <th>price</th>\n",
       "      <th>area</th>\n",
       "      <th>bedrooms</th>\n",
       "      <th>bathrooms</th>\n",
       "      <th>stories</th>\n",
       "      <th>mainroad</th>\n",
       "      <th>guestroom</th>\n",
       "      <th>basement</th>\n",
       "      <th>hotwaterheating</th>\n",
       "      <th>airconditioning</th>\n",
       "      <th>parking</th>\n",
       "      <th>prefarea</th>\n",
       "      <th>furnishingstatus</th>\n",
       "      <th>semi-furnished</th>\n",
       "      <th>unfurnished</th>\n",
       "    </tr>\n",
       "  </thead>\n",
       "  <tbody>\n",
       "    <tr>\n",
       "      <th>0</th>\n",
       "      <td>13300000</td>\n",
       "      <td>7420</td>\n",
       "      <td>4</td>\n",
       "      <td>2</td>\n",
       "      <td>3</td>\n",
       "      <td>1</td>\n",
       "      <td>0</td>\n",
       "      <td>0</td>\n",
       "      <td>0</td>\n",
       "      <td>1</td>\n",
       "      <td>2</td>\n",
       "      <td>1</td>\n",
       "      <td>furnished</td>\n",
       "      <td>False</td>\n",
       "      <td>False</td>\n",
       "    </tr>\n",
       "    <tr>\n",
       "      <th>1</th>\n",
       "      <td>12250000</td>\n",
       "      <td>8960</td>\n",
       "      <td>4</td>\n",
       "      <td>4</td>\n",
       "      <td>4</td>\n",
       "      <td>1</td>\n",
       "      <td>0</td>\n",
       "      <td>0</td>\n",
       "      <td>0</td>\n",
       "      <td>1</td>\n",
       "      <td>3</td>\n",
       "      <td>0</td>\n",
       "      <td>furnished</td>\n",
       "      <td>False</td>\n",
       "      <td>False</td>\n",
       "    </tr>\n",
       "    <tr>\n",
       "      <th>2</th>\n",
       "      <td>12250000</td>\n",
       "      <td>9960</td>\n",
       "      <td>3</td>\n",
       "      <td>2</td>\n",
       "      <td>2</td>\n",
       "      <td>1</td>\n",
       "      <td>0</td>\n",
       "      <td>1</td>\n",
       "      <td>0</td>\n",
       "      <td>0</td>\n",
       "      <td>2</td>\n",
       "      <td>1</td>\n",
       "      <td>semi-furnished</td>\n",
       "      <td>True</td>\n",
       "      <td>False</td>\n",
       "    </tr>\n",
       "    <tr>\n",
       "      <th>3</th>\n",
       "      <td>12215000</td>\n",
       "      <td>7500</td>\n",
       "      <td>4</td>\n",
       "      <td>2</td>\n",
       "      <td>2</td>\n",
       "      <td>1</td>\n",
       "      <td>0</td>\n",
       "      <td>1</td>\n",
       "      <td>0</td>\n",
       "      <td>1</td>\n",
       "      <td>3</td>\n",
       "      <td>1</td>\n",
       "      <td>furnished</td>\n",
       "      <td>False</td>\n",
       "      <td>False</td>\n",
       "    </tr>\n",
       "    <tr>\n",
       "      <th>4</th>\n",
       "      <td>11410000</td>\n",
       "      <td>7420</td>\n",
       "      <td>4</td>\n",
       "      <td>1</td>\n",
       "      <td>2</td>\n",
       "      <td>1</td>\n",
       "      <td>1</td>\n",
       "      <td>1</td>\n",
       "      <td>0</td>\n",
       "      <td>1</td>\n",
       "      <td>2</td>\n",
       "      <td>0</td>\n",
       "      <td>furnished</td>\n",
       "      <td>False</td>\n",
       "      <td>False</td>\n",
       "    </tr>\n",
       "  </tbody>\n",
       "</table>\n",
       "</div>"
      ],
      "text/plain": [
       "      price  area  bedrooms  bathrooms  stories  mainroad  guestroom  \\\n",
       "0  13300000  7420         4          2        3         1          0   \n",
       "1  12250000  8960         4          4        4         1          0   \n",
       "2  12250000  9960         3          2        2         1          0   \n",
       "3  12215000  7500         4          2        2         1          0   \n",
       "4  11410000  7420         4          1        2         1          1   \n",
       "\n",
       "   basement  hotwaterheating  airconditioning  parking  prefarea  \\\n",
       "0         0                0                1        2         1   \n",
       "1         0                0                1        3         0   \n",
       "2         1                0                0        2         1   \n",
       "3         1                0                1        3         1   \n",
       "4         1                0                1        2         0   \n",
       "\n",
       "  furnishingstatus  semi-furnished  unfurnished  \n",
       "0        furnished           False        False  \n",
       "1        furnished           False        False  \n",
       "2   semi-furnished            True        False  \n",
       "3        furnished           False        False  \n",
       "4        furnished           False        False  "
      ]
     },
     "execution_count": 16,
     "metadata": {},
     "output_type": "execute_result"
    }
   ],
   "source": [
    "house_price = pd.concat([house_price, dummy_col], axis = 1)\n",
    "house_price.head()"
   ]
  },
  {
   "cell_type": "code",
   "execution_count": 17,
   "id": "5e1573d2",
   "metadata": {
    "execution": {
     "iopub.execute_input": "2024-02-23T23:33:12.058712Z",
     "iopub.status.busy": "2024-02-23T23:33:12.058092Z",
     "iopub.status.idle": "2024-02-23T23:33:12.073216Z",
     "shell.execute_reply": "2024-02-23T23:33:12.072198Z"
    },
    "papermill": {
     "duration": 0.039167,
     "end_time": "2024-02-23T23:33:12.075227",
     "exception": false,
     "start_time": "2024-02-23T23:33:12.036060",
     "status": "completed"
    },
    "tags": []
   },
   "outputs": [
    {
     "data": {
      "text/html": [
       "<div>\n",
       "<style scoped>\n",
       "    .dataframe tbody tr th:only-of-type {\n",
       "        vertical-align: middle;\n",
       "    }\n",
       "\n",
       "    .dataframe tbody tr th {\n",
       "        vertical-align: top;\n",
       "    }\n",
       "\n",
       "    .dataframe thead th {\n",
       "        text-align: right;\n",
       "    }\n",
       "</style>\n",
       "<table border=\"1\" class=\"dataframe\">\n",
       "  <thead>\n",
       "    <tr style=\"text-align: right;\">\n",
       "      <th></th>\n",
       "      <th>price</th>\n",
       "      <th>area</th>\n",
       "      <th>bedrooms</th>\n",
       "      <th>bathrooms</th>\n",
       "      <th>stories</th>\n",
       "      <th>mainroad</th>\n",
       "      <th>guestroom</th>\n",
       "      <th>basement</th>\n",
       "      <th>hotwaterheating</th>\n",
       "      <th>airconditioning</th>\n",
       "      <th>parking</th>\n",
       "      <th>prefarea</th>\n",
       "      <th>semi-furnished</th>\n",
       "      <th>unfurnished</th>\n",
       "    </tr>\n",
       "  </thead>\n",
       "  <tbody>\n",
       "    <tr>\n",
       "      <th>0</th>\n",
       "      <td>13300000</td>\n",
       "      <td>7420</td>\n",
       "      <td>4</td>\n",
       "      <td>2</td>\n",
       "      <td>3</td>\n",
       "      <td>1</td>\n",
       "      <td>0</td>\n",
       "      <td>0</td>\n",
       "      <td>0</td>\n",
       "      <td>1</td>\n",
       "      <td>2</td>\n",
       "      <td>1</td>\n",
       "      <td>False</td>\n",
       "      <td>False</td>\n",
       "    </tr>\n",
       "    <tr>\n",
       "      <th>1</th>\n",
       "      <td>12250000</td>\n",
       "      <td>8960</td>\n",
       "      <td>4</td>\n",
       "      <td>4</td>\n",
       "      <td>4</td>\n",
       "      <td>1</td>\n",
       "      <td>0</td>\n",
       "      <td>0</td>\n",
       "      <td>0</td>\n",
       "      <td>1</td>\n",
       "      <td>3</td>\n",
       "      <td>0</td>\n",
       "      <td>False</td>\n",
       "      <td>False</td>\n",
       "    </tr>\n",
       "    <tr>\n",
       "      <th>2</th>\n",
       "      <td>12250000</td>\n",
       "      <td>9960</td>\n",
       "      <td>3</td>\n",
       "      <td>2</td>\n",
       "      <td>2</td>\n",
       "      <td>1</td>\n",
       "      <td>0</td>\n",
       "      <td>1</td>\n",
       "      <td>0</td>\n",
       "      <td>0</td>\n",
       "      <td>2</td>\n",
       "      <td>1</td>\n",
       "      <td>True</td>\n",
       "      <td>False</td>\n",
       "    </tr>\n",
       "    <tr>\n",
       "      <th>3</th>\n",
       "      <td>12215000</td>\n",
       "      <td>7500</td>\n",
       "      <td>4</td>\n",
       "      <td>2</td>\n",
       "      <td>2</td>\n",
       "      <td>1</td>\n",
       "      <td>0</td>\n",
       "      <td>1</td>\n",
       "      <td>0</td>\n",
       "      <td>1</td>\n",
       "      <td>3</td>\n",
       "      <td>1</td>\n",
       "      <td>False</td>\n",
       "      <td>False</td>\n",
       "    </tr>\n",
       "    <tr>\n",
       "      <th>4</th>\n",
       "      <td>11410000</td>\n",
       "      <td>7420</td>\n",
       "      <td>4</td>\n",
       "      <td>1</td>\n",
       "      <td>2</td>\n",
       "      <td>1</td>\n",
       "      <td>1</td>\n",
       "      <td>1</td>\n",
       "      <td>0</td>\n",
       "      <td>1</td>\n",
       "      <td>2</td>\n",
       "      <td>0</td>\n",
       "      <td>False</td>\n",
       "      <td>False</td>\n",
       "    </tr>\n",
       "  </tbody>\n",
       "</table>\n",
       "</div>"
      ],
      "text/plain": [
       "      price  area  bedrooms  bathrooms  stories  mainroad  guestroom  \\\n",
       "0  13300000  7420         4          2        3         1          0   \n",
       "1  12250000  8960         4          4        4         1          0   \n",
       "2  12250000  9960         3          2        2         1          0   \n",
       "3  12215000  7500         4          2        2         1          0   \n",
       "4  11410000  7420         4          1        2         1          1   \n",
       "\n",
       "   basement  hotwaterheating  airconditioning  parking  prefarea  \\\n",
       "0         0                0                1        2         1   \n",
       "1         0                0                1        3         0   \n",
       "2         1                0                0        2         1   \n",
       "3         1                0                1        3         1   \n",
       "4         1                0                1        2         0   \n",
       "\n",
       "   semi-furnished  unfurnished  \n",
       "0           False        False  \n",
       "1           False        False  \n",
       "2            True        False  \n",
       "3           False        False  \n",
       "4           False        False  "
      ]
     },
     "execution_count": 17,
     "metadata": {},
     "output_type": "execute_result"
    }
   ],
   "source": [
    "house_price.drop(['furnishingstatus'], axis = 1, inplace = True)\n",
    "house_price.head()"
   ]
  },
  {
   "cell_type": "markdown",
   "id": "ea654e87",
   "metadata": {
    "papermill": {
     "duration": 0.021737,
     "end_time": "2024-02-23T23:33:12.118865",
     "exception": false,
     "start_time": "2024-02-23T23:33:12.097128",
     "status": "completed"
    },
    "tags": []
   },
   "source": [
    "# Splitting data into Training and Testing data"
   ]
  },
  {
   "cell_type": "code",
   "execution_count": 18,
   "id": "03aceeed",
   "metadata": {
    "execution": {
     "iopub.execute_input": "2024-02-23T23:33:12.163926Z",
     "iopub.status.busy": "2024-02-23T23:33:12.163555Z",
     "iopub.status.idle": "2024-02-23T23:33:12.170106Z",
     "shell.execute_reply": "2024-02-23T23:33:12.169140Z"
    },
    "papermill": {
     "duration": 0.031621,
     "end_time": "2024-02-23T23:33:12.172411",
     "exception": false,
     "start_time": "2024-02-23T23:33:12.140790",
     "status": "completed"
    },
    "tags": []
   },
   "outputs": [
    {
     "data": {
      "text/plain": [
       "Index(['price', 'area', 'bedrooms', 'bathrooms', 'stories', 'mainroad',\n",
       "       'guestroom', 'basement', 'hotwaterheating', 'airconditioning',\n",
       "       'parking', 'prefarea', 'semi-furnished', 'unfurnished'],\n",
       "      dtype='object')"
      ]
     },
     "execution_count": 18,
     "metadata": {},
     "output_type": "execute_result"
    }
   ],
   "source": [
    "house_price.columns"
   ]
  },
  {
   "cell_type": "code",
   "execution_count": 19,
   "id": "4bcbf265",
   "metadata": {
    "execution": {
     "iopub.execute_input": "2024-02-23T23:33:12.216789Z",
     "iopub.status.busy": "2024-02-23T23:33:12.216456Z",
     "iopub.status.idle": "2024-02-23T23:33:12.222995Z",
     "shell.execute_reply": "2024-02-23T23:33:12.221956Z"
    },
    "papermill": {
     "duration": 0.031621,
     "end_time": "2024-02-23T23:33:12.225284",
     "exception": false,
     "start_time": "2024-02-23T23:33:12.193663",
     "status": "completed"
    },
    "tags": []
   },
   "outputs": [],
   "source": [
    "np.random.seed(0)\n",
    "hp_train, hp_test = train_test_split(house_price, train_size = 0.7, test_size = 0.3, random_state = 100)"
   ]
  },
  {
   "cell_type": "code",
   "execution_count": 20,
   "id": "22f699d2",
   "metadata": {
    "execution": {
     "iopub.execute_input": "2024-02-23T23:33:12.271548Z",
     "iopub.status.busy": "2024-02-23T23:33:12.270363Z",
     "iopub.status.idle": "2024-02-23T23:33:12.285177Z",
     "shell.execute_reply": "2024-02-23T23:33:12.283986Z"
    },
    "papermill": {
     "duration": 0.040462,
     "end_time": "2024-02-23T23:33:12.287481",
     "exception": false,
     "start_time": "2024-02-23T23:33:12.247019",
     "status": "completed"
    },
    "tags": []
   },
   "outputs": [
    {
     "data": {
      "text/html": [
       "<div>\n",
       "<style scoped>\n",
       "    .dataframe tbody tr th:only-of-type {\n",
       "        vertical-align: middle;\n",
       "    }\n",
       "\n",
       "    .dataframe tbody tr th {\n",
       "        vertical-align: top;\n",
       "    }\n",
       "\n",
       "    .dataframe thead th {\n",
       "        text-align: right;\n",
       "    }\n",
       "</style>\n",
       "<table border=\"1\" class=\"dataframe\">\n",
       "  <thead>\n",
       "    <tr style=\"text-align: right;\">\n",
       "      <th></th>\n",
       "      <th>price</th>\n",
       "      <th>area</th>\n",
       "      <th>bedrooms</th>\n",
       "      <th>bathrooms</th>\n",
       "      <th>stories</th>\n",
       "      <th>mainroad</th>\n",
       "      <th>guestroom</th>\n",
       "      <th>basement</th>\n",
       "      <th>hotwaterheating</th>\n",
       "      <th>airconditioning</th>\n",
       "      <th>parking</th>\n",
       "      <th>prefarea</th>\n",
       "      <th>semi-furnished</th>\n",
       "      <th>unfurnished</th>\n",
       "    </tr>\n",
       "  </thead>\n",
       "  <tbody>\n",
       "    <tr>\n",
       "      <th>359</th>\n",
       "      <td>3710000</td>\n",
       "      <td>3600</td>\n",
       "      <td>3</td>\n",
       "      <td>1</td>\n",
       "      <td>1</td>\n",
       "      <td>1</td>\n",
       "      <td>0</td>\n",
       "      <td>0</td>\n",
       "      <td>0</td>\n",
       "      <td>0</td>\n",
       "      <td>1</td>\n",
       "      <td>0</td>\n",
       "      <td>False</td>\n",
       "      <td>True</td>\n",
       "    </tr>\n",
       "    <tr>\n",
       "      <th>19</th>\n",
       "      <td>8855000</td>\n",
       "      <td>6420</td>\n",
       "      <td>3</td>\n",
       "      <td>2</td>\n",
       "      <td>2</td>\n",
       "      <td>1</td>\n",
       "      <td>0</td>\n",
       "      <td>0</td>\n",
       "      <td>0</td>\n",
       "      <td>1</td>\n",
       "      <td>1</td>\n",
       "      <td>1</td>\n",
       "      <td>True</td>\n",
       "      <td>False</td>\n",
       "    </tr>\n",
       "    <tr>\n",
       "      <th>159</th>\n",
       "      <td>5460000</td>\n",
       "      <td>3150</td>\n",
       "      <td>3</td>\n",
       "      <td>2</td>\n",
       "      <td>1</td>\n",
       "      <td>1</td>\n",
       "      <td>1</td>\n",
       "      <td>1</td>\n",
       "      <td>0</td>\n",
       "      <td>1</td>\n",
       "      <td>0</td>\n",
       "      <td>0</td>\n",
       "      <td>False</td>\n",
       "      <td>False</td>\n",
       "    </tr>\n",
       "    <tr>\n",
       "      <th>35</th>\n",
       "      <td>8080940</td>\n",
       "      <td>7000</td>\n",
       "      <td>3</td>\n",
       "      <td>2</td>\n",
       "      <td>4</td>\n",
       "      <td>1</td>\n",
       "      <td>0</td>\n",
       "      <td>0</td>\n",
       "      <td>0</td>\n",
       "      <td>1</td>\n",
       "      <td>2</td>\n",
       "      <td>0</td>\n",
       "      <td>False</td>\n",
       "      <td>False</td>\n",
       "    </tr>\n",
       "    <tr>\n",
       "      <th>28</th>\n",
       "      <td>8400000</td>\n",
       "      <td>7950</td>\n",
       "      <td>5</td>\n",
       "      <td>2</td>\n",
       "      <td>2</td>\n",
       "      <td>1</td>\n",
       "      <td>0</td>\n",
       "      <td>1</td>\n",
       "      <td>1</td>\n",
       "      <td>0</td>\n",
       "      <td>2</td>\n",
       "      <td>0</td>\n",
       "      <td>False</td>\n",
       "      <td>True</td>\n",
       "    </tr>\n",
       "  </tbody>\n",
       "</table>\n",
       "</div>"
      ],
      "text/plain": [
       "       price  area  bedrooms  bathrooms  stories  mainroad  guestroom  \\\n",
       "359  3710000  3600         3          1        1         1          0   \n",
       "19   8855000  6420         3          2        2         1          0   \n",
       "159  5460000  3150         3          2        1         1          1   \n",
       "35   8080940  7000         3          2        4         1          0   \n",
       "28   8400000  7950         5          2        2         1          0   \n",
       "\n",
       "     basement  hotwaterheating  airconditioning  parking  prefarea  \\\n",
       "359         0                0                0        1         0   \n",
       "19          0                0                1        1         1   \n",
       "159         1                0                1        0         0   \n",
       "35          0                0                1        2         0   \n",
       "28          1                1                0        2         0   \n",
       "\n",
       "     semi-furnished  unfurnished  \n",
       "359           False         True  \n",
       "19             True        False  \n",
       "159           False        False  \n",
       "35            False        False  \n",
       "28            False         True  "
      ]
     },
     "execution_count": 20,
     "metadata": {},
     "output_type": "execute_result"
    }
   ],
   "source": [
    "hp_train.head()"
   ]
  },
  {
   "cell_type": "code",
   "execution_count": 21,
   "id": "b50a6f26",
   "metadata": {
    "execution": {
     "iopub.execute_input": "2024-02-23T23:33:12.335720Z",
     "iopub.status.busy": "2024-02-23T23:33:12.335364Z",
     "iopub.status.idle": "2024-02-23T23:33:12.341980Z",
     "shell.execute_reply": "2024-02-23T23:33:12.340901Z"
    },
    "papermill": {
     "duration": 0.033255,
     "end_time": "2024-02-23T23:33:12.344123",
     "exception": false,
     "start_time": "2024-02-23T23:33:12.310868",
     "status": "completed"
    },
    "tags": []
   },
   "outputs": [
    {
     "data": {
      "text/plain": [
       "(381, 14)"
      ]
     },
     "execution_count": 21,
     "metadata": {},
     "output_type": "execute_result"
    }
   ],
   "source": [
    "hp_train.shape"
   ]
  },
  {
   "cell_type": "code",
   "execution_count": 22,
   "id": "9f0900b0",
   "metadata": {
    "execution": {
     "iopub.execute_input": "2024-02-23T23:33:12.390560Z",
     "iopub.status.busy": "2024-02-23T23:33:12.390208Z",
     "iopub.status.idle": "2024-02-23T23:33:12.396106Z",
     "shell.execute_reply": "2024-02-23T23:33:12.395148Z"
    },
    "papermill": {
     "duration": 0.031468,
     "end_time": "2024-02-23T23:33:12.398252",
     "exception": false,
     "start_time": "2024-02-23T23:33:12.366784",
     "status": "completed"
    },
    "tags": []
   },
   "outputs": [
    {
     "data": {
      "text/plain": [
       "(164, 14)"
      ]
     },
     "execution_count": 22,
     "metadata": {},
     "output_type": "execute_result"
    }
   ],
   "source": [
    "hp_test.shape"
   ]
  },
  {
   "cell_type": "markdown",
   "id": "0e1bd85b",
   "metadata": {
    "papermill": {
     "duration": 0.021957,
     "end_time": "2024-02-23T23:33:12.441729",
     "exception": false,
     "start_time": "2024-02-23T23:33:12.419772",
     "status": "completed"
    },
    "tags": []
   },
   "source": [
    "# Scaling Training Data: MinMaxScaler"
   ]
  },
  {
   "cell_type": "code",
   "execution_count": 23,
   "id": "ffd64cf7",
   "metadata": {
    "execution": {
     "iopub.execute_input": "2024-02-23T23:33:12.490367Z",
     "iopub.status.busy": "2024-02-23T23:33:12.489729Z",
     "iopub.status.idle": "2024-02-23T23:33:12.494850Z",
     "shell.execute_reply": "2024-02-23T23:33:12.494065Z"
    },
    "papermill": {
     "duration": 0.032052,
     "end_time": "2024-02-23T23:33:12.496943",
     "exception": false,
     "start_time": "2024-02-23T23:33:12.464891",
     "status": "completed"
    },
    "tags": []
   },
   "outputs": [],
   "source": [
    "scaler = MinMaxScaler()"
   ]
  },
  {
   "cell_type": "code",
   "execution_count": 24,
   "id": "c08176aa",
   "metadata": {
    "execution": {
     "iopub.execute_input": "2024-02-23T23:33:12.545516Z",
     "iopub.status.busy": "2024-02-23T23:33:12.545140Z",
     "iopub.status.idle": "2024-02-23T23:33:12.550419Z",
     "shell.execute_reply": "2024-02-23T23:33:12.549272Z"
    },
    "papermill": {
     "duration": 0.03217,
     "end_time": "2024-02-23T23:33:12.552730",
     "exception": false,
     "start_time": "2024-02-23T23:33:12.520560",
     "status": "completed"
    },
    "tags": []
   },
   "outputs": [],
   "source": [
    "col_scale = ['area', 'bedrooms', 'bathrooms', 'stories', 'parking', 'price']"
   ]
  },
  {
   "cell_type": "code",
   "execution_count": 25,
   "id": "7d32fbb2",
   "metadata": {
    "execution": {
     "iopub.execute_input": "2024-02-23T23:33:12.601210Z",
     "iopub.status.busy": "2024-02-23T23:33:12.600471Z",
     "iopub.status.idle": "2024-02-23T23:33:12.610870Z",
     "shell.execute_reply": "2024-02-23T23:33:12.609984Z"
    },
    "papermill": {
     "duration": 0.037202,
     "end_time": "2024-02-23T23:33:12.613212",
     "exception": false,
     "start_time": "2024-02-23T23:33:12.576010",
     "status": "completed"
    },
    "tags": []
   },
   "outputs": [],
   "source": [
    "hp_train[col_scale] = scaler.fit_transform(hp_train[col_scale])"
   ]
  },
  {
   "cell_type": "markdown",
   "id": "2c8fcb56",
   "metadata": {
    "papermill": {
     "duration": 0.021702,
     "end_time": "2024-02-23T23:33:12.658264",
     "exception": false,
     "start_time": "2024-02-23T23:33:12.636562",
     "status": "completed"
    },
    "tags": []
   },
   "source": [
    "# Training the Model"
   ]
  },
  {
   "cell_type": "code",
   "execution_count": 26,
   "id": "bd39cdd4",
   "metadata": {
    "execution": {
     "iopub.execute_input": "2024-02-23T23:33:12.703725Z",
     "iopub.status.busy": "2024-02-23T23:33:12.703376Z",
     "iopub.status.idle": "2024-02-23T23:33:12.708552Z",
     "shell.execute_reply": "2024-02-23T23:33:12.707550Z"
    },
    "papermill": {
     "duration": 0.03087,
     "end_time": "2024-02-23T23:33:12.710746",
     "exception": false,
     "start_time": "2024-02-23T23:33:12.679876",
     "status": "completed"
    },
    "tags": []
   },
   "outputs": [],
   "source": [
    "y_train = hp_train.pop('price')\n",
    "x_train = hp_train"
   ]
  },
  {
   "cell_type": "code",
   "execution_count": 27,
   "id": "b9ffb73e",
   "metadata": {
    "execution": {
     "iopub.execute_input": "2024-02-23T23:33:12.755728Z",
     "iopub.status.busy": "2024-02-23T23:33:12.755419Z",
     "iopub.status.idle": "2024-02-23T23:33:12.759538Z",
     "shell.execute_reply": "2024-02-23T23:33:12.758485Z"
    },
    "papermill": {
     "duration": 0.028913,
     "end_time": "2024-02-23T23:33:12.761454",
     "exception": false,
     "start_time": "2024-02-23T23:33:12.732541",
     "status": "completed"
    },
    "tags": []
   },
   "outputs": [],
   "source": [
    "regression = LinearRegression()"
   ]
  },
  {
   "cell_type": "code",
   "execution_count": 28,
   "id": "311d65e5",
   "metadata": {
    "execution": {
     "iopub.execute_input": "2024-02-23T23:33:12.806483Z",
     "iopub.status.busy": "2024-02-23T23:33:12.806097Z",
     "iopub.status.idle": "2024-02-23T23:33:12.833072Z",
     "shell.execute_reply": "2024-02-23T23:33:12.831998Z"
    },
    "papermill": {
     "duration": 0.052024,
     "end_time": "2024-02-23T23:33:12.835023",
     "exception": false,
     "start_time": "2024-02-23T23:33:12.782999",
     "status": "completed"
    },
    "tags": []
   },
   "outputs": [
    {
     "data": {
      "text/html": [
       "<style>#sk-container-id-1 {color: black;background-color: white;}#sk-container-id-1 pre{padding: 0;}#sk-container-id-1 div.sk-toggleable {background-color: white;}#sk-container-id-1 label.sk-toggleable__label {cursor: pointer;display: block;width: 100%;margin-bottom: 0;padding: 0.3em;box-sizing: border-box;text-align: center;}#sk-container-id-1 label.sk-toggleable__label-arrow:before {content: \"▸\";float: left;margin-right: 0.25em;color: #696969;}#sk-container-id-1 label.sk-toggleable__label-arrow:hover:before {color: black;}#sk-container-id-1 div.sk-estimator:hover label.sk-toggleable__label-arrow:before {color: black;}#sk-container-id-1 div.sk-toggleable__content {max-height: 0;max-width: 0;overflow: hidden;text-align: left;background-color: #f0f8ff;}#sk-container-id-1 div.sk-toggleable__content pre {margin: 0.2em;color: black;border-radius: 0.25em;background-color: #f0f8ff;}#sk-container-id-1 input.sk-toggleable__control:checked~div.sk-toggleable__content {max-height: 200px;max-width: 100%;overflow: auto;}#sk-container-id-1 input.sk-toggleable__control:checked~label.sk-toggleable__label-arrow:before {content: \"▾\";}#sk-container-id-1 div.sk-estimator input.sk-toggleable__control:checked~label.sk-toggleable__label {background-color: #d4ebff;}#sk-container-id-1 div.sk-label input.sk-toggleable__control:checked~label.sk-toggleable__label {background-color: #d4ebff;}#sk-container-id-1 input.sk-hidden--visually {border: 0;clip: rect(1px 1px 1px 1px);clip: rect(1px, 1px, 1px, 1px);height: 1px;margin: -1px;overflow: hidden;padding: 0;position: absolute;width: 1px;}#sk-container-id-1 div.sk-estimator {font-family: monospace;background-color: #f0f8ff;border: 1px dotted black;border-radius: 0.25em;box-sizing: border-box;margin-bottom: 0.5em;}#sk-container-id-1 div.sk-estimator:hover {background-color: #d4ebff;}#sk-container-id-1 div.sk-parallel-item::after {content: \"\";width: 100%;border-bottom: 1px solid gray;flex-grow: 1;}#sk-container-id-1 div.sk-label:hover label.sk-toggleable__label {background-color: #d4ebff;}#sk-container-id-1 div.sk-serial::before {content: \"\";position: absolute;border-left: 1px solid gray;box-sizing: border-box;top: 0;bottom: 0;left: 50%;z-index: 0;}#sk-container-id-1 div.sk-serial {display: flex;flex-direction: column;align-items: center;background-color: white;padding-right: 0.2em;padding-left: 0.2em;position: relative;}#sk-container-id-1 div.sk-item {position: relative;z-index: 1;}#sk-container-id-1 div.sk-parallel {display: flex;align-items: stretch;justify-content: center;background-color: white;position: relative;}#sk-container-id-1 div.sk-item::before, #sk-container-id-1 div.sk-parallel-item::before {content: \"\";position: absolute;border-left: 1px solid gray;box-sizing: border-box;top: 0;bottom: 0;left: 50%;z-index: -1;}#sk-container-id-1 div.sk-parallel-item {display: flex;flex-direction: column;z-index: 1;position: relative;background-color: white;}#sk-container-id-1 div.sk-parallel-item:first-child::after {align-self: flex-end;width: 50%;}#sk-container-id-1 div.sk-parallel-item:last-child::after {align-self: flex-start;width: 50%;}#sk-container-id-1 div.sk-parallel-item:only-child::after {width: 0;}#sk-container-id-1 div.sk-dashed-wrapped {border: 1px dashed gray;margin: 0 0.4em 0.5em 0.4em;box-sizing: border-box;padding-bottom: 0.4em;background-color: white;}#sk-container-id-1 div.sk-label label {font-family: monospace;font-weight: bold;display: inline-block;line-height: 1.2em;}#sk-container-id-1 div.sk-label-container {text-align: center;}#sk-container-id-1 div.sk-container {/* jupyter's `normalize.less` sets `[hidden] { display: none; }` but bootstrap.min.css set `[hidden] { display: none !important; }` so we also need the `!important` here to be able to override the default hidden behavior on the sphinx rendered scikit-learn.org. See: https://github.com/scikit-learn/scikit-learn/issues/21755 */display: inline-block !important;position: relative;}#sk-container-id-1 div.sk-text-repr-fallback {display: none;}</style><div id=\"sk-container-id-1\" class=\"sk-top-container\"><div class=\"sk-text-repr-fallback\"><pre>LinearRegression()</pre><b>In a Jupyter environment, please rerun this cell to show the HTML representation or trust the notebook. <br />On GitHub, the HTML representation is unable to render, please try loading this page with nbviewer.org.</b></div><div class=\"sk-container\" hidden><div class=\"sk-item\"><div class=\"sk-estimator sk-toggleable\"><input class=\"sk-toggleable__control sk-hidden--visually\" id=\"sk-estimator-id-1\" type=\"checkbox\" checked><label for=\"sk-estimator-id-1\" class=\"sk-toggleable__label sk-toggleable__label-arrow\">LinearRegression</label><div class=\"sk-toggleable__content\"><pre>LinearRegression()</pre></div></div></div></div></div>"
      ],
      "text/plain": [
       "LinearRegression()"
      ]
     },
     "execution_count": 28,
     "metadata": {},
     "output_type": "execute_result"
    }
   ],
   "source": [
    "regression.fit(x_train, y_train)"
   ]
  },
  {
   "cell_type": "code",
   "execution_count": 29,
   "id": "0664a815",
   "metadata": {
    "execution": {
     "iopub.execute_input": "2024-02-23T23:33:12.883518Z",
     "iopub.status.busy": "2024-02-23T23:33:12.882534Z",
     "iopub.status.idle": "2024-02-23T23:33:12.888477Z",
     "shell.execute_reply": "2024-02-23T23:33:12.887303Z"
    },
    "papermill": {
     "duration": 0.03173,
     "end_time": "2024-02-23T23:33:12.890700",
     "exception": false,
     "start_time": "2024-02-23T23:33:12.858970",
     "status": "completed"
    },
    "tags": []
   },
   "outputs": [
    {
     "name": "stdout",
     "output_type": "stream",
     "text": [
      "[ 0.23466354  0.04673453  0.19082319  0.10851563  0.05044144  0.03042826\n",
      "  0.02159488  0.08486327  0.06688093  0.06073533  0.05942788  0.00092052\n",
      " -0.03100561]\n"
     ]
    }
   ],
   "source": [
    "coefficients = regression.coef_\n",
    "print(coefficients)"
   ]
  },
  {
   "cell_type": "code",
   "execution_count": 30,
   "id": "5944a540",
   "metadata": {
    "execution": {
     "iopub.execute_input": "2024-02-23T23:33:12.938235Z",
     "iopub.status.busy": "2024-02-23T23:33:12.937165Z",
     "iopub.status.idle": "2024-02-23T23:33:12.946473Z",
     "shell.execute_reply": "2024-02-23T23:33:12.945370Z"
    },
    "papermill": {
     "duration": 0.035057,
     "end_time": "2024-02-23T23:33:12.948494",
     "exception": false,
     "start_time": "2024-02-23T23:33:12.913437",
     "status": "completed"
    },
    "tags": []
   },
   "outputs": [
    {
     "name": "stdout",
     "output_type": "stream",
     "text": [
      "0.6814893088451202\n"
     ]
    }
   ],
   "source": [
    "score = regression.score(x_train, y_train)\n",
    "print(score)"
   ]
  },
  {
   "cell_type": "markdown",
   "id": "ac1bee2a",
   "metadata": {
    "papermill": {
     "duration": 0.022101,
     "end_time": "2024-02-23T23:33:12.993970",
     "exception": false,
     "start_time": "2024-02-23T23:33:12.971869",
     "status": "completed"
    },
    "tags": []
   },
   "source": [
    "# Scaling Test Data: MinMaxScaler"
   ]
  },
  {
   "cell_type": "code",
   "execution_count": 31,
   "id": "076687c0",
   "metadata": {
    "execution": {
     "iopub.execute_input": "2024-02-23T23:33:13.042150Z",
     "iopub.status.busy": "2024-02-23T23:33:13.041732Z",
     "iopub.status.idle": "2024-02-23T23:33:13.046374Z",
     "shell.execute_reply": "2024-02-23T23:33:13.045388Z"
    },
    "papermill": {
     "duration": 0.031439,
     "end_time": "2024-02-23T23:33:13.048372",
     "exception": false,
     "start_time": "2024-02-23T23:33:13.016933",
     "status": "completed"
    },
    "tags": []
   },
   "outputs": [],
   "source": [
    "col_scale = ['area', 'bedrooms', 'bathrooms', 'stories', 'parking', 'price']"
   ]
  },
  {
   "cell_type": "code",
   "execution_count": 32,
   "id": "c16d3dfe",
   "metadata": {
    "execution": {
     "iopub.execute_input": "2024-02-23T23:33:13.096499Z",
     "iopub.status.busy": "2024-02-23T23:33:13.095857Z",
     "iopub.status.idle": "2024-02-23T23:33:13.104392Z",
     "shell.execute_reply": "2024-02-23T23:33:13.103646Z"
    },
    "papermill": {
     "duration": 0.035255,
     "end_time": "2024-02-23T23:33:13.106544",
     "exception": false,
     "start_time": "2024-02-23T23:33:13.071289",
     "status": "completed"
    },
    "tags": []
   },
   "outputs": [],
   "source": [
    "hp_test[col_scale] = scaler.fit_transform(hp_test[col_scale])\n"
   ]
  },
  {
   "cell_type": "markdown",
   "id": "e3c0c920",
   "metadata": {
    "papermill": {
     "duration": 0.022925,
     "end_time": "2024-02-23T23:33:13.152819",
     "exception": false,
     "start_time": "2024-02-23T23:33:13.129894",
     "status": "completed"
    },
    "tags": []
   },
   "source": [
    "# Testing our Model"
   ]
  },
  {
   "cell_type": "code",
   "execution_count": 33,
   "id": "72d1e256",
   "metadata": {
    "execution": {
     "iopub.execute_input": "2024-02-23T23:33:13.200520Z",
     "iopub.status.busy": "2024-02-23T23:33:13.200110Z",
     "iopub.status.idle": "2024-02-23T23:33:13.205281Z",
     "shell.execute_reply": "2024-02-23T23:33:13.204155Z"
    },
    "papermill": {
     "duration": 0.032401,
     "end_time": "2024-02-23T23:33:13.207943",
     "exception": false,
     "start_time": "2024-02-23T23:33:13.175542",
     "status": "completed"
    },
    "tags": []
   },
   "outputs": [],
   "source": [
    "y_test = hp_test.pop('price')\n",
    "x_test = hp_test"
   ]
  },
  {
   "cell_type": "code",
   "execution_count": 34,
   "id": "cc9ce770",
   "metadata": {
    "execution": {
     "iopub.execute_input": "2024-02-23T23:33:13.256470Z",
     "iopub.status.busy": "2024-02-23T23:33:13.255749Z",
     "iopub.status.idle": "2024-02-23T23:33:13.262760Z",
     "shell.execute_reply": "2024-02-23T23:33:13.262046Z"
    },
    "papermill": {
     "duration": 0.03348,
     "end_time": "2024-02-23T23:33:13.264866",
     "exception": false,
     "start_time": "2024-02-23T23:33:13.231386",
     "status": "completed"
    },
    "tags": []
   },
   "outputs": [],
   "source": [
    "prediction = regression.predict(x_test)"
   ]
  },
  {
   "cell_type": "markdown",
   "id": "614fca21",
   "metadata": {
    "papermill": {
     "duration": 0.022577,
     "end_time": "2024-02-23T23:33:13.309449",
     "exception": false,
     "start_time": "2024-02-23T23:33:13.286872",
     "status": "completed"
    },
    "tags": []
   },
   "source": [
    "**Checking R Square value**"
   ]
  },
  {
   "cell_type": "code",
   "execution_count": 35,
   "id": "fb7ca4b7",
   "metadata": {
    "execution": {
     "iopub.execute_input": "2024-02-23T23:33:13.357650Z",
     "iopub.status.busy": "2024-02-23T23:33:13.357276Z",
     "iopub.status.idle": "2024-02-23T23:33:13.362781Z",
     "shell.execute_reply": "2024-02-23T23:33:13.361737Z"
    },
    "papermill": {
     "duration": 0.032195,
     "end_time": "2024-02-23T23:33:13.364960",
     "exception": false,
     "start_time": "2024-02-23T23:33:13.332765",
     "status": "completed"
    },
    "tags": []
   },
   "outputs": [],
   "source": [
    "r2 = r2_score(y_test, prediction)"
   ]
  },
  {
   "cell_type": "code",
   "execution_count": 36,
   "id": "3318033b",
   "metadata": {
    "execution": {
     "iopub.execute_input": "2024-02-23T23:33:13.413501Z",
     "iopub.status.busy": "2024-02-23T23:33:13.413127Z",
     "iopub.status.idle": "2024-02-23T23:33:13.418038Z",
     "shell.execute_reply": "2024-02-23T23:33:13.417022Z"
    },
    "papermill": {
     "duration": 0.0326,
     "end_time": "2024-02-23T23:33:13.420915",
     "exception": false,
     "start_time": "2024-02-23T23:33:13.388315",
     "status": "completed"
    },
    "tags": []
   },
   "outputs": [
    {
     "name": "stdout",
     "output_type": "stream",
     "text": [
      "0.5995575338728529\n"
     ]
    }
   ],
   "source": [
    "print(r2)"
   ]
  },
  {
   "cell_type": "markdown",
   "id": "35a9fb0b",
   "metadata": {
    "papermill": {
     "duration": 0.023397,
     "end_time": "2024-02-23T23:33:13.466832",
     "exception": false,
     "start_time": "2024-02-23T23:33:13.443435",
     "status": "completed"
    },
    "tags": []
   },
   "source": [
    "# Comparing the actual and predicted values"
   ]
  },
  {
   "cell_type": "code",
   "execution_count": 37,
   "id": "beaecf1c",
   "metadata": {
    "execution": {
     "iopub.execute_input": "2024-02-23T23:33:13.514129Z",
     "iopub.status.busy": "2024-02-23T23:33:13.513760Z",
     "iopub.status.idle": "2024-02-23T23:33:13.518004Z",
     "shell.execute_reply": "2024-02-23T23:33:13.517200Z"
    },
    "papermill": {
     "duration": 0.030423,
     "end_time": "2024-02-23T23:33:13.520170",
     "exception": false,
     "start_time": "2024-02-23T23:33:13.489747",
     "status": "completed"
    },
    "tags": []
   },
   "outputs": [],
   "source": [
    "y_test.shape\n",
    "y_test_metrics = y_test.values.reshape(-1,1)"
   ]
  },
  {
   "cell_type": "code",
   "execution_count": 38,
   "id": "6c58dccc",
   "metadata": {
    "execution": {
     "iopub.execute_input": "2024-02-23T23:33:13.569097Z",
     "iopub.status.busy": "2024-02-23T23:33:13.568737Z",
     "iopub.status.idle": "2024-02-23T23:33:13.573367Z",
     "shell.execute_reply": "2024-02-23T23:33:13.572495Z"
    },
    "papermill": {
     "duration": 0.031843,
     "end_time": "2024-02-23T23:33:13.575240",
     "exception": false,
     "start_time": "2024-02-23T23:33:13.543397",
     "status": "completed"
    },
    "tags": []
   },
   "outputs": [],
   "source": [
    "data_fram = pd.DataFrame({'actual ':y_test_metrics.flatten(), 'predicted ': prediction.flatten()})"
   ]
  },
  {
   "cell_type": "code",
   "execution_count": 39,
   "id": "4299e154",
   "metadata": {
    "execution": {
     "iopub.execute_input": "2024-02-23T23:33:13.623158Z",
     "iopub.status.busy": "2024-02-23T23:33:13.622486Z",
     "iopub.status.idle": "2024-02-23T23:33:13.633430Z",
     "shell.execute_reply": "2024-02-23T23:33:13.632692Z"
    },
    "papermill": {
     "duration": 0.037258,
     "end_time": "2024-02-23T23:33:13.635476",
     "exception": false,
     "start_time": "2024-02-23T23:33:13.598218",
     "status": "completed"
    },
    "tags": []
   },
   "outputs": [
    {
     "data": {
      "text/html": [
       "<div>\n",
       "<style scoped>\n",
       "    .dataframe tbody tr th:only-of-type {\n",
       "        vertical-align: middle;\n",
       "    }\n",
       "\n",
       "    .dataframe tbody tr th {\n",
       "        vertical-align: top;\n",
       "    }\n",
       "\n",
       "    .dataframe thead th {\n",
       "        text-align: right;\n",
       "    }\n",
       "</style>\n",
       "<table border=\"1\" class=\"dataframe\">\n",
       "  <thead>\n",
       "    <tr style=\"text-align: right;\">\n",
       "      <th></th>\n",
       "      <th>actual</th>\n",
       "      <th>predicted</th>\n",
       "    </tr>\n",
       "  </thead>\n",
       "  <tbody>\n",
       "    <tr>\n",
       "      <th>0</th>\n",
       "      <td>0.247651</td>\n",
       "      <td>0.202410</td>\n",
       "    </tr>\n",
       "    <tr>\n",
       "      <th>1</th>\n",
       "      <td>0.530201</td>\n",
       "      <td>0.374464</td>\n",
       "    </tr>\n",
       "    <tr>\n",
       "      <th>2</th>\n",
       "      <td>0.328859</td>\n",
       "      <td>0.305654</td>\n",
       "    </tr>\n",
       "    <tr>\n",
       "      <th>3</th>\n",
       "      <td>0.261745</td>\n",
       "      <td>0.293786</td>\n",
       "    </tr>\n",
       "    <tr>\n",
       "      <th>4</th>\n",
       "      <td>0.245638</td>\n",
       "      <td>0.258827</td>\n",
       "    </tr>\n",
       "    <tr>\n",
       "      <th>5</th>\n",
       "      <td>0.275168</td>\n",
       "      <td>0.189463</td>\n",
       "    </tr>\n",
       "    <tr>\n",
       "      <th>6</th>\n",
       "      <td>0.644295</td>\n",
       "      <td>0.499099</td>\n",
       "    </tr>\n",
       "    <tr>\n",
       "      <th>7</th>\n",
       "      <td>0.328859</td>\n",
       "      <td>0.297637</td>\n",
       "    </tr>\n",
       "    <tr>\n",
       "      <th>8</th>\n",
       "      <td>0.087248</td>\n",
       "      <td>0.122528</td>\n",
       "    </tr>\n",
       "    <tr>\n",
       "      <th>9</th>\n",
       "      <td>0.395973</td>\n",
       "      <td>0.316860</td>\n",
       "    </tr>\n",
       "  </tbody>\n",
       "</table>\n",
       "</div>"
      ],
      "text/plain": [
       "    actual   predicted \n",
       "0  0.247651    0.202410\n",
       "1  0.530201    0.374464\n",
       "2  0.328859    0.305654\n",
       "3  0.261745    0.293786\n",
       "4  0.245638    0.258827\n",
       "5  0.275168    0.189463\n",
       "6  0.644295    0.499099\n",
       "7  0.328859    0.297637\n",
       "8  0.087248    0.122528\n",
       "9  0.395973    0.316860"
      ]
     },
     "execution_count": 39,
     "metadata": {},
     "output_type": "execute_result"
    }
   ],
   "source": [
    "data_fram.head(10)"
   ]
  },
  {
   "cell_type": "markdown",
   "id": "b23e7801",
   "metadata": {
    "papermill": {
     "duration": 0.023466,
     "end_time": "2024-02-23T23:33:13.682507",
     "exception": false,
     "start_time": "2024-02-23T23:33:13.659041",
     "status": "completed"
    },
    "tags": []
   },
   "source": [
    "# Plotting the Graph"
   ]
  },
  {
   "cell_type": "code",
   "execution_count": 40,
   "id": "50af9d5a",
   "metadata": {
    "execution": {
     "iopub.execute_input": "2024-02-23T23:33:13.731035Z",
     "iopub.status.busy": "2024-02-23T23:33:13.730343Z",
     "iopub.status.idle": "2024-02-23T23:33:14.085666Z",
     "shell.execute_reply": "2024-02-23T23:33:14.084548Z"
    },
    "papermill": {
     "duration": 0.382066,
     "end_time": "2024-02-23T23:33:14.088171",
     "exception": false,
     "start_time": "2024-02-23T23:33:13.706105",
     "status": "completed"
    },
    "tags": []
   },
   "outputs": [
    {
     "data": {
      "text/plain": [
       "Text(0, 0.5, 'Predicted ')"
      ]
     },
     "execution_count": 40,
     "metadata": {},
     "output_type": "execute_result"
    },
    {
     "data": {
      "image/png": "[encoded data removed]",
      "text/plain": [
       "<Figure size 640x480 with 1 Axes>"
      ]
     },
     "metadata": {},
     "output_type": "display_data"
    }
   ],
   "source": [
    "# Creating a new figure\n",
    "fig = plt.figure()\n",
    "\n",
    "# Scatter plot of actual verses predicted values\n",
    "plt.scatter(y_test, prediction, c=\"green\", s=50, marker=\"*\")\n",
    "\n",
    "# Set the title and labels for the plot\n",
    "plt.title('Actual vs Prediction')\n",
    "plt.xlabel('Actual ', fontsize = 10)\n",
    "plt.ylabel('Predicted ', fontsize = 10)"
   ]
  },
  {
   "cell_type": "markdown",
   "id": "5b3a8fd5",
   "metadata": {
    "papermill": {
     "duration": 0.027521,
     "end_time": "2024-02-23T23:33:14.140574",
     "exception": false,
     "start_time": "2024-02-23T23:33:14.113053",
     "status": "completed"
    },
    "tags": []
   },
   "source": [
    "**Mean Squared Error**"
   ]
  },
  {
   "cell_type": "code",
   "execution_count": 41,
   "id": "2abe8677",
   "metadata": {
    "execution": {
     "iopub.execute_input": "2024-02-23T23:33:14.190238Z",
     "iopub.status.busy": "2024-02-23T23:33:14.189837Z",
     "iopub.status.idle": "2024-02-23T23:33:14.196137Z",
     "shell.execute_reply": "2024-02-23T23:33:14.195333Z"
    },
    "papermill": {
     "duration": 0.03377,
     "end_time": "2024-02-23T23:33:14.198460",
     "exception": false,
     "start_time": "2024-02-23T23:33:14.164690",
     "status": "completed"
    },
    "tags": []
   },
   "outputs": [
    {
     "name": "stdout",
     "output_type": "stream",
     "text": [
      " Mean Squared Error :  0.01445184009923834\n"
     ]
    }
   ],
   "source": [
    "from sklearn.metrics import mean_squared_error\n",
    "mse = mean_squared_error(y_test, prediction)\n",
    "print(\" Mean Squared Error : \", mse)"
   ]
  },
  {
   "cell_type": "code",
   "execution_count": 42,
   "id": "192aba2b",
   "metadata": {
    "execution": {
     "iopub.execute_input": "2024-02-23T23:33:14.249912Z",
     "iopub.status.busy": "2024-02-23T23:33:14.249479Z",
     "iopub.status.idle": "2024-02-23T23:33:14.340442Z",
     "shell.execute_reply": "2024-02-23T23:33:14.339433Z"
    },
    "papermill": {
     "duration": 0.119888,
     "end_time": "2024-02-23T23:33:14.343066",
     "exception": false,
     "start_time": "2024-02-23T23:33:14.223178",
     "status": "completed"
    },
    "tags": []
   },
   "outputs": [],
   "source": [
    "from sklearn.neighbors import KNeighborsRegressor\n",
    "from sklearn.tree import DecisionTreeRegressor\n",
    "knn_model = KNeighborsRegressor(n_neighbors = 5)\n",
    "knn_model.fit(x_train, y_train)\n",
    "knn_y_pred = knn_model.predict(x_test)\n",
    "knn_mse = mean_squared_error(y_test, knn_y_pred)\n",
    "knn_r2 = r2_score(y_test, knn_y_pred)"
   ]
  },
  {
   "cell_type": "code",
   "execution_count": 43,
   "id": "adf8d812",
   "metadata": {
    "execution": {
     "iopub.execute_input": "2024-02-23T23:33:14.395126Z",
     "iopub.status.busy": "2024-02-23T23:33:14.394306Z",
     "iopub.status.idle": "2024-02-23T23:33:14.399742Z",
     "shell.execute_reply": "2024-02-23T23:33:14.398586Z"
    },
    "papermill": {
     "duration": 0.034045,
     "end_time": "2024-02-23T23:33:14.402266",
     "exception": false,
     "start_time": "2024-02-23T23:33:14.368221",
     "status": "completed"
    },
    "tags": []
   },
   "outputs": [
    {
     "name": "stdout",
     "output_type": "stream",
     "text": [
      " Mean Squared Error :  0.01672211678431942\n",
      "R Squared :  0.5366509982121971\n"
     ]
    }
   ],
   "source": [
    "print(\" Mean Squared Error : \",knn_mse)\n",
    "print(\"R Squared : \",knn_r2)"
   ]
  },
  {
   "cell_type": "code",
   "execution_count": 44,
   "id": "c4df9631",
   "metadata": {
    "execution": {
     "iopub.execute_input": "2024-02-23T23:33:14.453216Z",
     "iopub.status.busy": "2024-02-23T23:33:14.452842Z",
     "iopub.status.idle": "2024-02-23T23:33:14.468106Z",
     "shell.execute_reply": "2024-02-23T23:33:14.467012Z"
    },
    "papermill": {
     "duration": 0.043689,
     "end_time": "2024-02-23T23:33:14.470526",
     "exception": false,
     "start_time": "2024-02-23T23:33:14.426837",
     "status": "completed"
    },
    "tags": []
   },
   "outputs": [],
   "source": [
    "decision_tree_model = DecisionTreeRegressor(random_state =42)\n",
    "decision_tree_model.fit(x_train, y_train)\n",
    "decision_tree_prediction = decision_tree_model.predict(x_test)"
   ]
  },
  {
   "cell_type": "code",
   "execution_count": 45,
   "id": "6e08a785",
   "metadata": {
    "execution": {
     "iopub.execute_input": "2024-02-23T23:33:14.522866Z",
     "iopub.status.busy": "2024-02-23T23:33:14.522457Z",
     "iopub.status.idle": "2024-02-23T23:33:14.528628Z",
     "shell.execute_reply": "2024-02-23T23:33:14.527696Z"
    },
    "papermill": {
     "duration": 0.034527,
     "end_time": "2024-02-23T23:33:14.530688",
     "exception": false,
     "start_time": "2024-02-23T23:33:14.496161",
     "status": "completed"
    },
    "tags": []
   },
   "outputs": [],
   "source": [
    "decision_tree_mse = mean_squared_error(y_test, decision_tree_prediction)\n",
    "decision_tree_r2 = r2_score(y_test, decision_tree_prediction)"
   ]
  },
  {
   "cell_type": "code",
   "execution_count": 46,
   "id": "4549c067",
   "metadata": {
    "execution": {
     "iopub.execute_input": "2024-02-23T23:33:14.580098Z",
     "iopub.status.busy": "2024-02-23T23:33:14.579762Z",
     "iopub.status.idle": "2024-02-23T23:33:14.584889Z",
     "shell.execute_reply": "2024-02-23T23:33:14.583698Z"
    },
    "papermill": {
     "duration": 0.03224,
     "end_time": "2024-02-23T23:33:14.587005",
     "exception": false,
     "start_time": "2024-02-23T23:33:14.554765",
     "status": "completed"
    },
    "tags": []
   },
   "outputs": [
    {
     "name": "stdout",
     "output_type": "stream",
     "text": [
      "Mean Squared Error :  0.026799030018492542\n",
      "R Squared :  0.25743229950446356\n"
     ]
    }
   ],
   "source": [
    "print(\"Mean Squared Error : \", decision_tree_mse)\n",
    "print(\"R Squared : \", decision_tree_r2)"
   ]
  },
  {
   "cell_type": "code",
   "execution_count": 47,
   "id": "41893868",
   "metadata": {
    "execution": {
     "iopub.execute_input": "2024-02-23T23:33:14.638619Z",
     "iopub.status.busy": "2024-02-23T23:33:14.638211Z",
     "iopub.status.idle": "2024-02-23T23:33:14.825473Z",
     "shell.execute_reply": "2024-02-23T23:33:14.824463Z"
    },
    "papermill": {
     "duration": 0.216406,
     "end_time": "2024-02-23T23:33:14.827950",
     "exception": false,
     "start_time": "2024-02-23T23:33:14.611544",
     "status": "completed"
    },
    "tags": []
   },
   "outputs": [
    {
     "data": {
      "image/png": "[encoded data removed]",
      "text/plain": [
       "<Figure size 1000x600 with 1 Axes>"
      ]
     },
     "metadata": {},
     "output_type": "display_data"
    }
   ],
   "source": [
    "algorithms = ['Linear Regression', 'KNN', 'Decision Tree']\n",
    "r2_scores = [r2, knn_r2, decision_tree_r2]\n",
    "\n",
    "plt.figure(figsize = (10,6))\n",
    "plt.bar(algorithms, r2_scores, color = ['blue', 'green', 'red'])\n",
    "plt.title('R Squared Comparison')\n",
    "plt.xlabel('Algorithms', fontsize = 10)\n",
    "plt.ylabel('R Squared ', fontsize = 10)\n",
    "plt.ylim(0,1)\n",
    "plt.show()"
   ]
  },
  {
   "cell_type": "code",
   "execution_count": 48,
   "id": "66d33725",
   "metadata": {
    "execution": {
     "iopub.execute_input": "2024-02-23T23:33:14.881763Z",
     "iopub.status.busy": "2024-02-23T23:33:14.881375Z",
     "iopub.status.idle": "2024-02-23T23:33:15.115388Z",
     "shell.execute_reply": "2024-02-23T23:33:15.114296Z"
    },
    "papermill": {
     "duration": 0.264092,
     "end_time": "2024-02-23T23:33:15.117861",
     "exception": false,
     "start_time": "2024-02-23T23:33:14.853769",
     "status": "completed"
    },
    "tags": []
   },
   "outputs": [
    {
     "data": {
      "image/png": "[encoded data removed]",
      "text/plain": [
       "<Figure size 1000x600 with 1 Axes>"
      ]
     },
     "metadata": {},
     "output_type": "display_data"
    }
   ],
   "source": [
    "plt.figure(figsize = (10,6))\n",
    "plt.scatter(y_test, knn_y_pred, c=\"blue\", marker = \"*\")\n",
    "plt.title(\" Actual vs Predicted Median House Value\")\n",
    "plt.xlabel(\"Actual Median House Value \", fontsize = 10)\n",
    "plt.ylabel(\" Predicted Median House Value \", fontsize = 10)\n",
    "plt.show()"
   ]
  },
  {
   "cell_type": "markdown",
   "id": "d5d245fe",
   "metadata": {
    "papermill": {
     "duration": 0.024569,
     "end_time": "2024-02-23T23:33:15.168369",
     "exception": false,
     "start_time": "2024-02-23T23:33:15.143800",
     "status": "completed"
    },
    "tags": []
   },
   "source": [
    "**Decision Tree Scatter Graph**"
   ]
  },
  {
   "cell_type": "code",
   "execution_count": 49,
   "id": "c6406698",
   "metadata": {
    "execution": {
     "iopub.execute_input": "2024-02-23T23:33:15.221034Z",
     "iopub.status.busy": "2024-02-23T23:33:15.220188Z",
     "iopub.status.idle": "2024-02-23T23:33:15.444821Z",
     "shell.execute_reply": "2024-02-23T23:33:15.443819Z"
    },
    "papermill": {
     "duration": 0.253631,
     "end_time": "2024-02-23T23:33:15.447405",
     "exception": false,
     "start_time": "2024-02-23T23:33:15.193774",
     "status": "completed"
    },
    "tags": []
   },
   "outputs": [
    {
     "data": {
      "image/png": "[encoded data removed]",
      "text/plain": [
       "<Figure size 1000x600 with 1 Axes>"
      ]
     },
     "metadata": {},
     "output_type": "display_data"
    }
   ],
   "source": [
    "plt.figure(figsize = (10,6))\n",
    "plt.scatter(y_test, decision_tree_prediction, c=\"blue\", marker = \"*\")\n",
    "plt.title(\" Actual vs Predicted Median House Value \")\n",
    "plt.xlabel(\" Actual Median House Value \", fontsize  = 10)\n",
    "plt.ylabel(\" Predicted Median House Value \", fontsize = 10)\n",
    "plt.show()"
   ]
  },
  {
   "cell_type": "code",
   "execution_count": null,
   "id": "818646d7",
   "metadata": {
    "papermill": {
     "duration": 0.0254,
     "end_time": "2024-02-23T23:33:15.499411",
     "exception": false,
     "start_time": "2024-02-23T23:33:15.474011",
     "status": "completed"
    },
    "tags": []
   },
   "outputs": [],
   "source": []
  }
 ],
 "metadata": {
  "kaggle": {
   "accelerator": "none",
   "dataSources": [
    {
     "datasetId": 1859421,
     "sourceId": 3036086,
     "sourceType": "datasetVersion"
    }
   ],
   "dockerImageVersionId": 30646,
   "isGpuEnabled": false,
   "isInternetEnabled": true,
   "language": "python",
   "sourceType": "notebook"
  },
  "kernelspec": {
   "display_name": "Python 3",
   "language": "python",
   "name": "python3"
  },
  "language_info": {
   "codemirror_mode": {
    "name": "ipython",
    "version": 3
   },
   "file_extension": ".py",
   "mimetype": "text/x-python",
   "name": "python",
   "nbconvert_exporter": "python",
   "pygments_lexer": "ipython3",
   "version": "3.11.8"
  },
  "papermill": {
   "default_parameters": {},
   "duration": 9.93484,
   "end_time": "2024-02-23T23:33:16.046735",
   "environment_variables": {},
   "exception": null,
   "input_path": "__notebook__.ipynb",
   "output_path": "__notebook__.ipynb",
   "parameters": {},
   "start_time": "2024-02-23T23:33:06.111895",
   "version": "2.5.0"
  }
 },
 "nbformat": 4,
 "nbformat_minor": 5
}
