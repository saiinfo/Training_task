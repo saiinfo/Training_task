{
 "cells": [
  {
   "cell_type": "markdown",
   "metadata": {},
   "source": [
    "-->Here We define a MyObject class with a method do_something() that simulates some work being done by printing messages  at intervals.\n",
    "-->We define a worker() function that takes an object of MyObject as an argument and calls its do_something() method.\n",
    "-->We create 5 instances of MyObject and store them in a list called objects.\n",
    "-->We create a thread for each object, passing the object itself as an argument to the worker() function.\n",
    "-->Each thread starts its execution, which calls the do_something() method of the corresponding object.\n",
    "-->We wait for all threads to complete their tasks using join().\n",
    "-->Finally, we print a message indicating that all threads have completed their tasks.\n"
   ]
  },
  {
   "cell_type": "code",
   "execution_count": 1,
   "metadata": {},
   "outputs": [
    {
     "name": "stdout",
     "output_type": "stream",
     "text": [
      "Object 1 is doing something...\n",
      "Object 2 is doing something...\n",
      "Object 3 is doing something...\n",
      "Object 4 is doing something...\n",
      "Object 5 is doing something...\n",
      "Object 1 is doing something...\n",
      "Object 2 is doing something...\n",
      "Object 3 is doing something...\n",
      "Object 4 is doing something...\n",
      "Object 5 is doing something...\n",
      "Object 1 is doing something...\n",
      "Object 2 is doing something...\n",
      "Object 3 is doing something...\n",
      "Object 4 is doing something...\n",
      "Object 5 is doing something...\n",
      "Object 1 is doing something...\n",
      "Object 2 is doing something...\n",
      "Object 3 is doing something...\n",
      "Object 4 is doing something...\n",
      "Object 5 is doing something...\n",
      "Object 1 is doing something...\n",
      "Object 2 is doing something...\n",
      "Object 3 is doing something...\n",
      "Object 4 is doing something...\n",
      "Object 5 is doing something...\n",
      "All threads have completed their tasks.\n"
     ]
    }
   ],
   "source": [
    "import threading\n",
    "import time\n",
    "\n",
    "class MyObject:\n",
    "    def __init__(self, name):\n",
    "        self.name = name\n",
    "\n",
    "    def do_something(self):\n",
    "        for i in range(5):\n",
    "            print(f\"{self.name} is doing something...\")\n",
    "            time.sleep(1)\n",
    "\n",
    "\n",
    "def worker(obj):\n",
    "    obj.do_something()\n",
    "\n",
    "\n",
    "# Create 5 objects\n",
    "objects = [MyObject(f\"Object {i}\") for i in range(1, 6)]\n",
    "\n",
    "# Create threads for each object\n",
    "threads = []\n",
    "for obj in objects:\n",
    "    t = threading.Thread(target=worker, args=(obj,))\n",
    "    threads.append(t)\n",
    "    t.start()\n",
    "\n",
    "# Wait for all threads to complete\n",
    "for t in threads:\n",
    "    t.join()\n",
    "\n",
    "print(\"All threads have completed their tasks.\")"
   ]
  },
  {
   "cell_type": "code",
   "execution_count": null,
   "metadata": {},
   "outputs": [],
   "source": []
  }
 ],
 "metadata": {
  "kernelspec": {
   "display_name": "Python 3",
   "language": "python",
   "name": "python3"
  },
  "language_info": {
   "codemirror_mode": {
    "name": "ipython",
    "version": 3
   },
   "file_extension": ".py",
   "mimetype": "text/x-python",
   "name": "python",
   "nbconvert_exporter": "python",
   "pygments_lexer": "ipython3",
   "version": "3.11.8"
  }
 },
 "nbformat": 4,
 "nbformat_minor": 2
}
