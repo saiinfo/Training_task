{
 "cells": [
  {
   "cell_type": "markdown",
   "metadata": {},
   "source": [
    "### Exception Handling:-\n",
    "Exception handling is a programming construct used to deal with errors or exceptional situations that may occur during the execution of a program. In Python, you can handle exceptions using the try, except, else, and finally blocks."
   ]
  },
  {
   "cell_type": "code",
   "execution_count": 1,
   "metadata": {},
   "outputs": [
    {
     "name": "stdout",
     "output_type": "stream",
     "text": [
      "Error: Division by zero\n",
      "Finally block is executed\n",
      "Continuing program execution...\n"
     ]
    }
   ],
   "source": [
    "try:\n",
    "    # Code block where an exception might occur\n",
    "    x = 10 / 0  # This will raise a ZeroDivisionError\n",
    "except ZeroDivisionError:\n",
    "    # Handle the specific exception\n",
    "    print(\"Error: Division by zero\")\n",
    "else:\n",
    "    # Execute if no exception occurs\n",
    "    print(\"No exception occurred\")\n",
    "finally:\n",
    "    # Execute regardless of whether an exception occurred\n",
    "    print(\"Finally block is executed \")\n",
    "\n",
    "print(\"Continuing program execution...\")"
   ]
  },
  {
   "cell_type": "code",
   "execution_count": null,
   "metadata": {},
   "outputs": [],
   "source": []
  }
 ],
 "metadata": {
  "kernelspec": {
   "display_name": "Python 3",
   "language": "python",
   "name": "python3"
  },
  "language_info": {
   "codemirror_mode": {
    "name": "ipython",
    "version": 3
   },
   "file_extension": ".py",
   "mimetype": "text/x-python",
   "name": "python",
   "nbconvert_exporter": "python",
   "pygments_lexer": "ipython3",
   "version": "3.11.8"
  }
 },
 "nbformat": 4,
 "nbformat_minor": 2
}
