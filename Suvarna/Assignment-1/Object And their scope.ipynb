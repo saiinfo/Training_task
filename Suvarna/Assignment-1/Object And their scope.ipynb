{
 "cells": [
  {
   "cell_type": "code",
   "execution_count": 4,
   "metadata": {},
   "outputs": [],
   "source": [
    "class MyClass:\n",
    "    def __init__(self, value):\n",
    "        self.value = value\n",
    "\n",
    "obj = MyClass(10)"
   ]
  },
  {
   "cell_type": "code",
   "execution_count": 5,
   "metadata": {},
   "outputs": [],
   "source": [
    "# Local Scope: Objects created within a function have local scope and can only be accessed within that function."
   ]
  },
  {
   "cell_type": "code",
   "execution_count": 6,
   "metadata": {},
   "outputs": [],
   "source": [
    "def my_function():\n",
    "    x = 10  # x is a local variable\n",
    "    obj = MyClass()  # obj is a local object\n",
    "    # Do something with x and obj\n",
    "\n",
    "# x and obj cannot be accessed here"
   ]
  },
  {
   "cell_type": "code",
   "execution_count": 7,
   "metadata": {},
   "outputs": [],
   "source": [
    "#Global Scope: Objects created at the top-level of a module have global scope and can be accessed from any part of the module."
   ]
  },
  {
   "cell_type": "code",
   "execution_count": 9,
   "metadata": {},
   "outputs": [],
   "source": [
    "y = 20  # y is a global variable\n",
    "obj = MyClass('Smith')  # obj is a global object\n",
    "\n",
    "def my_function():\n",
    "    # Do something with y and obj\n",
    "    pass\n",
    "\n",
    "# y and obj can be accessed here"
   ]
  },
  {
   "cell_type": "code",
   "execution_count": 10,
   "metadata": {},
   "outputs": [],
   "source": [
    "#Module Scope: Objects defined within a module (file) have module scope and can be accessed from any part of the module."
   ]
  },
  {
   "cell_type": "code",
   "execution_count": 14,
   "metadata": {},
   "outputs": [],
   "source": [
    "# module.py\n",
    "z = 30  # z is a module-level variable\n",
    "obj = MyClass(10)  # obj is a module-level object\n",
    "\n",
    "def my_function():\n",
    "    # Do something with z and obj\n",
    "    pass\n",
    "\n",
    "# z and obj can be accessed from other parts of module.py"
   ]
  },
  {
   "cell_type": "code",
   "execution_count": 15,
   "metadata": {},
   "outputs": [],
   "source": [
    "#Class Scope: Objects defined within a class have class scope and can be accessed using instances of the class."
   ]
  },
  {
   "cell_type": "code",
   "execution_count": 28,
   "metadata": {},
   "outputs": [],
   "source": [
    "class MyClass():\n",
    "    class_variable = 40  # class_variable is a class-level variable\n",
    "    \n",
    "    def __init__(self):20"
   ]
  }
 ],
 "metadata": {
  "kernelspec": {
   "display_name": "Python 3",
   "language": "python",
   "name": "python3"
  },
  "language_info": {
   "codemirror_mode": {
    "name": "ipython",
    "version": 3
   },
   "file_extension": ".py",
   "mimetype": "text/x-python",
   "name": "python",
   "nbconvert_exporter": "python",
   "pygments_lexer": "ipython3",
   "version": "3.11.8"
  }
 },
 "nbformat": 4,
 "nbformat_minor": 2
}
