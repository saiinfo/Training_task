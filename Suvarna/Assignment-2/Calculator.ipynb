{
 "cells": [
  {
   "cell_type": "code",
   "execution_count": 1,
   "metadata": {},
   "outputs": [],
   "source": [
    "import tkinter as tk\n",
    "\n",
    "class Calculator:\n",
    "    def __init__(self):\n",
    "        self.root = tk.Tk()\n",
    "        self.root.title(\"Calculator\")\n",
    "        \n",
    "        self.expression = \"\"\n",
    "        self.display_var = tk.StringVar()\n",
    "        \n",
    "        self.create_widgets()\n",
    "        \n",
    "        self.root.mainloop()\n",
    "    \n",
    "    def create_widgets(self):\n",
    "        # Display\n",
    "        display = tk.Entry(self.root, textvariable=self.display_var, font=(\"Arial\", 20), bd=10, insertwidth=4, width=14, justify=\"right\")\n",
    "        display.grid(row=0, column=0, columnspan=4)\n",
    "        \n",
    "        # Buttons\n",
    "        buttons = [\n",
    "            ('7', 1, 0), ('8', 1, 1), ('9', 1, 2), ('/', 1, 3),\n",
    "            ('4', 2, 0), ('5', 2, 1), ('6', 2, 2), ('*', 2, 3),\n",
    "            ('1', 3, 0), ('2', 3, 1), ('3', 3, 2), ('-', 3, 3),\n",
    "            ('C', 4, 0), ('0', 4, 1), ('=', 4, 2), ('+', 4, 3),\n",
    "        ]\n",
    "        \n",
    "        for (text, row, col) in buttons:\n",
    "            button = tk.Button(self.root, text=text, font=(\"Arial\", 16), padx=20, pady=20, command=lambda t=text: self.on_button_click(t))\n",
    "            button.grid(row=row, column=col)\n",
    "    \n",
    "    def on_button_click(self, text):\n",
    "        if text == 'C':\n",
    "            self.expression = \"\"\n",
    "        elif text == '=':\n",
    "            try:\n",
    "                self.expression = str(eval(self.expression))\n",
    "            except:\n",
    "                self.expression = \"Error\"\n",
    "        else:\n",
    "            self.expression += text\n",
    "        \n",
    "        self.display_var.set(self.expression)\n",
    "\n",
    "if __name__ == \"__main__\":\n",
    "    calculator = Calculator()"
   ]
  },
  {
   "cell_type": "code",
   "execution_count": null,
   "metadata": {},
   "outputs": [],
   "source": []
  }
 ],
 "metadata": {
  "kernelspec": {
   "display_name": "Python 3",
   "language": "python",
   "name": "python3"
  },
  "language_info": {
   "codemirror_mode": {
    "name": "ipython",
    "version": 3
   },
   "file_extension": ".py",
   "mimetype": "text/x-python",
   "name": "python",
   "nbconvert_exporter": "python",
   "pygments_lexer": "ipython3",
   "version": "3.11.8"
  }
 },
 "nbformat": 4,
 "nbformat_minor": 2
}
