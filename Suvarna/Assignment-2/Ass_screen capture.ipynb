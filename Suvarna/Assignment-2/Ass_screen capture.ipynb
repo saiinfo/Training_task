{
 "cells": [
  {
   "cell_type": "code",
   "execution_count": 1,
   "metadata": {},
   "outputs": [],
   "source": [
    "import tkinter as tk\n",
    "import subprocess\n",
    "from datetime import datetime\n",
    "\n",
    "root = tk.Tk()\n",
    "canvas1 = tk.Canvas(root, width=400, height=200)\n",
    "canvas1.pack()\n",
    "file_path=r\"C:\\Users\\DC9890364443\"\n",
    "def takeScreenshot():\n",
    "    timestamp = datetime.now().strftime('%Y-%m-%d-%H-%M-%S')\n",
    "    file_path = f'screenshot_{timestamp}.png'\n",
    "    \n",
    "    try:\n",
    "        subprocess.run(['screencapture', file_path])\n",
    "        print(f'Screenshot saved to {file_path}')\n",
    "    except Exception as e:\n",
    "        print(f'Error: {e}')\n",
    "\n",
    "myButton = tk.Button(text='Take Screenshot', command=takeScreenshot, bg='green', fg='white', font=10)\n",
    "\n",
    "canvas1.create_window(200, 100, window=myButton)\n",
    "\n",
    "root.mainloop()\n"
   ]
  }
 ],
 "metadata": {
  "kernelspec": {
   "display_name": "base",
   "language": "python",
   "name": "python3"
  },
  "language_info": {
   "codemirror_mode": {
    "name": "ipython",
    "version": 3
   },
   "file_extension": ".py",
   "mimetype": "text/x-python",
   "name": "python",
   "nbconvert_exporter": "python",
   "pygments_lexer": "ipython3",
   "version": "3.11.8"
  }
 },
 "nbformat": 4,
 "nbformat_minor": 2
}
